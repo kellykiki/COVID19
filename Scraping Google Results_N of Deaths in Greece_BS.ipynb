{
 "cells": [
  {
   "cell_type": "code",
   "execution_count": 1,
   "metadata": {},
   "outputs": [
    {
     "name": "stderr",
     "output_type": "stream",
     "text": [
      "C:\\Users\\k.kiki\\AppData\\Local\\Programs\\Python\\Python37-32\\lib\\site-packages\\ipykernel_launcher.py:11: UserWarning: Warning Simulation\n",
      "  # This is added back by InteractiveShellApp.init_path()\n"
     ]
    }
   ],
   "source": [
    "import pandas as pd\n",
    "import re\n",
    "import requests\n",
    "from requests import get\n",
    "from bs4 import BeautifulSoup\n",
    "import warnings\n",
    "from time import sleep\n",
    "from random import randint\n",
    "from time import time\n",
    "timestart_time = time()\n",
    "warnings.warn('Warning Simulation')\n",
    "from IPython.core.display import clear_output"
   ]
  },
  {
   "cell_type": "code",
   "execution_count": 2,
   "metadata": {},
   "outputs": [],
   "source": [
    "pd.set_option('display.max_colwidth', -1)\n",
    "pd.set_option('display.max_rows', 500)\n",
    "pd.set_option('display.max_columns', 500)\n",
    "pd.set_option('display.width', 1000)"
   ]
  },
  {
   "cell_type": "code",
   "execution_count": 3,
   "metadata": {},
   "outputs": [
    {
     "data": {
      "text/plain": [
       "<Response [200]>"
      ]
     },
     "execution_count": 3,
     "metadata": {},
     "output_type": "execute_result"
    }
   ],
   "source": [
    "raw_html = requests.get('https://www.google.com/search?q=%CE%BD%CE%B5%CE%BA%CF%81%CE%BF%CE%B9+%CE%B5%CE%BB%CE%BB%CE%B1%CE%B4%CE%B1&rlz=1C1GCEU_enGR865GR865&source=lnt&tbs=qdr:h&sa=X&ved=2ahUKEwiPz5_krb3pAhV6D2MBHTRzCBMQpwV6BAgLEBw&biw=1036&bih=674')\n",
    "raw_html"
   ]
  },
  {
   "cell_type": "code",
   "execution_count": 4,
   "metadata": {},
   "outputs": [
    {
     "data": {
      "text/html": [
       "<div>\n",
       "<style scoped>\n",
       "    .dataframe tbody tr th:only-of-type {\n",
       "        vertical-align: middle;\n",
       "    }\n",
       "\n",
       "    .dataframe tbody tr th {\n",
       "        vertical-align: top;\n",
       "    }\n",
       "\n",
       "    .dataframe thead th {\n",
       "        text-align: right;\n",
       "    }\n",
       "</style>\n",
       "<table border=\"1\" class=\"dataframe\">\n",
       "  <thead>\n",
       "    <tr style=\"text-align: right;\">\n",
       "      <th></th>\n",
       "      <th>result</th>\n",
       "      <th>deaths</th>\n",
       "      <th>source</th>\n",
       "    </tr>\n",
       "  </thead>\n",
       "  <tbody>\n",
       "    <tr>\n",
       "      <td>0</td>\n",
       "      <td>ΚΟΣΜΟΣ | ΕΙΔΗΣΕΙΣ | in.grhttps://www.in.gr › worldπριν από 4 λεπτά · ... Αυξάνονται συνεχώς τα κρούσματα στην Ινδία – Πάνω από 3.000 οι νεκροί ... Άνοιγμα συνόρων: Συμφωνία Ελλάδας με άλλες εννέα χώρες για τον τουρισμό ...</td>\n",
       "      <td>NaN</td>\n",
       "      <td>in</td>\n",
       "    </tr>\n",
       "    <tr>\n",
       "      <td>1</td>\n",
       "      <td>Κοροναϊός: Πάνω από 8.000 οι νεκροί στη Γερμανία - 72 θάνατοι σε ...https://www.in.gr › Κόσμοςπριν από 51 λεπτά · Κοροναϊός: Πάνω από 8.000 οι νεκροί στη Γερμανία – 72 θάνατοι σε 24ωρες ... γαλλογερμανική πρόταση για το Ταμείο Ανάκαμψης Έπαινοι στην Ελλάδα από τον  ...</td>\n",
       "      <td>NaN</td>\n",
       "      <td>in</td>\n",
       "    </tr>\n",
       "    <tr>\n",
       "      <td>2</td>\n",
       "      <td>Κορωνοϊός-Γερμανία: Ξεπέρασαν τους 8.000 οι νεκροί από την ...https://www.iefimerida.gr › kosmos › koronoios-germania-xeperasan-toys-...πριν από 58 λεπτά · ... προηγούμενες 24 ώρες στη Γερμανία, με το σύνολο των θυμάτων της πανδημίας να ανέρχεται σε 8.007. | ΚΟΣΜΟΣ | iefimerida.gr | Γερμανία, Κορωνοϊός , νεκροί.</td>\n",
       "      <td>NaN</td>\n",
       "      <td>iefimerida</td>\n",
       "    </tr>\n",
       "    <tr>\n",
       "      <td>3</td>\n",
       "      <td>Νεκροί βρέθηκαν ηθοποιός του Twilight και η σύντροφός του ...https://www.iefimerida.gr › zoi › nekroi-brethikan-ithopoios-toy-twilight-k...πριν από 33 λεπτά · Νεκροί βρέθηκαν ο ηθοποιός Gregory Tyree Boyce που έγινε γνωστός από τη συμμετοχή του στο Twilight, και η φίλη του Natalie Adepoju. | ΖΩΗ | iefimerida.gr  ...</td>\n",
       "      <td>NaN</td>\n",
       "      <td>iefimerida</td>\n",
       "    </tr>\n",
       "    <tr>\n",
       "      <td>4</td>\n",
       "      <td>Κορωνοϊός - COVID-19https://longform.protothema.gr › koronoiosπριν από 59 λεπτά · Κορωνοϊός στην Ελλάδα: Χαμόγελα για τις πρώτες δύο εβδομάδες επιστροφής στην ... Κορωνοϊός - Λατινική Αμερική: Οι νεκροί ξεπέρασαν τους 30.000.</td>\n",
       "      <td>NaN</td>\n",
       "      <td>NaN</td>\n",
       "    </tr>\n",
       "    <tr>\n",
       "      <td>5</td>\n",
       "      <td>Κορονοϊός - Γερμανία: άλλοι 72 νεκροί σε ένα 24ωρο, συνολικά πάνω ...https://www.thetoc.gr › koinwnia › article › koronoios---germania-alloi-72...πριν από 31 λεπτά · Κορονοϊός - Γερμανία: άλλοι 72 νεκροί σε ένα 24ωρο, συνολικά πάνω από 7.000 στη χώρα. Ο ημερήσιος απολογισμός θανάτων είναι υψηλότερος από αυτόν που ...</td>\n",
       "      <td>NaN</td>\n",
       "      <td>thetoc</td>\n",
       "    </tr>\n",
       "    <tr>\n",
       "      <td>6</td>\n",
       "      <td>Νέα για: ΗΠΑ | naftemporiki.grhttps://www.naftemporiki.gr › tag › ipaπριν από 18 λεπτά · ΗΠΑ: 88.730 οι νεκροί από τον Covid-19 ... ΗΠΑ: 1.754 νεκροί σε 24 ώρες εξαιτίας της πανδημίας. Ημερήσιος ... 18/05/2020euronews (στα ελληνικά) ...</td>\n",
       "      <td>NaN</td>\n",
       "      <td>naftemporiki</td>\n",
       "    </tr>\n",
       "    <tr>\n",
       "      <td>7</td>\n",
       "      <td>Τελευταίες Ειδήσεις | Ροή - ANT1Newshttps://www.ant1news.gr › latestπριν από 15 λεπτά · Φίλης για Αμβρόσιο: Είναι δυνατόν η Εκκλησία να μιλά ακόμα για αφορισμό; · Κορονοϊός: μακραίνει η λίστα των νεκρών στην Ελλάδα · Υγεία - Περιβάλλον14:59  ...</td>\n",
       "      <td>NaN</td>\n",
       "      <td>ant1news</td>\n",
       "    </tr>\n",
       "    <tr>\n",
       "      <td>8</td>\n",
       "      <td>CNN.gr: Έκτακτη επικαιρότητα, Ειδήσεις, Ελλάδα, Κόσμος, Πολιτική ...https://www.cnn.grπριν από 21 λεπτά · ... οι εξελίξεις και τα τελευταία νέα από την Ελλάδα και τον Κόσμο για Πολιτική, Οικονομία, Σπορ, Πολιτισμό, ... ΗΠΑ: Κάτω από 800 οι νεκροί το τελευταίο 24ωρο.</td>\n",
       "      <td>800.0</td>\n",
       "      <td>cnn</td>\n",
       "    </tr>\n",
       "    <tr>\n",
       "      <td>9</td>\n",
       "      <td>Covid-19: Ξεπέρασαν τους 8.000 οι νεκροί από την πανδημία στη ...https://www.athina984.gr › 2020/05/19 › covid-19-xeperasan-toys-8-000-...πριν από 41 λεπτά · Ο ημερήσιος απολογισμός θανάτων είναι υψηλότερος από αυτόν που καταγραφόταν μία ημέρα νωρίτερα, όπως και ο αριθμός των νέων κρουσμάτων ( ήταν 21 και ...</td>\n",
       "      <td>NaN</td>\n",
       "      <td>athina984</td>\n",
       "    </tr>\n",
       "  </tbody>\n",
       "</table>\n",
       "</div>"
      ],
      "text/plain": [
       "                                                                                                                                                                                                                                                                                                                           result  deaths        source\n",
       "0  ΚΟΣΜΟΣ | ΕΙΔΗΣΕΙΣ | in.grhttps://www.in.gr › worldπριν από 4 λεπτά · ... Αυξάνονται συνεχώς τα κρούσματα στην Ινδία – Πάνω από 3.000 οι νεκροί ... Άνοιγμα συνόρων: Συμφωνία Ελλάδας με άλλες εννέα χώρες για τον τουρισμό ...                                                                                                 NaN      in          \n",
       "1  Κοροναϊός: Πάνω από 8.000 οι νεκροί στη Γερμανία - 72 θάνατοι σε ...https://www.in.gr › Κόσμοςπριν από 51 λεπτά · Κοροναϊός: Πάνω από 8.000 οι νεκροί στη Γερμανία – 72 θάνατοι σε 24ωρες ... γαλλογερμανική πρόταση για το Ταμείο Ανάκαμψης Έπαινοι στην Ελλάδα από τον  ...                                                  NaN      in          \n",
       "2  Κορωνοϊός-Γερμανία: Ξεπέρασαν τους 8.000 οι νεκροί από την ...https://www.iefimerida.gr › kosmos › koronoios-germania-xeperasan-toys-...πριν από 58 λεπτά · ... προηγούμενες 24 ώρες στη Γερμανία, με το σύνολο των θυμάτων της πανδημίας να ανέρχεται σε 8.007. | ΚΟΣΜΟΣ | iefimerida.gr | Γερμανία, Κορωνοϊός , νεκροί.      NaN      iefimerida  \n",
       "3  Νεκροί βρέθηκαν ηθοποιός του Twilight και η σύντροφός του ...https://www.iefimerida.gr › zoi › nekroi-brethikan-ithopoios-toy-twilight-k...πριν από 33 λεπτά · Νεκροί βρέθηκαν ο ηθοποιός Gregory Tyree Boyce που έγινε γνωστός από τη συμμετοχή του στο Twilight, και η φίλη του Natalie Adepoju. | ΖΩΗ | iefimerida.gr  ...  NaN      iefimerida  \n",
       "4  Κορωνοϊός - COVID-19https://longform.protothema.gr › koronoiosπριν από 59 λεπτά · Κορωνοϊός στην Ελλάδα: Χαμόγελα για τις πρώτες δύο εβδομάδες επιστροφής στην ... Κορωνοϊός - Λατινική Αμερική: Οι νεκροί ξεπέρασαν τους 30.000.                                                                                              NaN      NaN         \n",
       "5  Κορονοϊός - Γερμανία: άλλοι 72 νεκροί σε ένα 24ωρο, συνολικά πάνω ...https://www.thetoc.gr › koinwnia › article › koronoios---germania-alloi-72...πριν από 31 λεπτά · Κορονοϊός - Γερμανία: άλλοι 72 νεκροί σε ένα 24ωρο, συνολικά πάνω από 7.000 στη χώρα. Ο ημερήσιος απολογισμός θανάτων είναι υψηλότερος από αυτόν που ... NaN      thetoc      \n",
       "6  Νέα για: ΗΠΑ | naftemporiki.grhttps://www.naftemporiki.gr › tag › ipaπριν από 18 λεπτά · ΗΠΑ: 88.730 οι νεκροί από τον Covid-19 ... ΗΠΑ: 1.754 νεκροί σε 24 ώρες εξαιτίας της πανδημίας. Ημερήσιος ... 18/05/2020euronews (στα ελληνικά) ...                                                                                   NaN      naftemporiki\n",
       "7  Τελευταίες Ειδήσεις | Ροή - ANT1Newshttps://www.ant1news.gr › latestπριν από 15 λεπτά · Φίλης για Αμβρόσιο: Είναι δυνατόν η Εκκλησία να μιλά ακόμα για αφορισμό; · Κορονοϊός: μακραίνει η λίστα των νεκρών στην Ελλάδα · Υγεία - Περιβάλλον14:59  ...                                                                          NaN      ant1news    \n",
       "8  CNN.gr: Έκτακτη επικαιρότητα, Ειδήσεις, Ελλάδα, Κόσμος, Πολιτική ...https://www.cnn.grπριν από 21 λεπτά · ... οι εξελίξεις και τα τελευταία νέα από την Ελλάδα και τον Κόσμο για Πολιτική, Οικονομία, Σπορ, Πολιτισμό, ... ΗΠΑ: Κάτω από 800 οι νεκροί το τελευταίο 24ωρο.                                                      800.0   cnn         \n",
       "9  Covid-19: Ξεπέρασαν τους 8.000 οι νεκροί από την πανδημία στη ...https://www.athina984.gr › 2020/05/19 › covid-19-xeperasan-toys-8-000-...πριν από 41 λεπτά · Ο ημερήσιος απολογισμός θανάτων είναι υψηλότερος από αυτόν που καταγραφόταν μία ημέρα νωρίτερα, όπως και ο αριθμός των νέων κρουσμάτων ( ήταν 21 και ...         NaN      athina984   "
      ]
     },
     "execution_count": 4,
     "metadata": {},
     "output_type": "execute_result"
    }
   ],
   "source": [
    "soup = BeautifulSoup(raw_html.content, \"html.parser\") \n",
    "# print(soup.prettify())\n",
    "# html=list(soup.children)[1]\n",
    "# container = list(html.children)[1]\n",
    "# box = list(container.children)[1]\n",
    "# results = box.find_all('div',{'class':'ZINbbc xpd O9g5cc uUPGi'})\n",
    "\n",
    "results = list(list(list(soup.children)[1].children)[1].children)[1]\\\n",
    "            .find_all('div',{'class':'ZINbbc xpd O9g5cc uUPGi'})\n",
    "\n",
    "table = []\n",
    "\n",
    "for result in results:\n",
    "    entries = {}\n",
    "    entries['result'] = result.text\n",
    "    \n",
    "    table.append(entries)\n",
    "\n",
    "df = pd.DataFrame (table)\n",
    "\n",
    "df['deaths'] = df.result.str.extract(r'\\s+(\\d\\d\\d)\\s+(?:.*?οι\\s+νεκροί|.*?τα\\s+θύματα|οι\\s+θάνατοι)')\\\n",
    "                .astype(float)\n",
    "df['source'] = df.result.str.extract(r'.*www[.](\\w+)[.]')\n",
    "df"
   ]
  },
  {
   "cell_type": "code",
   "execution_count": 5,
   "metadata": {},
   "outputs": [
    {
     "name": "stdout",
     "output_type": "stream",
     "text": [
      "To be confirmed: It seems we currently count 800.0 deaths. Source:  8    cnn\n",
      "Name: source, dtype: object\n"
     ]
    }
   ],
   "source": [
    "greece = pd.read_csv('https://raw.githubusercontent.com/iMEdD-Lab/open-data/master/COVID-19/greece.csv')\n",
    "# greece.head()\n",
    "\n",
    "if greece.dead.sum() < df.deaths.max() and df[df.deaths == df.deaths.max()].deaths.count() > 2:\n",
    "    print('Breaking: It seems we currently count '+str(df.deaths.max())+' deaths',df[df.deaths == df.deaths.max()].source)\n",
    "elif greece.dead.sum() < df.deaths.max() and df[df.deaths == df.deaths.max()].deaths.count() <= 2:\n",
    "    print('To be confirmed: It seems we currently count '+str(df.deaths.max())+' deaths. Source: ',df[df.deaths == df.deaths.max()].source)\n",
    "else:\n",
    "    print('Cool: You are updated!')"
   ]
  },
  {
   "cell_type": "code",
   "execution_count": 6,
   "metadata": {},
   "outputs": [
    {
     "data": {
      "text/html": [
       "<div>\n",
       "<style scoped>\n",
       "    .dataframe tbody tr th:only-of-type {\n",
       "        vertical-align: middle;\n",
       "    }\n",
       "\n",
       "    .dataframe tbody tr th {\n",
       "        vertical-align: top;\n",
       "    }\n",
       "\n",
       "    .dataframe thead th {\n",
       "        text-align: right;\n",
       "    }\n",
       "</style>\n",
       "<table border=\"1\" class=\"dataframe\">\n",
       "  <thead>\n",
       "    <tr style=\"text-align: right;\">\n",
       "      <th></th>\n",
       "      <th>result</th>\n",
       "      <th>deaths</th>\n",
       "      <th>source</th>\n",
       "    </tr>\n",
       "  </thead>\n",
       "  <tbody>\n",
       "    <tr>\n",
       "      <td>8</td>\n",
       "      <td>CNN.gr: Έκτακτη επικαιρότητα, Ειδήσεις, Ελλάδα, Κόσμος, Πολιτική ...https://www.cnn.grπριν από 21 λεπτά · ... οι εξελίξεις και τα τελευταία νέα από την Ελλάδα και τον Κόσμο για Πολιτική, Οικονομία, Σπορ, Πολιτισμό, ... ΗΠΑ: Κάτω από 800 οι νεκροί το τελευταίο 24ωρο.</td>\n",
       "      <td>800.0</td>\n",
       "      <td>cnn</td>\n",
       "    </tr>\n",
       "  </tbody>\n",
       "</table>\n",
       "</div>"
      ],
      "text/plain": [
       "                                                                                                                                                                                                                                                                       result  deaths source\n",
       "8  CNN.gr: Έκτακτη επικαιρότητα, Ειδήσεις, Ελλάδα, Κόσμος, Πολιτική ...https://www.cnn.grπριν από 21 λεπτά · ... οι εξελίξεις και τα τελευταία νέα από την Ελλάδα και τον Κόσμο για Πολιτική, Οικονομία, Σπορ, Πολιτισμό, ... ΗΠΑ: Κάτω από 800 οι νεκροί το τελευταίο 24ωρο.  800.0   cnn  "
      ]
     },
     "execution_count": 6,
     "metadata": {},
     "output_type": "execute_result"
    }
   ],
   "source": [
    "df[df.deaths == df.deaths.max()]"
   ]
  },
  {
   "cell_type": "code",
   "execution_count": null,
   "metadata": {},
   "outputs": [],
   "source": []
  }
 ],
 "metadata": {
  "kernelspec": {
   "display_name": "Python 3",
   "language": "python",
   "name": "python3"
  },
  "language_info": {
   "codemirror_mode": {
    "name": "ipython",
    "version": 3
   },
   "file_extension": ".py",
   "mimetype": "text/x-python",
   "name": "python",
   "nbconvert_exporter": "python",
   "pygments_lexer": "ipython3",
   "version": "3.7.4"
  }
 },
 "nbformat": 4,
 "nbformat_minor": 2
}
