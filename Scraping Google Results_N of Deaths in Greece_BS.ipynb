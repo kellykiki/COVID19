{
 "cells": [
  {
   "cell_type": "code",
   "execution_count": 1,
   "metadata": {},
   "outputs": [
    {
     "name": "stderr",
     "output_type": "stream",
     "text": [
      "C:\\Users\\k.kiki\\AppData\\Local\\Programs\\Python\\Python37-32\\lib\\site-packages\\ipykernel_launcher.py:11: UserWarning: Warning Simulation\n",
      "  # This is added back by InteractiveShellApp.init_path()\n"
     ]
    }
   ],
   "source": [
    "import pandas as pd\n",
    "import re\n",
    "import requests\n",
    "from requests import get\n",
    "from bs4 import BeautifulSoup\n",
    "import warnings\n",
    "from time import sleep\n",
    "from random import randint\n",
    "from time import time\n",
    "timestart_time = time()\n",
    "warnings.warn('Warning Simulation')\n",
    "from IPython.core.display import clear_output"
   ]
  },
  {
   "cell_type": "code",
   "execution_count": 2,
   "metadata": {},
   "outputs": [],
   "source": [
    "pd.set_option('display.max_colwidth', -1)\n",
    "pd.set_option('display.max_rows', 500)\n",
    "pd.set_option('display.max_columns', 500)\n",
    "pd.set_option('display.width', 1000)"
   ]
  },
  {
   "cell_type": "code",
   "execution_count": 3,
   "metadata": {},
   "outputs": [
    {
     "data": {
      "text/plain": [
       "<Response [200]>"
      ]
     },
     "execution_count": 3,
     "metadata": {},
     "output_type": "execute_result"
    }
   ],
   "source": [
    "raw_html = requests.get('https://www.google.com/search?q=%CE%BD%CE%B5%CE%BA%CF%81%CE%BF%CE%B9+%CE%B5%CE%BB%CE%BB%CE%B1%CE%B4%CE%B1&rlz=1C1GCEU_enGR865GR865&source=lnt&tbs=qdr:h&sa=X&ved=2ahUKEwiPz5_krb3pAhV6D2MBHTRzCBMQpwV6BAgLEBw&biw=1036&bih=674')\n",
    "raw_html"
   ]
  },
  {
   "cell_type": "code",
   "execution_count": 4,
   "metadata": {},
   "outputs": [
    {
     "data": {
      "text/html": [
       "<div>\n",
       "<style scoped>\n",
       "    .dataframe tbody tr th:only-of-type {\n",
       "        vertical-align: middle;\n",
       "    }\n",
       "\n",
       "    .dataframe tbody tr th {\n",
       "        vertical-align: top;\n",
       "    }\n",
       "\n",
       "    .dataframe thead th {\n",
       "        text-align: right;\n",
       "    }\n",
       "</style>\n",
       "<table border=\"1\" class=\"dataframe\">\n",
       "  <thead>\n",
       "    <tr style=\"text-align: right;\">\n",
       "      <th></th>\n",
       "      <th>result</th>\n",
       "      <th>deaths</th>\n",
       "    </tr>\n",
       "  </thead>\n",
       "  <tbody>\n",
       "    <tr>\n",
       "      <td>0</td>\n",
       "      <td>Κορωνοϊός: Αισιοδοξία στην Ιταλία - Λιγότεροι από 100 οι νεκροί το ...https://www.cnn.gr › news › kosmos › story › koronoios-aisiodoxia-stin-ita...πριν από 12 λεπτά · Ειδήσεις - Μεγάλη είναι μείωση των κρουσμάτων και του αριθμού των νεκρών ... Κορωνοϊός: Αισιοδοξία στην Ιταλία - Λιγότεροι από 100 οι νεκροί το τελευταίο 24ωρο ... Η Ελλάδα θέλει να κεφαλοποιήσει την πετυχημένη διαχείριση της πανδημίας.</td>\n",
       "      <td>100.0</td>\n",
       "    </tr>\n",
       "    <tr>\n",
       "      <td>1</td>\n",
       "      <td>Κορωνοϊός: Κάτω από 100 οι νεκροί στην Ιταλία, για πρώτη φορά - Lifohttps://www.lifo.gr › ΕΙΔΗΣΕΙΣ › Διεθνήπριν από 17 λεπτά · Μεγάλη μείωση του αριθμού των κρουσμάτων και του αριθμού των νεκρών ... περιστατικών κορωνοϊού στην Ιταλία είναι 225.886 Οι νεκροί έφτασαν τους 32.007 ... Ο άνθρωπος που ανέδειξε τον κλάδο της ανοσολογίας στην Ελλάδα μιλά στη LIFO.</td>\n",
       "      <td>100.0</td>\n",
       "    </tr>\n",
       "    <tr>\n",
       "      <td>2</td>\n",
       "      <td>νεκροί | Η Εφημερίδα των Συντακτών - efsynhttps://www.efsyn.gr › nekroiπριν από 28 λεπτά · Κορoνοϊός: 164 οι νεκροί στην Ελλάδα. Μεγαλώνει η λίστα των θυμάτων Covid-19 στη χώρα μας. Σύμφωνα με πληροφορίες, ένας 71χρονος κατέληξε στο ...</td>\n",
       "      <td>164.0</td>\n",
       "    </tr>\n",
       "    <tr>\n",
       "      <td>3</td>\n",
       "      <td>Κορωνοϊός - Ιταλία: Οι λιγότεροι νεκροί εδώ και δύο μήνες | ΣΚΑΪ - Skaihttps://www.skai.gr › Υγείαπριν από 39 λεπτά · Ο αριθμός των θυμάτων με κορωνοϊό στην Ιταλία έπεσε τη Δευτέρα κάτω από τους 100 νεκρούς, δηλαδή 99, για πρώτη φορά από τις 9 Μαρτίου (οπότε υπήρχαν ...</td>\n",
       "      <td>NaN</td>\n",
       "    </tr>\n",
       "    <tr>\n",
       "      <td>4</td>\n",
       "      <td>Ελλάδα | Sofokleousinhttps://www.sofokleousin.gr › category › elladaπριν από 4 λεπτά · Κορονοϊός: 2 νέα κρούσματα και 2 νεκροί. Μόλις 2 νέα ... Ελλάδα-κορονοϊός: Έχασε τη μάχη 66χρονη στο ΝΙΜΤΣ - Στα 165 τα θύματα. Έχασε τη μάχη με τον ...</td>\n",
       "      <td>165.0</td>\n",
       "    </tr>\n",
       "    <tr>\n",
       "      <td>5</td>\n",
       "      <td>Πανδημία του κορονοϊού στην Ελλάδα το 2020 - Βικιπαίδειαhttps://el.wikipedia.org › wiki › Πανδημία_του_κορονοϊού_στην_Ελλάδα_τ...πριν από 48 λεπτά · Μετά την επιβεβαίωση των τριών πρώτων κρουσμάτων στην Ελλάδα, αρχικά στις ... που είχε επισκεφθεί τους Αγίους Τόπους) ανεβάζοντας το σύνολο των νεκρών ...</td>\n",
       "      <td>NaN</td>\n",
       "    </tr>\n",
       "    <tr>\n",
       "      <td>6</td>\n",
       "      <td>Κορονοϊός: Μόλις δύο νέα κρούσματα – 165 συνολικά οι νεκροί στην ...https://www.zappit.gr › enimerosi › koronoios-molis-dyo-nea-krousmata-1...πριν από 40 λεπτά · Κορονοϊός: Μόλις δύο νέα κρούσματα – 165 συνολικά οι νεκροί στην Ελλάδα. Σωτήρης Τσιόδρας. Δευτέρα, 18.5.2020, 19:22. zappit team@ZAPPIT_.</td>\n",
       "      <td>165.0</td>\n",
       "    </tr>\n",
       "    <tr>\n",
       "      <td>7</td>\n",
       "      <td>Ιταλία: Ο μικρότερος απολογισμός νεκρών από τις αρχές Μαρτίου, Η ...https://www.kathimerini.com.cy › kosmos › italia-oi-ligoteroi-nekroi-toys-t...πριν από 25 λεπτά · Οι νεκροί στην Ιταλία από κορωνοϊό ανέρχονται σε 32.007 συνολικά. ΠΗΓΗ: skai. gr ... Ελλάδα: 2 νέα κρούσματα - Στους 165 οι νεκροί. 18.05.2020 | 18:02 ...</td>\n",
       "      <td>165.0</td>\n",
       "    </tr>\n",
       "    <tr>\n",
       "      <td>8</td>\n",
       "      <td>[Lifo]: Κορωνοϊός στην Ελλάδα: Μόλις δύο νέα κρούσματα - Στους ...https://www.multi-news.gr › ΕΛΛΑΔΑπριν από 41 λεπτά · [Lifo]: Κορωνοϊός στην Ελλάδα: Μόλις δύο νέα κρούσματα – Στους 165 οι νεκροί. Πηγή: LIFO 18/05/2020 18:04 ΕΛΛΑΔΑ. Δύο νέα κρούσματα κορωνοϊού στην ...</td>\n",
       "      <td>165.0</td>\n",
       "    </tr>\n",
       "    <tr>\n",
       "      <td>9</td>\n",
       "      <td>Ιταλία: Μεγάλη μείωση των κρουσμάτων και των νεκρών από ... - Insiderhttps://www.insider.gr › eidiseis › kosmos › italia-megali-meiosi-ton-kroys...πριν από 29 λεπτά · Ιταλία: Μεγάλη μείωση των κρουσμάτων και των νεκρών από κορονοϊό. Κορονοϊός . ΚΟΣΜΟΣ 3 λεπτά πριν ... H ΕΞΑΠΛΩΣΗ:Μέρα-μέρα ο κορονοϊός στην Ελλάδα ...</td>\n",
       "      <td>NaN</td>\n",
       "    </tr>\n",
       "  </tbody>\n",
       "</table>\n",
       "</div>"
      ],
      "text/plain": [
       "                                                                                                                                                                                                                                                                                                                                                                                                                result  deaths\n",
       "0  Κορωνοϊός: Αισιοδοξία στην Ιταλία - Λιγότεροι από 100 οι νεκροί το ...https://www.cnn.gr › news › kosmos › story › koronoios-aisiodoxia-stin-ita...πριν από 12 λεπτά · Ειδήσεις - Μεγάλη είναι μείωση των κρουσμάτων και του αριθμού των νεκρών ... Κορωνοϊός: Αισιοδοξία στην Ιταλία - Λιγότεροι από 100 οι νεκροί το τελευταίο 24ωρο ... Η Ελλάδα θέλει να κεφαλοποιήσει την πετυχημένη διαχείριση της πανδημίας.  100.0 \n",
       "1  Κορωνοϊός: Κάτω από 100 οι νεκροί στην Ιταλία, για πρώτη φορά - Lifohttps://www.lifo.gr › ΕΙΔΗΣΕΙΣ › Διεθνήπριν από 17 λεπτά · Μεγάλη μείωση του αριθμού των κρουσμάτων και του αριθμού των νεκρών ... περιστατικών κορωνοϊού στην Ιταλία είναι 225.886 Οι νεκροί έφτασαν τους 32.007 ... Ο άνθρωπος που ανέδειξε τον κλάδο της ανοσολογίας στην Ελλάδα μιλά στη LIFO.                                               100.0 \n",
       "2  νεκροί | Η Εφημερίδα των Συντακτών - efsynhttps://www.efsyn.gr › nekroiπριν από 28 λεπτά · Κορoνοϊός: 164 οι νεκροί στην Ελλάδα. Μεγαλώνει η λίστα των θυμάτων Covid-19 στη χώρα μας. Σύμφωνα με πληροφορίες, ένας 71χρονος κατέληξε στο ...                                                                                                                                                                         164.0 \n",
       "3  Κορωνοϊός - Ιταλία: Οι λιγότεροι νεκροί εδώ και δύο μήνες | ΣΚΑΪ - Skaihttps://www.skai.gr › Υγείαπριν από 39 λεπτά · Ο αριθμός των θυμάτων με κορωνοϊό στην Ιταλία έπεσε τη Δευτέρα κάτω από τους 100 νεκρούς, δηλαδή 99, για πρώτη φορά από τις 9 Μαρτίου (οπότε υπήρχαν ...                                                                                                                                      NaN    \n",
       "4  Ελλάδα | Sofokleousinhttps://www.sofokleousin.gr › category › elladaπριν από 4 λεπτά · Κορονοϊός: 2 νέα κρούσματα και 2 νεκροί. Μόλις 2 νέα ... Ελλάδα-κορονοϊός: Έχασε τη μάχη 66χρονη στο ΝΙΜΤΣ - Στα 165 τα θύματα. Έχασε τη μάχη με τον ...                                                                                                                                                                      165.0 \n",
       "5  Πανδημία του κορονοϊού στην Ελλάδα το 2020 - Βικιπαίδειαhttps://el.wikipedia.org › wiki › Πανδημία_του_κορονοϊού_στην_Ελλάδα_τ...πριν από 48 λεπτά · Μετά την επιβεβαίωση των τριών πρώτων κρουσμάτων στην Ελλάδα, αρχικά στις ... που είχε επισκεφθεί τους Αγίους Τόπους) ανεβάζοντας το σύνολο των νεκρών ...                                                                                                     NaN    \n",
       "6  Κορονοϊός: Μόλις δύο νέα κρούσματα – 165 συνολικά οι νεκροί στην ...https://www.zappit.gr › enimerosi › koronoios-molis-dyo-nea-krousmata-1...πριν από 40 λεπτά · Κορονοϊός: Μόλις δύο νέα κρούσματα – 165 συνολικά οι νεκροί στην Ελλάδα. Σωτήρης Τσιόδρας. Δευτέρα, 18.5.2020, 19:22. zappit team@ZAPPIT_.                                                                                                         165.0 \n",
       "7  Ιταλία: Ο μικρότερος απολογισμός νεκρών από τις αρχές Μαρτίου, Η ...https://www.kathimerini.com.cy › kosmos › italia-oi-ligoteroi-nekroi-toys-t...πριν από 25 λεπτά · Οι νεκροί στην Ιταλία από κορωνοϊό ανέρχονται σε 32.007 συνολικά. ΠΗΓΗ: skai. gr ... Ελλάδα: 2 νέα κρούσματα - Στους 165 οι νεκροί. 18.05.2020 | 18:02 ...                                                                                     165.0 \n",
       "8  [Lifo]: Κορωνοϊός στην Ελλάδα: Μόλις δύο νέα κρούσματα - Στους ...https://www.multi-news.gr › ΕΛΛΑΔΑπριν από 41 λεπτά · [Lifo]: Κορωνοϊός στην Ελλάδα: Μόλις δύο νέα κρούσματα – Στους 165 οι νεκροί. Πηγή: LIFO 18/05/2020 18:04 ΕΛΛΑΔΑ. Δύο νέα κρούσματα κορωνοϊού στην ...                                                                                                                                       165.0 \n",
       "9  Ιταλία: Μεγάλη μείωση των κρουσμάτων και των νεκρών από ... - Insiderhttps://www.insider.gr › eidiseis › kosmos › italia-megali-meiosi-ton-kroys...πριν από 29 λεπτά · Ιταλία: Μεγάλη μείωση των κρουσμάτων και των νεκρών από κορονοϊό. Κορονοϊός . ΚΟΣΜΟΣ 3 λεπτά πριν ... H ΕΞΑΠΛΩΣΗ:Μέρα-μέρα ο κορονοϊός στην Ελλάδα ...                                                                                       NaN    "
      ]
     },
     "execution_count": 4,
     "metadata": {},
     "output_type": "execute_result"
    }
   ],
   "source": [
    "soup = BeautifulSoup(raw_html.content, \"html.parser\") \n",
    "# print(soup.prettify())\n",
    "# html=list(soup.children)[1]\n",
    "# container = list(html.children)[1]\n",
    "# box = list(container.children)[1]\n",
    "# results = box.find_all('div',{'class':'ZINbbc xpd O9g5cc uUPGi'})\n",
    "\n",
    "results = list(list(list(soup.children)[1].children)[1].children)[1]\\\n",
    "            .find_all('div',{'class':'ZINbbc xpd O9g5cc uUPGi'})\n",
    "\n",
    "table = []\n",
    "\n",
    "for result in results:\n",
    "    entries = {}\n",
    "    entries['result'] = result.text\n",
    "    \n",
    "    table.append(entries)\n",
    "\n",
    "df = pd.DataFrame (table)\n",
    "\n",
    "df['deaths'] = df.result.str.extract(r'\\s+(\\d\\d\\d)\\s+(?:.*?οι\\s+νεκροί|.*?τα\\s+θύματα|οι\\s+θάνατοι)')\\\n",
    "                .astype(float)\n",
    "df"
   ]
  },
  {
   "cell_type": "code",
   "execution_count": 5,
   "metadata": {},
   "outputs": [
    {
     "name": "stdout",
     "output_type": "stream",
     "text": [
      "Cool: You are updated!\n"
     ]
    }
   ],
   "source": [
    "greece = pd.read_csv('https://raw.githubusercontent.com/iMEdD-Lab/open-data/master/COVID-19/greece.csv')\n",
    "# greece.head()\n",
    "\n",
    "if greece.dead.sum() < df.deaths.max() and df.deaths.value_counts().max() > 2:\n",
    "    print('Breaking: It seems we currently count '+str(df.deaths.max())+' deaths')\n",
    "elif greece.dead.sum() < df.deaths.max() and df.deaths.value_counts().max() <= 2:\n",
    "    print('To be confirmed: It seems we currently count '+str(df.deaths.max())+' deaths')\n",
    "else:\n",
    "    print('Cool: You are updated!')"
   ]
  },
  {
   "cell_type": "code",
   "execution_count": null,
   "metadata": {},
   "outputs": [],
   "source": []
  }
 ],
 "metadata": {
  "kernelspec": {
   "display_name": "Python 3",
   "language": "python",
   "name": "python3"
  },
  "language_info": {
   "codemirror_mode": {
    "name": "ipython",
    "version": 3
   },
   "file_extension": ".py",
   "mimetype": "text/x-python",
   "name": "python",
   "nbconvert_exporter": "python",
   "pygments_lexer": "ipython3",
   "version": "3.7.4"
  }
 },
 "nbformat": 4,
 "nbformat_minor": 2
}
