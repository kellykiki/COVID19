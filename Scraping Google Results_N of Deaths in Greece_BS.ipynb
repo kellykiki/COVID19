{
 "cells": [
  {
   "cell_type": "code",
   "execution_count": 1,
   "metadata": {},
   "outputs": [
    {
     "name": "stderr",
     "output_type": "stream",
     "text": [
      "C:\\Users\\k.kiki\\AppData\\Local\\Programs\\Python\\Python37-32\\lib\\site-packages\\ipykernel_launcher.py:11: UserWarning: Warning Simulation\n",
      "  # This is added back by InteractiveShellApp.init_path()\n"
     ]
    }
   ],
   "source": [
    "import pandas as pd\n",
    "import re\n",
    "import requests\n",
    "from requests import get\n",
    "from bs4 import BeautifulSoup\n",
    "import warnings\n",
    "from time import sleep\n",
    "from random import randint\n",
    "from time import time\n",
    "timestart_time = time()\n",
    "warnings.warn('Warning Simulation')\n",
    "from IPython.core.display import clear_output"
   ]
  },
  {
   "cell_type": "code",
   "execution_count": 2,
   "metadata": {},
   "outputs": [],
   "source": [
    "pd.set_option('display.max_colwidth', -1)\n",
    "pd.set_option('display.max_rows', 500)\n",
    "pd.set_option('display.max_columns', 500)\n",
    "pd.set_option('display.width', 1000)"
   ]
  },
  {
   "cell_type": "code",
   "execution_count": 3,
   "metadata": {},
   "outputs": [],
   "source": [
    "raw_html = requests.get('https://www.google.com/search?q=%CE%BD%CE%B5%CE%BA%CF%81%CE%BF%CE%B9+%CE%B5%CE%BB%CE%BB%CE%B1%CE%B4%CE%B1&rlz=1C1GCEU_enGR865GR865&source=lnt&tbs=qdr:h&sa=X&ved=2ahUKEwiPz5_krb3pAhV6D2MBHTRzCBMQpwV6BAgLEBw&biw=1036&bih=674')\n",
    "# raw_html"
   ]
  },
  {
   "cell_type": "code",
   "execution_count": 4,
   "metadata": {},
   "outputs": [
    {
     "data": {
      "text/html": [
       "<div>\n",
       "<style scoped>\n",
       "    .dataframe tbody tr th:only-of-type {\n",
       "        vertical-align: middle;\n",
       "    }\n",
       "\n",
       "    .dataframe tbody tr th {\n",
       "        vertical-align: top;\n",
       "    }\n",
       "\n",
       "    .dataframe thead th {\n",
       "        text-align: right;\n",
       "    }\n",
       "</style>\n",
       "<table border=\"1\" class=\"dataframe\">\n",
       "  <thead>\n",
       "    <tr style=\"text-align: right;\">\n",
       "      <th></th>\n",
       "      <th>result</th>\n",
       "      <th>deaths</th>\n",
       "      <th>source</th>\n",
       "    </tr>\n",
       "  </thead>\n",
       "  <tbody>\n",
       "    <tr>\n",
       "      <td>0</td>\n",
       "      <td>Πάνω από 3.000 νεκροί στη Ρωσία από τον κορονοϊό - Sputnik Ελλάδαhttps://sputniknews.gr › rosia › 202005217354488-pano-apo-3000-nekroi-...πριν από 56 λεπτά · Σε πάνω από 317.000 επιβεβαιωμένα κρούσματα και 3.000 νεκρούς ανέρχεται ο μέχρι στιγμής απολογισμός από την πανδημία του κορονοϊού στη Ρωσία.</td>\n",
       "      <td>NaN</td>\n",
       "      <td>sputniknews</td>\n",
       "    </tr>\n",
       "    <tr>\n",
       "      <td>1</td>\n",
       "      <td>Ελλάδα | Sofokleousinhttps://www.sofokleousin.gr › category › elladaπριν από 41 λεπτά · Στους 167 οι νεκροί από κορονoϊό στην Ελλάδα – Πέθανε 89χρονος στο Σωτηρία. Κατέληξε την Τετάρτη το βράδυ, στο νοσοκομείο Σωτηρία, 89χρονος με ...</td>\n",
       "      <td>167.0</td>\n",
       "      <td>sofokleousin</td>\n",
       "    </tr>\n",
       "    <tr>\n",
       "      <td>2</td>\n",
       "      <td>ΚΟΣΜΟΣ | ΕΙΔΗΣΕΙΣ | in.grhttps://www.in.gr › worldπριν από 27 λεπτά · Νεκρός πρώην παλαιστής του WWE – Θυσιάστηκε για να σώσει τον γιο του Τραγικός ... Κοροναϊός : 363 νέοι θάνατοι στη Βρετανία – Ξεπερασαν τις 35.700 οι νεκροί Για ... «Ασημένιο μετάλλιο» η Ελλάδα στη φορολόγηση εργαζομένων με παιδιά.</td>\n",
       "      <td>363.0</td>\n",
       "      <td>in</td>\n",
       "    </tr>\n",
       "    <tr>\n",
       "      <td>3</td>\n",
       "      <td>Τελευταία νέα από τον κόσμο - ΤΑ ΝΕΑ - taNea.grhttps://www.tanea.gr › category › worldπριν από 24 λεπτά · Κοροναϊός Γερμανία : 57 νεκροί και 620 κρούσματα το τελευταίο 24ωρο ... γκάζι ο Τουρισμός - Χωρίς τεστ και καραντίνα θα έρχονται οι ταξιδιώτες στην Ελλάδα.</td>\n",
       "      <td>NaN</td>\n",
       "      <td>tanea</td>\n",
       "    </tr>\n",
       "    <tr>\n",
       "      <td>4</td>\n",
       "      <td>Τελευταίες Ειδήσεις | Ροή - Ant1news.grhttps://www.ant1news.gr › latestπριν από 35 λεπτά · Κι άλλη νεκρή καρέτα –καρέτα στην Καβάλα (εικόνες) · Καβάλα09:22 ... “Πράσινο φως” για εκταμίευση 748 εκ. ευρώ για την Ελλάδα · Οικονομία14:21 ...</td>\n",
       "      <td>NaN</td>\n",
       "      <td>ant1news</td>\n",
       "    </tr>\n",
       "    <tr>\n",
       "      <td>5</td>\n",
       "      <td>Κορονοϊός στο Πακιστάν: Ξεπεράστηκε το όριο των 1.000 νεκρών ...https://www.news247.gr › kosmos › koronoios-sto-pakistan-xeperastike-to-...πριν από 37 λεπτά · Σε μια χώρα με τη μέση ηλικία να είναι κάτω των 23 ετών, το 75% των νεκρών ... Κορονοϊός στο Πακιστάν: Ξεπεράστηκε το όριο των 1.000 νεκρών στη χώρα ... Τσιγάρα με γεύση μέντας: Απαγορευμένα πλέον και στην Ελλάδα. Ποια επιτρέπονται.</td>\n",
       "      <td>NaN</td>\n",
       "      <td>news247</td>\n",
       "    </tr>\n",
       "    <tr>\n",
       "      <td>6</td>\n",
       "      <td>Η τροπολογία για τα τραπεζοκαθίσματα: Τι προβλέπει [έγγραφο]https://www.taxydromos.gr › m_articleπριν από 38 λεπτά · Ελλάδα: 2020-05-21 - 11:04:40. Κατατέθηκε στη Βουλή η ... Κοροναϊός : Ακόμα ένας νεκρός στην Ελλάδα – Στους 133 οι θάνατοι · Ασθενής πήρε εξιτήριο από τον  ...</td>\n",
       "      <td>133.0</td>\n",
       "      <td>taxydromos</td>\n",
       "    </tr>\n",
       "    <tr>\n",
       "      <td>7</td>\n",
       "      <td>Κρητικός καταγγέλλει άγριο ξυλοδαρμό από αστυνομικούς επειδή ...https://www.taxydromos.gr › m_articleπριν από 10 λεπτά · Ελλάδα: 2020-05-21 - 11:33:06. Ο πολίτης ισχυρίζεται ότι αστυνομικοί της ομάδας ΔΙΑΣ επιχείρησαν να τον σταματήσουν τη στιγμή που επέστρεφε στο σπίτι του ...</td>\n",
       "      <td>NaN</td>\n",
       "      <td>taxydromos</td>\n",
       "    </tr>\n",
       "    <tr>\n",
       "      <td>8</td>\n",
       "      <td>VORIA.gr - Η οικονομική e-φημερίδαhttps://www.voria.grπριν από 25 λεπτά · Δέχομαι. Ο αγωγός TAP γεμίζει αέριο σε όλο το μήκος του στην Ελλάδα ... ΝΕΚΡΕΣ ΑΛΛΕΣ ΔΥΟ ΘΑΛΑΣΣΙΕΣ ΧΕΛΩΝΕΣ ΣΕ ΠΑΡΑΛΙΕΣ ΤΗΣ ΚΑΒΑΛΑΣ.</td>\n",
       "      <td>NaN</td>\n",
       "      <td>voria</td>\n",
       "    </tr>\n",
       "    <tr>\n",
       "      <td>9</td>\n",
       "      <td>Protagon.gr | Ιστορίες για να σκεφτόμαστε διαφορετικάhttps://www.protagon.grπριν από 26 λεπτά · Αγγίζει τους 19.000 νεκρούς η Βραζιλία – ο Μπολσονάρο προτείνει… χλωροκίνη ... Ολη η Ελλάδα μια παραλία – διεθνές θέμα η πρεμιέρα των οργανωμένων πλαζ.</td>\n",
       "      <td>NaN</td>\n",
       "      <td>protagon</td>\n",
       "    </tr>\n",
       "  </tbody>\n",
       "</table>\n",
       "</div>"
      ],
      "text/plain": [
       "                                                                                                                                                                                                                                                                                                                                                                                                    result  deaths        source\n",
       "0  Πάνω από 3.000 νεκροί στη Ρωσία από τον κορονοϊό - Sputnik Ελλάδαhttps://sputniknews.gr › rosia › 202005217354488-pano-apo-3000-nekroi-...πριν από 56 λεπτά · Σε πάνω από 317.000 επιβεβαιωμένα κρούσματα και 3.000 νεκρούς ανέρχεται ο μέχρι στιγμής απολογισμός από την πανδημία του κορονοϊού στη Ρωσία.                                                                                             NaN      sputniknews \n",
       "1  Ελλάδα | Sofokleousinhttps://www.sofokleousin.gr › category › elladaπριν από 41 λεπτά · Στους 167 οι νεκροί από κορονoϊό στην Ελλάδα – Πέθανε 89χρονος στο Σωτηρία. Κατέληξε την Τετάρτη το βράδυ, στο νοσοκομείο Σωτηρία, 89χρονος με ...                                                                                                                                                               167.0   sofokleousin\n",
       "2  ΚΟΣΜΟΣ | ΕΙΔΗΣΕΙΣ | in.grhttps://www.in.gr › worldπριν από 27 λεπτά · Νεκρός πρώην παλαιστής του WWE – Θυσιάστηκε για να σώσει τον γιο του Τραγικός ... Κοροναϊός : 363 νέοι θάνατοι στη Βρετανία – Ξεπερασαν τις 35.700 οι νεκροί Για ... «Ασημένιο μετάλλιο» η Ελλάδα στη φορολόγηση εργαζομένων με παιδιά.                                                                                            363.0   in          \n",
       "3  Τελευταία νέα από τον κόσμο - ΤΑ ΝΕΑ - taNea.grhttps://www.tanea.gr › category › worldπριν από 24 λεπτά · Κοροναϊός Γερμανία : 57 νεκροί και 620 κρούσματα το τελευταίο 24ωρο ... γκάζι ο Τουρισμός - Χωρίς τεστ και καραντίνα θα έρχονται οι ταξιδιώτες στην Ελλάδα.                                                                                                                                   NaN      tanea       \n",
       "4  Τελευταίες Ειδήσεις | Ροή - Ant1news.grhttps://www.ant1news.gr › latestπριν από 35 λεπτά · Κι άλλη νεκρή καρέτα –καρέτα στην Καβάλα (εικόνες) · Καβάλα09:22 ... “Πράσινο φως” για εκταμίευση 748 εκ. ευρώ για την Ελλάδα · Οικονομία14:21 ...                                                                                                                                                           NaN      ant1news    \n",
       "5  Κορονοϊός στο Πακιστάν: Ξεπεράστηκε το όριο των 1.000 νεκρών ...https://www.news247.gr › kosmos › koronoios-sto-pakistan-xeperastike-to-...πριν από 37 λεπτά · Σε μια χώρα με τη μέση ηλικία να είναι κάτω των 23 ετών, το 75% των νεκρών ... Κορονοϊός στο Πακιστάν: Ξεπεράστηκε το όριο των 1.000 νεκρών στη χώρα ... Τσιγάρα με γεύση μέντας: Απαγορευμένα πλέον και στην Ελλάδα. Ποια επιτρέπονται. NaN      news247     \n",
       "6  Η τροπολογία για τα τραπεζοκαθίσματα: Τι προβλέπει [έγγραφο]https://www.taxydromos.gr › m_articleπριν από 38 λεπτά · Ελλάδα: 2020-05-21 - 11:04:40. Κατατέθηκε στη Βουλή η ... Κοροναϊός : Ακόμα ένας νεκρός στην Ελλάδα – Στους 133 οι θάνατοι · Ασθενής πήρε εξιτήριο από τον  ...                                                                                                                     133.0   taxydromos  \n",
       "7  Κρητικός καταγγέλλει άγριο ξυλοδαρμό από αστυνομικούς επειδή ...https://www.taxydromos.gr › m_articleπριν από 10 λεπτά · Ελλάδα: 2020-05-21 - 11:33:06. Ο πολίτης ισχυρίζεται ότι αστυνομικοί της ομάδας ΔΙΑΣ επιχείρησαν να τον σταματήσουν τη στιγμή που επέστρεφε στο σπίτι του ...                                                                                                                  NaN      taxydromos  \n",
       "8  VORIA.gr - Η οικονομική e-φημερίδαhttps://www.voria.grπριν από 25 λεπτά · Δέχομαι. Ο αγωγός TAP γεμίζει αέριο σε όλο το μήκος του στην Ελλάδα ... ΝΕΚΡΕΣ ΑΛΛΕΣ ΔΥΟ ΘΑΛΑΣΣΙΕΣ ΧΕΛΩΝΕΣ ΣΕ ΠΑΡΑΛΙΕΣ ΤΗΣ ΚΑΒΑΛΑΣ.                                                                                                                                                                                           NaN      voria       \n",
       "9  Protagon.gr | Ιστορίες για να σκεφτόμαστε διαφορετικάhttps://www.protagon.grπριν από 26 λεπτά · Αγγίζει τους 19.000 νεκρούς η Βραζιλία – ο Μπολσονάρο προτείνει… χλωροκίνη ... Ολη η Ελλάδα μια παραλία – διεθνές θέμα η πρεμιέρα των οργανωμένων πλαζ.                                                                                                                                                 NaN      protagon    "
      ]
     },
     "execution_count": 4,
     "metadata": {},
     "output_type": "execute_result"
    }
   ],
   "source": [
    "soup = BeautifulSoup(raw_html.content, \"html.parser\") \n",
    "# print(soup.prettify())\n",
    "# html=list(soup.children)[1]\n",
    "# container = list(html.children)[1]\n",
    "# box = list(container.children)[1]\n",
    "# results = box.find_all('div',{'class':'ZINbbc xpd O9g5cc uUPGi'})\n",
    "\n",
    "results = list(list(list(soup.children)[1].children)[1].children)[1]\\\n",
    "            .find_all('div',{'class':'ZINbbc xpd O9g5cc uUPGi'})\n",
    "\n",
    "table = []\n",
    "\n",
    "for result in results:\n",
    "    entries = {}\n",
    "    entries['result'] = result.text\n",
    "    \n",
    "    table.append(entries)\n",
    "\n",
    "df = pd.DataFrame(table)\n",
    "\n",
    "df['deaths'] = df.result.str.extract(r'\\s+(\\d\\d\\d)\\s+(?:.*?οι\\s+νεκροί|.*?τα\\s+θύματα|.*?οι\\s+θάνατοι)')\\\n",
    "                .astype(float)\n",
    "df['source'] = df.result.str.extract(r'(?:.*www[.]|.*https:\\/\\/)(\\w+)[.]')\n",
    "df"
   ]
  },
  {
   "cell_type": "code",
   "execution_count": 5,
   "metadata": {},
   "outputs": [
    {
     "name": "stdout",
     "output_type": "stream",
     "text": [
      "Cool: greece.dead is updated!\n"
     ]
    }
   ],
   "source": [
    "greece = pd.read_csv('https://raw.githubusercontent.com/iMEdD-Lab/open-data/master/COVID-19/greece.csv')\n",
    "greeceTimeline = pd.read_csv('https://raw.githubusercontent.com/iMEdD-Lab/open-data/master/COVID-19/greeceTimeline.csv')\n",
    "\n",
    "if greece.dead.sum() < df.deaths.max() and df.deaths.max() < greece.dead.sum()+greeceTimeline[greeceTimeline.Status == 'deaths'].max(axis=1).tolist()[0] and df[df.deaths == df.deaths.max()].deaths.count() > 2:\n",
    "    \n",
    "    greece[greece['county_en'] == 'Unknown']['dead'] = greece[greece['county_en'] == 'Unknown']['cases']+(df.deaths.max()-greece.dead.sum())\n",
    "    greece.to_csv('greece_auto_test.csv')\n",
    "    \n",
    "    print('Breaking: It seems we currently count '+str(df.deaths.max())+' deaths. Source',df[df.deaths == df.deaths.max()].source.tolist()[0])\n",
    "    print('greece.dead was updated and greece_auto_test.csv has been saved')\n",
    "    \n",
    "elif greece.dead.sum() < df.deaths.max() and df.deaths.max() < greece.dead.sum()+greeceTimeline[greeceTimeline.Status == 'deaths'].max(axis=1).tolist()[0] and df[df.deaths == df.deaths.max()].deaths.count() <= 2:\n",
    "    print('To be confirmed: It seems we currently count '+str(df.deaths.max())+' deaths. Source: ',df[df.deaths == df.deaths.max()].source.tolist()[0])\n",
    "\n",
    "else:\n",
    "    print('Cool: greece.dead is updated!')"
   ]
  },
  {
   "cell_type": "code",
   "execution_count": 6,
   "metadata": {},
   "outputs": [],
   "source": [
    "# greeceTimeline[greeceTimeline.Status == 'deaths'].max(axis=1).item()"
   ]
  },
  {
   "cell_type": "code",
   "execution_count": 7,
   "metadata": {},
   "outputs": [],
   "source": [
    "# df[df.deaths == df.deaths.max()].source.item()"
   ]
  },
  {
   "cell_type": "code",
   "execution_count": null,
   "metadata": {},
   "outputs": [],
   "source": []
  }
 ],
 "metadata": {
  "kernelspec": {
   "display_name": "Python 3",
   "language": "python",
   "name": "python3"
  },
  "language_info": {
   "codemirror_mode": {
    "name": "ipython",
    "version": 3
   },
   "file_extension": ".py",
   "mimetype": "text/x-python",
   "name": "python",
   "nbconvert_exporter": "python",
   "pygments_lexer": "ipython3",
   "version": "3.7.4"
  }
 },
 "nbformat": 4,
 "nbformat_minor": 2
}
