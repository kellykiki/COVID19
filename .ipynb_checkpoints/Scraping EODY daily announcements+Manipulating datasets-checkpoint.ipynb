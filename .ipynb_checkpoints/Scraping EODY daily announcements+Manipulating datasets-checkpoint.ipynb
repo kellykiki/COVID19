{
 "cells": [
  {
   "cell_type": "code",
   "execution_count": 1,
   "metadata": {},
   "outputs": [
    {
     "name": "stderr",
     "output_type": "stream",
     "text": [
      "C:\\Users\\k.kiki\\AppData\\Local\\Programs\\Python\\Python37-32\\lib\\site-packages\\ipykernel_launcher.py:12: UserWarning: Warning Simulation\n",
      "  if sys.path[0] == '':\n"
     ]
    }
   ],
   "source": [
    "import pandas as pd\n",
    "import datetime\n",
    "import re\n",
    "import requests\n",
    "from requests import get\n",
    "from bs4 import BeautifulSoup\n",
    "import warnings\n",
    "from time import sleep\n",
    "from random import randint\n",
    "from time import time\n",
    "timestart_time = time()\n",
    "warnings.warn('Warning Simulation')\n",
    "from IPython.core.display import clear_output"
   ]
  },
  {
   "cell_type": "code",
   "execution_count": 2,
   "metadata": {},
   "outputs": [],
   "source": [
    "pd.set_option('display.max_colwidth', -1)\n",
    "pd.set_option('display.max_rows', 500)\n",
    "pd.set_option('display.max_columns', 500)\n",
    "pd.set_option('display.width', 1000)"
   ]
  },
  {
   "cell_type": "code",
   "execution_count": null,
   "metadata": {},
   "outputs": [],
   "source": []
  },
  {
   "cell_type": "code",
   "execution_count": 3,
   "metadata": {},
   "outputs": [
    {
     "data": {
      "text/html": [
       "<div>\n",
       "<style scoped>\n",
       "    .dataframe tbody tr th:only-of-type {\n",
       "        vertical-align: middle;\n",
       "    }\n",
       "\n",
       "    .dataframe tbody tr th {\n",
       "        vertical-align: top;\n",
       "    }\n",
       "\n",
       "    .dataframe thead th {\n",
       "        text-align: right;\n",
       "    }\n",
       "</style>\n",
       "<table border=\"1\" class=\"dataframe\">\n",
       "  <thead>\n",
       "    <tr style=\"text-align: right;\">\n",
       "      <th></th>\n",
       "      <th>title</th>\n",
       "      <th>url</th>\n",
       "      <th>date</th>\n",
       "    </tr>\n",
       "  </thead>\n",
       "  <tbody>\n",
       "    <tr>\n",
       "      <td>0</td>\n",
       "      <td>Ανακοίνωση για την εξέλιξη της νόσου COVID-19 στη χώρα μας (18/5/2020)</td>\n",
       "      <td>https://eody.gov.gr/anakoinosi-gia-tin-exelixi-tis-nosoy-covid-19-sti-chora-mas-18-5-2020/</td>\n",
       "      <td>18/5/2020</td>\n",
       "    </tr>\n",
       "    <tr>\n",
       "      <td>1</td>\n",
       "      <td>Ενημέρωση διαπιστευμένων συντακτών υγείας από τον Υφυπουργό Πολιτικής Προστασίας και Διαχείρισης Κρίσεων Νίκο Χαρδαλιά, τον Παθολόγο-Λοιμωξιολόγο, Υποπτέραρχο Δημήτρη Χατζηγεωργίου και τον Υφυπουργό Ανάπτυξης και Επενδύσεων Νίκο Παπαθανάση (17/5/2020)</td>\n",
       "      <td>https://eody.gov.gr/0517_briefing_covid19/</td>\n",
       "      <td>17/5/2020</td>\n",
       "    </tr>\n",
       "    <tr>\n",
       "      <td>2</td>\n",
       "      <td>Ανακοίνωση για την εξέλιξη της νόσου COVID-19 στη χώρα μας (16/5/2020)</td>\n",
       "      <td>https://eody.gov.gr/anakoinosi-gia-tin-exelixi-tis-nosoy-covid-19-sti-chora-mas-16-5-2020/</td>\n",
       "      <td>16/5/2020</td>\n",
       "    </tr>\n",
       "    <tr>\n",
       "      <td>3</td>\n",
       "      <td>Ενημέρωση διαπιστευμένων συντακτών υγείας από τον  Υφυπουργό Πολιτικής Προστασίας και Διαχείρισης Κρίσεων  Νίκο Χαρδαλιά και τον εκπρόσωπο του Υπουργείου Υγείας  για το νέο κορονοϊό, Καθηγητή Σωτήρη Τσιόδρα</td>\n",
       "      <td>https://eody.gov.gr/enimerosi-diapisteymenon-syntakton-ygeias-apo-ton-yfypoyrgo-politikis-prostasias-kai-diacheirisis-kriseon-niko-chardalia-kai-ton-ekprosopo-toy-ypoyrgeioy-ygeias-gia-to-neo-koronoio-kathigiti-sotir-7/</td>\n",
       "      <td>NaN</td>\n",
       "    </tr>\n",
       "    <tr>\n",
       "      <td>4</td>\n",
       "      <td>Eνημέρωση διαπιστευμένων συντακτών υγείας από τον Υφυπουργό Πολιτικής Προστασίας και Διαχείρισης Κρίσεων Νίκο Χαρδαλιά και τον εκπρόσωπο του Υπουργείου Υγείας για το νέο κορονοϊό, Καθηγητή Σωτήρη Τσιόδρα (14/5/2020)</td>\n",
       "      <td>https://eody.gov.gr/0514_briefing_covid19/</td>\n",
       "      <td>14/5/2020</td>\n",
       "    </tr>\n",
       "  </tbody>\n",
       "</table>\n",
       "</div>"
      ],
      "text/plain": [
       "                                                                                                                                                                                                                                                         title                                                                                                                                                                                                                          url       date\n",
       "0  Ανακοίνωση για την εξέλιξη της νόσου COVID-19 στη χώρα μας (18/5/2020)                                                                                                                                                                                       https://eody.gov.gr/anakoinosi-gia-tin-exelixi-tis-nosoy-covid-19-sti-chora-mas-18-5-2020/                                                                                                                                   18/5/2020\n",
       "1  Ενημέρωση διαπιστευμένων συντακτών υγείας από τον Υφυπουργό Πολιτικής Προστασίας και Διαχείρισης Κρίσεων Νίκο Χαρδαλιά, τον Παθολόγο-Λοιμωξιολόγο, Υποπτέραρχο Δημήτρη Χατζηγεωργίου και τον Υφυπουργό Ανάπτυξης και Επενδύσεων Νίκο Παπαθανάση (17/5/2020)  https://eody.gov.gr/0517_briefing_covid19/                                                                                                                                                                                   17/5/2020\n",
       "2  Ανακοίνωση για την εξέλιξη της νόσου COVID-19 στη χώρα μας (16/5/2020)                                                                                                                                                                                       https://eody.gov.gr/anakoinosi-gia-tin-exelixi-tis-nosoy-covid-19-sti-chora-mas-16-5-2020/                                                                                                                                   16/5/2020\n",
       "3  Ενημέρωση διαπιστευμένων συντακτών υγείας από τον  Υφυπουργό Πολιτικής Προστασίας και Διαχείρισης Κρίσεων  Νίκο Χαρδαλιά και τον εκπρόσωπο του Υπουργείου Υγείας  για το νέο κορονοϊό, Καθηγητή Σωτήρη Τσιόδρα                                               https://eody.gov.gr/enimerosi-diapisteymenon-syntakton-ygeias-apo-ton-yfypoyrgo-politikis-prostasias-kai-diacheirisis-kriseon-niko-chardalia-kai-ton-ekprosopo-toy-ypoyrgeioy-ygeias-gia-to-neo-koronoio-kathigiti-sotir-7/  NaN      \n",
       "4  Eνημέρωση διαπιστευμένων συντακτών υγείας από τον Υφυπουργό Πολιτικής Προστασίας και Διαχείρισης Κρίσεων Νίκο Χαρδαλιά και τον εκπρόσωπο του Υπουργείου Υγείας για το νέο κορονοϊό, Καθηγητή Σωτήρη Τσιόδρα (14/5/2020)                                      https://eody.gov.gr/0514_briefing_covid19/                                                                                                                                                                                   14/5/2020"
      ]
     },
     "execution_count": 3,
     "metadata": {},
     "output_type": "execute_result"
    }
   ],
   "source": [
    "raw_html = requests.get('https://eody.gov.gr/category/deltia-typoy/')\n",
    "soup = BeautifulSoup(raw_html.content, \"html.parser\") \n",
    "articles_container = soup.find('div',{'class':'articles-container'})\n",
    "titles = articles_container.find_all('a', href=True)\n",
    "\n",
    "# if r'νακοίνωση για την εξέλιξη της νόσου COVID-19 στη χώρα μας' in titles[0].text:\n",
    "#     print(titles[0].text,titles[0].get('href'))\n",
    "# else:\n",
    "#     print(titles[0].text,titles[0].get('href')+', but you do not care about this announcement!!!')\n",
    "\n",
    "table = []\n",
    "\n",
    "for t in titles:\n",
    "    entries = {}\n",
    "    \n",
    "    if 'νακοίνωση για την εξέλιξη της νόσου COVID-19 στη χώρα μας' in t.text\\\n",
    "        or 'νημέρωση διαπιστευμένων συντακτών υγείας από' in t.text:\n",
    "\n",
    "        entries['title'] = t.text\n",
    "        entries['url'] = t.get('href')\n",
    "\n",
    "        table.append(entries)\n",
    "    \n",
    "table = pd.DataFrame(table)\n",
    "table['date'] = table.title.str.extract(r'[(](\\d+\\/\\d+\\/\\d+)[)]')\n",
    "\n",
    "table.head()"
   ]
  },
  {
   "cell_type": "code",
   "execution_count": 4,
   "metadata": {},
   "outputs": [],
   "source": [
    "def get_press_release(row):\n",
    "    page = requests.get(row['url'])\n",
    "    soup_doc = BeautifulSoup(page.content, \"html.parser\") \n",
    "    \n",
    "    par = ''\n",
    "    for p in soup_doc.find_all('p'):\n",
    "        par = par+p.text.strip()\n",
    "        \n",
    "    return pd.Series({\n",
    "    'content': par \n",
    "    })   "
   ]
  },
  {
   "cell_type": "code",
   "execution_count": 5,
   "metadata": {},
   "outputs": [],
   "source": [
    "df = table.apply(get_press_release, axis=1).join(table)\n",
    "# df.head()"
   ]
  },
  {
   "cell_type": "code",
   "execution_count": 6,
   "metadata": {},
   "outputs": [],
   "source": [
    "df['new_cases'] = df.content.str.extract(r'.*[aα]νακοινώνο\\w+\\s+(\\d+)\\s+νέα\\s+κρούσματα',re.IGNORECASE).astype(float)\n",
    "df['total_cases'] = df.content.str.extract(r'συνολικός\\s+αριθμός.*κρουσμάτων\\s+είναι\\s+(\\d+)',re.IGNORECASE).astype(float)\n",
    "df['new_deaths'] = df.content.str.extract(r'(?:μεθ.*έχουμε\\s+)(.*)(?:\\s+ακόμα\\s+καταγεγραμμένο.*θ[άα]ν[αά]το.*και)',re.IGNORECASE)"
   ]
  },
  {
   "cell_type": "code",
   "execution_count": 7,
   "metadata": {},
   "outputs": [],
   "source": [
    "# d = { \"έναν\": \"1\", \"δύο\": \"2\", 'τρεις':'3', 'τέσσερις':'4'}\n",
    "df['new_deaths'] = df.new_deaths.replace({ \"έναν\": \"1\", \"δύο\": \"2\", 'τρεις':'3', 'τέσσερις':'4'}).astype(float)"
   ]
  },
  {
   "cell_type": "code",
   "execution_count": 8,
   "metadata": {},
   "outputs": [],
   "source": [
    "df['total_deaths'] = df.content.str.extract(\\\n",
    "                    r'(?:\\s+ακόμα\\s+καταγεγραμμένο.*θ[άα]ν[αά]το.*και.*?\\s+)(\\d+).*?\\s+θ[άα]ν[αά]τους.*?\\s+στη\\s+χώρα',\\\n",
    "                                           re.IGNORECASE).astype(float)"
   ]
  },
  {
   "cell_type": "code",
   "execution_count": 9,
   "metadata": {},
   "outputs": [],
   "source": [
    "df['intubated'] = df.content.str.extract(r'(\\d+)\\s+συμπολίτες\\s+μας\\s+νοσηλεύονται\\s+διασωληνωμένοι').astype(float)"
   ]
  },
  {
   "cell_type": "code",
   "execution_count": 10,
   "metadata": {},
   "outputs": [],
   "source": [
    "# df"
   ]
  },
  {
   "cell_type": "code",
   "execution_count": 11,
   "metadata": {},
   "outputs": [],
   "source": [
    "# df.intubated.value_counts(dropna=False)"
   ]
  },
  {
   "cell_type": "code",
   "execution_count": 12,
   "metadata": {},
   "outputs": [],
   "source": [
    "# df[df.total_deaths.isnull()]"
   ]
  },
  {
   "cell_type": "code",
   "execution_count": null,
   "metadata": {},
   "outputs": [],
   "source": []
  },
  {
   "cell_type": "code",
   "execution_count": null,
   "metadata": {},
   "outputs": [],
   "source": []
  },
  {
   "cell_type": "code",
   "execution_count": null,
   "metadata": {},
   "outputs": [],
   "source": []
  },
  {
   "cell_type": "code",
   "execution_count": 13,
   "metadata": {},
   "outputs": [],
   "source": [
    "greece = pd.read_csv('https://raw.githubusercontent.com/iMEdD-Lab/open-data/master/COVID-19/greece.csv')\n",
    "# greece.head()"
   ]
  },
  {
   "cell_type": "code",
   "execution_count": 14,
   "metadata": {},
   "outputs": [
    {
     "name": "stdout",
     "output_type": "stream",
     "text": [
      "Cool: greece.cases is updated!\n",
      "Cool: greece.dead is updated!\n",
      "greece.critical was updated and greece_auto_test.csv has been saved\n"
     ]
    },
    {
     "name": "stderr",
     "output_type": "stream",
     "text": [
      "C:\\Users\\k.kiki\\AppData\\Local\\Programs\\Python\\Python37-32\\lib\\site-packages\\ipykernel_launcher.py:27: SettingWithCopyWarning: \n",
      "A value is trying to be set on a copy of a slice from a DataFrame.\n",
      "Try using .loc[row_indexer,col_indexer] = value instead\n",
      "\n",
      "See the caveats in the documentation: http://pandas.pydata.org/pandas-docs/stable/user_guide/indexing.html#returning-a-view-versus-a-copy\n"
     ]
    }
   ],
   "source": [
    "if greece.cases.sum() < df.total_cases[0] and greece.cases.sum()+df.new_cases[0] == df.total_cases[0]:\n",
    "    greece[greece['county_en'] == 'Unknown']['cases'] = greece[greece['county_en'] == 'Unknown']['cases']+(df.total_cases[0]-greece.cases.sum())\n",
    "    greece.to_csv('greece_auto_test.csv')\n",
    "    print('greece.cases was updated and greece_auto_test.csv has been saved')\n",
    "    \n",
    "elif greece.cases.sum() < df.total_cases[0] and greece.cases.sum()+df.new_cases[0] != df.total_cases[0]:\n",
    "    print('Be careful: Something goes wrong with cases announced!!!')\n",
    "    \n",
    "else:\n",
    "    print('Cool: greece.cases is updated!')\n",
    "    \n",
    "\n",
    "    \n",
    "if greece.dead.sum() != df.total_deaths[0] and greece.dead.sum()+df.new_deaths[0] == df.total_deaths[0]:\n",
    "    greece[greece['county_en'] == 'Unknown']['dead'] = greece[greece['county_en'] == 'Unknown']['cases']+df.new_deaths[0]\n",
    "    greece.to_csv('greece_auto_test.csv')\n",
    "    print('greece.dead was updated and greece_auto_test.csv has been saved')\n",
    "    \n",
    "elif greece.dead.sum() != df.total_deaths[0] and greece.dead.sum()+df.new_deaths[0] != df.total_deaths[0]:\n",
    "    print('Be careful: Something goes wrong with deaths announced!!!')\n",
    "    \n",
    "else:\n",
    "    print('Cool: greece.dead is updated!')\n",
    "    \n",
    "\n",
    "if greece.critical.sum() != df.intubated[0]:\n",
    "    greece[greece['county_en'] == 'Unknown']['critical'] = greece[greece['county_en'] == 'Unknown']['critical']+(df.intubated[0]-greece.critical.sum())\n",
    "    greece.to_csv('greece_auto_test.csv')\n",
    "    print('greece.critical was updated and greece_auto_test.csv has been saved')\n",
    "    \n",
    "elif greece.critical.sum() == df.intubated[0]:\n",
    "    print('Cool: greece.critical is updated!')\n"
   ]
  },
  {
   "cell_type": "code",
   "execution_count": null,
   "metadata": {},
   "outputs": [],
   "source": []
  }
 ],
 "metadata": {
  "kernelspec": {
   "display_name": "Python 3",
   "language": "python",
   "name": "python3"
  },
  "language_info": {
   "codemirror_mode": {
    "name": "ipython",
    "version": 3
   },
   "file_extension": ".py",
   "mimetype": "text/x-python",
   "name": "python",
   "nbconvert_exporter": "python",
   "pygments_lexer": "ipython3",
   "version": "3.7.4"
  }
 },
 "nbformat": 4,
 "nbformat_minor": 2
}
