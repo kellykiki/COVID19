{
 "cells": [
  {
   "cell_type": "code",
   "execution_count": 1,
   "metadata": {},
   "outputs": [
    {
     "name": "stderr",
     "output_type": "stream",
     "text": [
      "C:\\Users\\k.kiki\\AppData\\Local\\Programs\\Python\\Python37-32\\lib\\site-packages\\ipykernel_launcher.py:11: UserWarning: Warning Simulation\n",
      "  # This is added back by InteractiveShellApp.init_path()\n"
     ]
    }
   ],
   "source": [
    "import pandas as pd\n",
    "import re\n",
    "import requests\n",
    "from requests import get\n",
    "from bs4 import BeautifulSoup\n",
    "import warnings\n",
    "from time import sleep\n",
    "from random import randint\n",
    "from time import time\n",
    "timestart_time = time()\n",
    "warnings.warn('Warning Simulation')\n",
    "from IPython.core.display import clear_output"
   ]
  },
  {
   "cell_type": "code",
   "execution_count": 2,
   "metadata": {},
   "outputs": [],
   "source": [
    "pd.set_option('display.max_colwidth', -1)\n",
    "pd.set_option('display.max_rows', 500)\n",
    "pd.set_option('display.max_columns', 500)\n",
    "pd.set_option('display.width', 1000)"
   ]
  },
  {
   "cell_type": "code",
   "execution_count": 3,
   "metadata": {},
   "outputs": [],
   "source": [
    "raw_html = requests.get('https://www.google.com/search?q=%CE%BD%CE%B5%CE%BA%CF%81%CE%BF%CE%B9+%CE%B5%CE%BB%CE%BB%CE%B1%CE%B4%CE%B1&rlz=1C1GCEU_enGR865GR865&source=lnt&tbs=qdr:h&sa=X&ved=2ahUKEwiPz5_krb3pAhV6D2MBHTRzCBMQpwV6BAgLEBw&biw=1036&bih=674')\n",
    "# raw_html"
   ]
  },
  {
   "cell_type": "code",
   "execution_count": 4,
   "metadata": {},
   "outputs": [],
   "source": [
    "soup = BeautifulSoup(raw_html.content, \"html.parser\") \n",
    "# print(soup.prettify())\n",
    "# html=list(soup.children)[1]\n",
    "# container = list(html.children)[1]\n",
    "# box = list(container.children)[1]\n",
    "# results = box.find_all('div',{'class':'ZINbbc xpd O9g5cc uUPGi'})\n",
    "\n",
    "results = list(list(list(soup.children)[1].children)[1].children)[1]\\\n",
    "            .find_all('div',{'class':'ZINbbc xpd O9g5cc uUPGi'})\n",
    "\n",
    "table = []\n",
    "\n",
    "for result in results:\n",
    "    entries = {}\n",
    "    entries['result'] = result.text\n",
    "    \n",
    "    table.append(entries)\n",
    "\n",
    "df = pd.DataFrame(table)\n",
    "\n",
    "df['deaths'] = df.result.str.extract(r'\\s+(\\d\\d\\d)\\s+(?:.*?οι\\s+νεκροί|.*?τα\\s+θύματα|.*?οι\\s+θάνατοι)')\\\n",
    "                .astype(float)\n",
    "df['source'] = df.result.str.extract(r'.*www[.](\\w+)[.]')\n",
    "# df"
   ]
  },
  {
   "cell_type": "code",
   "execution_count": 5,
   "metadata": {},
   "outputs": [
    {
     "name": "stdout",
     "output_type": "stream",
     "text": [
      "Cool: You are updated!\n"
     ]
    }
   ],
   "source": [
    "greece = pd.read_csv('https://raw.githubusercontent.com/iMEdD-Lab/open-data/master/COVID-19/greece.csv')\n",
    "greeceTimeline = pd.read_csv('https://raw.githubusercontent.com/iMEdD-Lab/open-data/master/COVID-19/greeceTimeline.csv')\n",
    "\n",
    "if greece.dead.sum() < df.deaths.max() and df.deaths.max() < greece.dead.sum()+greeceTimeline[greeceTimeline.Status == 'deaths'].max(axis=1).item() and df[df.deaths == df.deaths.max()].deaths.count() > 2:\n",
    "    print('Breaking: It seems we currently count '+str(df.deaths.max())+' deaths. Source',df[df.deaths == df.deaths.max()].source.item())\n",
    "elif greece.dead.sum() < df.deaths.max() and df.deaths.max() < greece.dead.sum()+greeceTimeline[greeceTimeline.Status == 'deaths'].max(axis=1).item() and df[df.deaths == df.deaths.max()].deaths.count() <= 2:\n",
    "    print('To be confirmed: It seems we currently count '+str(df.deaths.max())+' deaths. Source: ',df[df.deaths == df.deaths.max()].source.item())\n",
    "else:\n",
    "    print('Cool: You are updated!')"
   ]
  },
  {
   "cell_type": "code",
   "execution_count": 6,
   "metadata": {},
   "outputs": [],
   "source": [
    "# greeceTimeline[greeceTimeline.Status == 'deaths'].max(axis=1).item()"
   ]
  },
  {
   "cell_type": "code",
   "execution_count": 7,
   "metadata": {},
   "outputs": [],
   "source": [
    "# df[df.deaths == df.deaths.max()].source.item()"
   ]
  },
  {
   "cell_type": "code",
   "execution_count": null,
   "metadata": {},
   "outputs": [],
   "source": []
  }
 ],
 "metadata": {
  "kernelspec": {
   "display_name": "Python 3",
   "language": "python",
   "name": "python3"
  },
  "language_info": {
   "codemirror_mode": {
    "name": "ipython",
    "version": 3
   },
   "file_extension": ".py",
   "mimetype": "text/x-python",
   "name": "python",
   "nbconvert_exporter": "python",
   "pygments_lexer": "ipython3",
   "version": "3.7.4"
  }
 },
 "nbformat": 4,
 "nbformat_minor": 2
}
