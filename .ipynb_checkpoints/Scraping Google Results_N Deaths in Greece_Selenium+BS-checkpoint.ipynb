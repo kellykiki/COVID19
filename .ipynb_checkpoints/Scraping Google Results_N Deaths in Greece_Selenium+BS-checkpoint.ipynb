{
 "cells": [
  {
   "cell_type": "code",
   "execution_count": 1,
   "metadata": {},
   "outputs": [],
   "source": [
    "import re"
   ]
  },
  {
   "cell_type": "code",
   "execution_count": 2,
   "metadata": {},
   "outputs": [],
   "source": [
    "from selenium import webdriver\n",
    "from selenium.webdriver.common.keys import Keys\n",
    "from selenium.webdriver.support.ui import Select\n",
    "from selenium.webdriver.support.ui import WebDriverWait"
   ]
  },
  {
   "cell_type": "code",
   "execution_count": 3,
   "metadata": {},
   "outputs": [
    {
     "name": "stderr",
     "output_type": "stream",
     "text": [
      "C:\\Users\\k.kiki\\AppData\\Local\\Programs\\Python\\Python37-32\\lib\\site-packages\\ipykernel_launcher.py:10: UserWarning: Warning Simulation\n",
      "  # Remove the CWD from sys.path while we load stuff.\n"
     ]
    }
   ],
   "source": [
    "import requests\n",
    "from requests import get\n",
    "from bs4 import BeautifulSoup\n",
    "import pandas as pd\n",
    "import warnings\n",
    "from time import sleep\n",
    "from random import randint\n",
    "from time import time\n",
    "timestart_time = time()\n",
    "warnings.warn('Warning Simulation')\n",
    "from IPython.core.display import clear_output"
   ]
  },
  {
   "cell_type": "code",
   "execution_count": 4,
   "metadata": {},
   "outputs": [],
   "source": [
    "driver = webdriver.Chrome()"
   ]
  },
  {
   "cell_type": "code",
   "execution_count": 5,
   "metadata": {},
   "outputs": [],
   "source": [
    "driver.get('https://www.google.com/search?q=%CE%BD%CE%B5%CE%BA%CF%81%CE%BF%CE%B9+%CE%B5%CE%BB%CE%BB%CE%B1%CE%B4%CE%B1&rlz=1C1GCEU_enGR865GR865&source=lnt&tbs=qdr:h&sa=X&ved=2ahUKEwiPz5_krb3pAhV6D2MBHTRzCBMQpwV6BAgLEBw&biw=1036&bih=674')"
   ]
  },
  {
   "cell_type": "code",
   "execution_count": 6,
   "metadata": {},
   "outputs": [],
   "source": [
    "# raw_html = requests.get('https://www.google.com/search?q=%CE%BD%CE%B5%CE%BA%CF%81%CE%BF%CE%B9+%CE%B5%CE%BB%CE%BB%CE%B1%CE%B4%CE%B1&rlz=1C1GCEU_enGR865GR865&source=lnt&tbs=qdr:h&sa=X&ved=2ahUKEwiPz5_krb3pAhV6D2MBHTRzCBMQpwV6BAgLEBw&biw=1036&bih=674').content"
   ]
  },
  {
   "cell_type": "code",
   "execution_count": 7,
   "metadata": {},
   "outputs": [],
   "source": [
    "soup = BeautifulSoup(driver.page_source, \"html.parser\")\n",
    "search = soup.find(id='search')\n",
    "\n",
    "# print(search)"
   ]
  },
  {
   "cell_type": "code",
   "execution_count": 8,
   "metadata": {},
   "outputs": [],
   "source": [
    "results = search.find_all('div',attrs={'class':'rc'})\n",
    "\n",
    "table = []\n",
    "\n",
    "for result in results:\n",
    "    entries = {}\n",
    "    entries['result'] = result.text\n",
    "    \n",
    "    table.append(entries)\n",
    "\n",
    "df = pd.DataFrame (table)\n",
    "\n",
    "df['deaths'] = df.result.str.extract(r'\\s+(\\d\\d\\d)\\s+(?:.*?οι\\s+νεκροί|.*?τα\\s+θύματα|οι\\s+θάνατοι)')\\\n",
    "                .astype(float)\n",
    "\n",
    "# df\n",
    "# df.deaths.max()"
   ]
  },
  {
   "cell_type": "code",
   "execution_count": 9,
   "metadata": {},
   "outputs": [
    {
     "name": "stdout",
     "output_type": "stream",
     "text": [
      "To be confirmed: It seems we currently count 820.0 deaths\n"
     ]
    }
   ],
   "source": [
    "greece = pd.read_csv('https://raw.githubusercontent.com/iMEdD-Lab/open-data/master/COVID-19/greece.csv')\n",
    "# greece.head()\n",
    "\n",
    "if greece.dead.sum() < df.deaths.max() and df.deaths.value_counts().max() > 2:\n",
    "    print('Breaking: It seems we currently count '+str(df.deaths.max())+' deaths')\n",
    "elif greece.dead.sum() < df.deaths.max() and df.deaths.value_counts().max() <= 2:\n",
    "    print('To be confirmed: It seems we currently count '+str(df.deaths.max())+' deaths')\n",
    "else:\n",
    "    print('Cool: You are updated!')"
   ]
  },
  {
   "cell_type": "code",
   "execution_count": null,
   "metadata": {},
   "outputs": [],
   "source": []
  }
 ],
 "metadata": {
  "kernelspec": {
   "display_name": "Python 3",
   "language": "python",
   "name": "python3"
  },
  "language_info": {
   "codemirror_mode": {
    "name": "ipython",
    "version": 3
   },
   "file_extension": ".py",
   "mimetype": "text/x-python",
   "name": "python",
   "nbconvert_exporter": "python",
   "pygments_lexer": "ipython3",
   "version": "3.7.4"
  }
 },
 "nbformat": 4,
 "nbformat_minor": 2
}
