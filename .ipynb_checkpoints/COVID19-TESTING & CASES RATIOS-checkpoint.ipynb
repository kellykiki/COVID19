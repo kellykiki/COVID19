{
 "cells": [
  {
   "cell_type": "code",
   "execution_count": 1,
   "metadata": {},
   "outputs": [],
   "source": [
    "import pandas as pd"
   ]
  },
  {
   "cell_type": "code",
   "execution_count": 2,
   "metadata": {},
   "outputs": [],
   "source": [
    "pd.set_option('display.max_colwidth', -1)\n",
    "pd.set_option('display.max_rows', 500)\n",
    "pd.set_option('display.max_columns', 500)\n",
    "pd.set_option('display.width', 1000)"
   ]
  },
  {
   "cell_type": "code",
   "execution_count": 3,
   "metadata": {},
   "outputs": [],
   "source": [
    "import matplotlib.pyplot as plt\n",
    "%matplotlib inline"
   ]
  },
  {
   "cell_type": "code",
   "execution_count": 4,
   "metadata": {},
   "outputs": [],
   "source": [
    "import numpy as np"
   ]
  },
  {
   "cell_type": "code",
   "execution_count": null,
   "metadata": {},
   "outputs": [],
   "source": []
  },
  {
   "cell_type": "markdown",
   "metadata": {},
   "source": [
    "#### Find countries with super-high testing compared to average and low cases ratio compared to average\n",
    "##### Publish a tooltip note on cases/1M population world map "
   ]
  },
  {
   "cell_type": "code",
   "execution_count": 5,
   "metadata": {},
   "outputs": [],
   "source": [
    "wom = pd.read_csv('https://raw.githubusercontent.com/iMEdD-Lab/open-data/master/COVID-19/wom_data.csv')"
   ]
  },
  {
   "cell_type": "code",
   "execution_count": 6,
   "metadata": {},
   "outputs": [
    {
     "data": {
      "text/html": [
       "<div>\n",
       "<style scoped>\n",
       "    .dataframe tbody tr th:only-of-type {\n",
       "        vertical-align: middle;\n",
       "    }\n",
       "\n",
       "    .dataframe tbody tr th {\n",
       "        vertical-align: top;\n",
       "    }\n",
       "\n",
       "    .dataframe thead th {\n",
       "        text-align: right;\n",
       "    }\n",
       "</style>\n",
       "<table border=\"1\" class=\"dataframe\">\n",
       "  <thead>\n",
       "    <tr style=\"text-align: right;\">\n",
       "      <th></th>\n",
       "      <th>Country,Other</th>\n",
       "      <th>TotalCases</th>\n",
       "      <th>NewCases</th>\n",
       "      <th>TotalDeaths</th>\n",
       "      <th>NewDeaths</th>\n",
       "      <th>TotalRecovered</th>\n",
       "      <th>ActiveCases</th>\n",
       "      <th>Serious,Critical</th>\n",
       "      <th>Tot Cases/1M pop</th>\n",
       "      <th>Deaths/1M pop</th>\n",
       "      <th>TotalTests</th>\n",
       "      <th>Tests/ 1M pop</th>\n",
       "      <th>Continent</th>\n",
       "    </tr>\n",
       "  </thead>\n",
       "  <tbody>\n",
       "    <tr>\n",
       "      <td>208</td>\n",
       "      <td>Papua New Guinea</td>\n",
       "      <td>2</td>\n",
       "      <td>NaN</td>\n",
       "      <td>NaN</td>\n",
       "      <td>NaN</td>\n",
       "      <td>NaN</td>\n",
       "      <td>2</td>\n",
       "      <td>NaN</td>\n",
       "      <td>0.2</td>\n",
       "      <td>NaN</td>\n",
       "      <td>72</td>\n",
       "      <td>8</td>\n",
       "      <td>Australia/Oceania</td>\n",
       "    </tr>\n",
       "    <tr>\n",
       "      <td>209</td>\n",
       "      <td>Saint Pierre Miquelon</td>\n",
       "      <td>1</td>\n",
       "      <td>NaN</td>\n",
       "      <td>NaN</td>\n",
       "      <td>NaN</td>\n",
       "      <td>NaN</td>\n",
       "      <td>1</td>\n",
       "      <td>NaN</td>\n",
       "      <td>173</td>\n",
       "      <td>NaN</td>\n",
       "      <td>NaN</td>\n",
       "      <td>NaN</td>\n",
       "      <td>North America</td>\n",
       "    </tr>\n",
       "    <tr>\n",
       "      <td>210</td>\n",
       "      <td>Yemen</td>\n",
       "      <td>1</td>\n",
       "      <td>NaN</td>\n",
       "      <td>NaN</td>\n",
       "      <td>NaN</td>\n",
       "      <td>NaN</td>\n",
       "      <td>1</td>\n",
       "      <td>NaN</td>\n",
       "      <td>0.03</td>\n",
       "      <td>NaN</td>\n",
       "      <td>NaN</td>\n",
       "      <td>NaN</td>\n",
       "      <td>Asia</td>\n",
       "    </tr>\n",
       "    <tr>\n",
       "      <td>211</td>\n",
       "      <td>China</td>\n",
       "      <td>82,295</td>\n",
       "      <td>46</td>\n",
       "      <td>3,342</td>\n",
       "      <td>1.0</td>\n",
       "      <td>77,816</td>\n",
       "      <td>1,137</td>\n",
       "      <td>113</td>\n",
       "      <td>57</td>\n",
       "      <td>2</td>\n",
       "      <td>NaN</td>\n",
       "      <td>NaN</td>\n",
       "      <td>Asia</td>\n",
       "    </tr>\n",
       "    <tr>\n",
       "      <td>212</td>\n",
       "      <td>Total:</td>\n",
       "      <td>2,014,046</td>\n",
       "      <td>16,186</td>\n",
       "      <td>127,595</td>\n",
       "      <td>995.0</td>\n",
       "      <td>491,841</td>\n",
       "      <td>1,394,610</td>\n",
       "      <td>51,516</td>\n",
       "      <td>258.4</td>\n",
       "      <td>16.4</td>\n",
       "      <td>NaN</td>\n",
       "      <td>NaN</td>\n",
       "      <td>All</td>\n",
       "    </tr>\n",
       "  </tbody>\n",
       "</table>\n",
       "</div>"
      ],
      "text/plain": [
       "             Country,Other TotalCases NewCases TotalDeaths  NewDeaths TotalRecovered ActiveCases Serious,Critical Tot Cases/1M pop Deaths/1M pop TotalTests Tests/ 1M pop          Continent\n",
       "208  Papua New Guinea       2          NaN      NaN        NaN         NaN            2           NaN              0.2              NaN           72         8             Australia/Oceania\n",
       "209  Saint Pierre Miquelon  1          NaN      NaN        NaN         NaN            1           NaN              173              NaN           NaN        NaN           North America    \n",
       "210  Yemen                  1          NaN      NaN        NaN         NaN            1           NaN              0.03             NaN           NaN        NaN           Asia             \n",
       "211  China                  82,295     46       3,342       1.0        77,816         1,137       113              57               2             NaN        NaN           Asia             \n",
       "212  Total:                 2,014,046  16,186   127,595     995.0      491,841        1,394,610   51,516           258.4            16.4          NaN        NaN           All              "
      ]
     },
     "execution_count": 6,
     "metadata": {},
     "output_type": "execute_result"
    }
   ],
   "source": [
    "wom.tail()"
   ]
  },
  {
   "cell_type": "code",
   "execution_count": 7,
   "metadata": {},
   "outputs": [],
   "source": [
    "wom = wom[:-1]"
   ]
  },
  {
   "cell_type": "code",
   "execution_count": 8,
   "metadata": {},
   "outputs": [
    {
     "data": {
      "text/plain": [
       "Country,Other       object \n",
       "TotalCases          object \n",
       "NewCases            object \n",
       "TotalDeaths         object \n",
       "NewDeaths           float64\n",
       "TotalRecovered      object \n",
       "ActiveCases         object \n",
       "Serious,Critical    object \n",
       "Tot Cases/1M pop    object \n",
       "Deaths/1M pop       object \n",
       "TotalTests          object \n",
       "Tests/ 1M pop       object \n",
       "Continent           object \n",
       "dtype: object"
      ]
     },
     "execution_count": 8,
     "metadata": {},
     "output_type": "execute_result"
    }
   ],
   "source": [
    "wom.dtypes"
   ]
  },
  {
   "cell_type": "code",
   "execution_count": 9,
   "metadata": {},
   "outputs": [
    {
     "data": {
      "text/plain": [
       "'Tot\\xa0Cases/1M pop'"
      ]
     },
     "execution_count": 9,
     "metadata": {},
     "output_type": "execute_result"
    }
   ],
   "source": [
    "wom.columns[8]"
   ]
  },
  {
   "cell_type": "code",
   "execution_count": 10,
   "metadata": {},
   "outputs": [],
   "source": [
    "wom = wom.rename(columns={wom.columns[8]:'Total Cases/1M pop'})"
   ]
  },
  {
   "cell_type": "code",
   "execution_count": 11,
   "metadata": {},
   "outputs": [],
   "source": [
    "wom['TotalCases'] = wom['TotalCases'].str.replace(',','')\n",
    "wom['NewCases'] = wom['NewCases'].str.replace(',','')\n",
    "wom['TotalDeaths'] = wom['TotalDeaths'].str.replace(',','')\n",
    "# wom['NewDeaths'] = wom['NewDeaths'].str.replace(',','')\n",
    "wom['TotalRecovered'] = wom['TotalRecovered'].str.replace(',','')\n",
    "wom['ActiveCases'] = wom['ActiveCases'].str.replace(',','')\n",
    "wom['Serious,Critical'] = wom['Serious,Critical'].str.replace(',','')\n",
    "wom['Total Cases/1M pop'] = wom['Total Cases/1M pop'].str.replace(',','')\n",
    "wom['Deaths/1M pop'] = wom['Deaths/1M pop'].str.replace(',','')\n",
    "wom['TotalTests'] = wom['TotalTests'].str.replace(',','')\n",
    "wom['Tests/ 1M pop'] = wom['Tests/ 1M pop'].str.replace(',','')"
   ]
  },
  {
   "cell_type": "code",
   "execution_count": 12,
   "metadata": {},
   "outputs": [],
   "source": [
    "wom['TotalCases'] = wom['TotalCases'].astype(float)\n",
    "wom['NewCases'] = wom['NewCases'].astype(float)\n",
    "wom['TotalDeaths'] = wom['TotalDeaths'].astype(float)\n",
    "# wom['NewDeaths'] = wom['NewDeaths'].astype(float)\n",
    "wom['TotalRecovered'] = wom['TotalRecovered'].astype(float)\n",
    "wom['ActiveCases'] = wom['ActiveCases'].astype(float)\n",
    "wom['Serious,Critical'] = wom['Serious,Critical'].astype(float)\n",
    "wom['Total Cases/1M pop'] = wom['Total Cases/1M pop'].astype(float)\n",
    "wom['Deaths/1M pop'] = wom['Deaths/1M pop'].astype(float)\n",
    "wom['TotalTests'] = wom['TotalTests'].astype(float)\n",
    "wom['Tests/ 1M pop'] = wom['Tests/ 1M pop'].astype(float)"
   ]
  },
  {
   "cell_type": "code",
   "execution_count": null,
   "metadata": {},
   "outputs": [],
   "source": []
  },
  {
   "cell_type": "code",
   "execution_count": 13,
   "metadata": {},
   "outputs": [
    {
     "data": {
      "text/plain": [
       "3038.0"
      ]
     },
     "execution_count": 13,
     "metadata": {},
     "output_type": "execute_result"
    }
   ],
   "source": [
    "wom['Tests/ 1M pop'].median()"
   ]
  },
  {
   "cell_type": "code",
   "execution_count": 14,
   "metadata": {},
   "outputs": [
    {
     "data": {
      "text/plain": [
       "8341.382716049382"
      ]
     },
     "execution_count": 14,
     "metadata": {},
     "output_type": "execute_result"
    }
   ],
   "source": [
    "wom['Tests/ 1M pop'].mean()"
   ]
  },
  {
   "cell_type": "code",
   "execution_count": null,
   "metadata": {},
   "outputs": [],
   "source": []
  },
  {
   "cell_type": "code",
   "execution_count": 15,
   "metadata": {},
   "outputs": [],
   "source": [
    "# New Column 1\n",
    "wom['testing_mean_diff_pct'] = ((wom['Tests/ 1M pop']-wom['Tests/ 1M pop'].mean())/wom['Tests/ 1M pop'].mean())*100"
   ]
  },
  {
   "cell_type": "code",
   "execution_count": 16,
   "metadata": {},
   "outputs": [],
   "source": [
    "# New Column 2\n",
    "wom['testing_median_diff_pct'] = ((wom['Tests/ 1M pop']-wom['Tests/ 1M pop'].median())/wom['Tests/ 1M pop'].median())*100"
   ]
  },
  {
   "cell_type": "code",
   "execution_count": 17,
   "metadata": {},
   "outputs": [],
   "source": [
    "# New Column 3\n",
    "wom['cases_rate_normalized'] = (wom['Total Cases/1M pop']*100)/wom['Tests/ 1M pop']"
   ]
  },
  {
   "cell_type": "code",
   "execution_count": 18,
   "metadata": {},
   "outputs": [],
   "source": [
    "# New Column 4 - I need population data; not included in this newest csv\n",
    "\n",
    "# wom['estimated_cases/1M pop'] = (\\\n",
    "#                                  ((wom['TotalCases']*wom['Population (2020)'])/wom['TotalTests'])/\\\n",
    "#                                 wom['Population (2020)']\\\n",
    "#                                 )*1000000"
   ]
  },
  {
   "cell_type": "code",
   "execution_count": 19,
   "metadata": {},
   "outputs": [],
   "source": [
    "# New Column 5\n",
    "wom['cases_rate_mean_diff_pct'] = ((wom['cases_rate_normalized']-wom['cases_rate_normalized'].mean())/wom['cases_rate_normalized'].mean())*100"
   ]
  },
  {
   "cell_type": "code",
   "execution_count": 20,
   "metadata": {},
   "outputs": [],
   "source": [
    "# New Column 6\n",
    "wom['cases_rate_median_diff_pct'] = ((wom['cases_rate_normalized']-wom['cases_rate_normalized'].median())/wom['cases_rate_normalized'].median())*100"
   ]
  },
  {
   "cell_type": "code",
   "execution_count": 21,
   "metadata": {},
   "outputs": [],
   "source": [
    "#New Columns 7, 8, 9\n",
    "\n",
    "conditions = [\n",
    "    (wom['testing_median_diff_pct'] > 500) & (wom['cases_rate_median_diff_pct'] < 0)\n",
    "    ]\n",
    "choices1 = ['Σημαντική σημείωση: Τα τεστ που εμφανίζεται να έχει κάνει η χώρα είναι, αναλογικά με τον πληθυσμό της, πολύ αυξημένα συγκριτικά με τη διάμεσο των τεστ που έχουν γίνει ανά χώρα παγκοσμίως. Παράλληλα, εκτιμάται ότι το ποσοστό των επιβεβαιωμένων κρουσμάτων, αναλογικά με τα τεστ, στη χώρα είναι πολύ χαμηλότερο από το αντίστοιχο διάμεσο ποσοστό παγκοσμίως. Για αυτόν τον λόγο, υπολογίζεται ότι, στην πραγματικότητα, η συγκεκριμένη χώρα αντιμετωπίζει πολύ μικρότερο πρόβλημα συγκριτικά με άλλες -και όχι το αντίστροφο, όπως φαίνεται στη χαρτογράφηση των κρουσμάτων ανά 1 εκατ. πληθυσμού']\n",
    "choices2 = ['Πολύ αυξημένα τεστ αναλογικά με τον πληθυσμό, χαμηλό ποσοστό κρουσμάτων επί των τεστ: πιθανώς η χώρα αντιμετωπίζει, συγκριτικά με άλλες, πολύ μικρότερο πρόβλημα από αυτό που φαίνεται.']\n",
    "choices3 = ['YES']\n",
    "\n",
    "wom['about_note'] = np.select(conditions, choices1, default='')\n",
    "wom['tooltip_note'] = np.select(conditions, choices2, default='')\n",
    "wom['testing_high'] = np.select(conditions, choices3, default='')\n",
    "wom['cases_rate_low'] = np.select(conditions, choices3, default='')"
   ]
  },
  {
   "cell_type": "code",
   "execution_count": null,
   "metadata": {},
   "outputs": [],
   "source": []
  },
  {
   "cell_type": "code",
   "execution_count": 22,
   "metadata": {},
   "outputs": [
    {
     "data": {
      "text/plain": [
       "                                                                                                                                                                                           204\n",
       "Πολύ αυξημένα τεστ αναλογικά με τον πληθυσμό, χαμηλό ποσοστό κρουσμάτων επί των τεστ: πιθανώς η χώρα αντιμετωπίζει, συγκριτικά με άλλες, πολύ μικρότερο πρόβλημα από αυτό που φαίνεται.    8  \n",
       "Name: tooltip_note, dtype: int64"
      ]
     },
     "execution_count": 22,
     "metadata": {},
     "output_type": "execute_result"
    }
   ],
   "source": [
    "wom['tooltip_note'].value_counts(dropna=False)"
   ]
  },
  {
   "cell_type": "code",
   "execution_count": 23,
   "metadata": {},
   "outputs": [
    {
     "data": {
      "text/html": [
       "<div>\n",
       "<style scoped>\n",
       "    .dataframe tbody tr th:only-of-type {\n",
       "        vertical-align: middle;\n",
       "    }\n",
       "\n",
       "    .dataframe tbody tr th {\n",
       "        vertical-align: top;\n",
       "    }\n",
       "\n",
       "    .dataframe thead th {\n",
       "        text-align: right;\n",
       "    }\n",
       "</style>\n",
       "<table border=\"1\" class=\"dataframe\">\n",
       "  <thead>\n",
       "    <tr style=\"text-align: right;\">\n",
       "      <th></th>\n",
       "      <th>Country,Other</th>\n",
       "      <th>TotalCases</th>\n",
       "      <th>NewCases</th>\n",
       "      <th>TotalDeaths</th>\n",
       "      <th>NewDeaths</th>\n",
       "      <th>TotalRecovered</th>\n",
       "      <th>ActiveCases</th>\n",
       "      <th>Serious,Critical</th>\n",
       "      <th>Total Cases/1M pop</th>\n",
       "      <th>Deaths/1M pop</th>\n",
       "      <th>TotalTests</th>\n",
       "      <th>Tests/ 1M pop</th>\n",
       "      <th>Continent</th>\n",
       "      <th>testing_mean_diff_pct</th>\n",
       "      <th>testing_median_diff_pct</th>\n",
       "      <th>cases_rate_normalized</th>\n",
       "      <th>cases_rate_mean_diff_pct</th>\n",
       "      <th>cases_rate_median_diff_pct</th>\n",
       "      <th>about_note</th>\n",
       "      <th>tooltip_note</th>\n",
       "      <th>testing_high</th>\n",
       "      <th>cases_rate_low</th>\n",
       "    </tr>\n",
       "  </thead>\n",
       "  <tbody>\n",
       "    <tr>\n",
       "      <td>117</td>\n",
       "      <td>Faeroe Islands</td>\n",
       "      <td>184.0</td>\n",
       "      <td>NaN</td>\n",
       "      <td>NaN</td>\n",
       "      <td>NaN</td>\n",
       "      <td>166.0</td>\n",
       "      <td>18.0</td>\n",
       "      <td>NaN</td>\n",
       "      <td>3766.0</td>\n",
       "      <td>NaN</td>\n",
       "      <td>5677.0</td>\n",
       "      <td>116182.0</td>\n",
       "      <td>Europe</td>\n",
       "      <td>1292.838621</td>\n",
       "      <td>3724.292298</td>\n",
       "      <td>3.241466</td>\n",
       "      <td>-66.539825</td>\n",
       "      <td>-46.101850</td>\n",
       "      <td>Σημαντική σημείωση: Τα τεστ που εμφανίζεται να έχει κάνει η χώρα είναι, αναλογικά με τον πληθυσμό της, πολύ αυξημένα συγκριτικά με τη διάμεσο των τεστ που έχουν γίνει ανά χώρα παγκοσμίως. Παράλληλα, εκτιμάται ότι το ποσοστό των επιβεβαιωμένων κρουσμάτων, αναλογικά με τα τεστ, στη χώρα είναι πολύ χαμηλότερο από το αντίστοιχο διάμεσο ποσοστό παγκοσμίως. Για αυτόν τον λόγο, υπολογίζεται ότι, στην πραγματικότητα, η συγκεκριμένη χώρα αντιμετωπίζει πολύ μικρότερο πρόβλημα συγκριτικά με άλλες -και όχι το αντίστροφο, όπως φαίνεται στη χαρτογράφηση των κρουσμάτων ανά 1 εκατ. πληθυσμού</td>\n",
       "      <td>Πολύ αυξημένα τεστ αναλογικά με τον πληθυσμό, χαμηλό ποσοστό κρουσμάτων επί των τεστ: πιθανώς η χώρα αντιμετωπίζει, συγκριτικά με άλλες, πολύ μικρότερο πρόβλημα από αυτό που φαίνεται.</td>\n",
       "      <td>YES</td>\n",
       "      <td>YES</td>\n",
       "    </tr>\n",
       "    <tr>\n",
       "      <td>56</td>\n",
       "      <td>Iceland</td>\n",
       "      <td>1720.0</td>\n",
       "      <td>NaN</td>\n",
       "      <td>8.0</td>\n",
       "      <td>NaN</td>\n",
       "      <td>989.0</td>\n",
       "      <td>723.0</td>\n",
       "      <td>8.0</td>\n",
       "      <td>5040.0</td>\n",
       "      <td>23.0</td>\n",
       "      <td>36339.0</td>\n",
       "      <td>106490.0</td>\n",
       "      <td>Europe</td>\n",
       "      <td>1176.646854</td>\n",
       "      <td>3405.266623</td>\n",
       "      <td>4.732839</td>\n",
       "      <td>-51.145063</td>\n",
       "      <td>-21.303738</td>\n",
       "      <td>Σημαντική σημείωση: Τα τεστ που εμφανίζεται να έχει κάνει η χώρα είναι, αναλογικά με τον πληθυσμό της, πολύ αυξημένα συγκριτικά με τη διάμεσο των τεστ που έχουν γίνει ανά χώρα παγκοσμίως. Παράλληλα, εκτιμάται ότι το ποσοστό των επιβεβαιωμένων κρουσμάτων, αναλογικά με τα τεστ, στη χώρα είναι πολύ χαμηλότερο από το αντίστοιχο διάμεσο ποσοστό παγκοσμίως. Για αυτόν τον λόγο, υπολογίζεται ότι, στην πραγματικότητα, η συγκεκριμένη χώρα αντιμετωπίζει πολύ μικρότερο πρόβλημα συγκριτικά με άλλες -και όχι το αντίστροφο, όπως φαίνεται στη χαρτογράφηση των κρουσμάτων ανά 1 εκατ. πληθυσμού</td>\n",
       "      <td>Πολύ αυξημένα τεστ αναλογικά με τον πληθυσμό, χαμηλό ποσοστό κρουσμάτων επί των τεστ: πιθανώς η χώρα αντιμετωπίζει, συγκριτικά με άλλες, πολύ μικρότερο πρόβλημα από αυτό που φαίνεται.</td>\n",
       "      <td>YES</td>\n",
       "      <td>YES</td>\n",
       "    </tr>\n",
       "    <tr>\n",
       "      <td>37</td>\n",
       "      <td>UAE</td>\n",
       "      <td>4933.0</td>\n",
       "      <td>NaN</td>\n",
       "      <td>28.0</td>\n",
       "      <td>NaN</td>\n",
       "      <td>933.0</td>\n",
       "      <td>3972.0</td>\n",
       "      <td>1.0</td>\n",
       "      <td>499.0</td>\n",
       "      <td>3.0</td>\n",
       "      <td>648195.0</td>\n",
       "      <td>65538.0</td>\n",
       "      <td>Asia</td>\n",
       "      <td>685.697075</td>\n",
       "      <td>2057.274523</td>\n",
       "      <td>0.761390</td>\n",
       "      <td>-92.140515</td>\n",
       "      <td>-87.339824</td>\n",
       "      <td>Σημαντική σημείωση: Τα τεστ που εμφανίζεται να έχει κάνει η χώρα είναι, αναλογικά με τον πληθυσμό της, πολύ αυξημένα συγκριτικά με τη διάμεσο των τεστ που έχουν γίνει ανά χώρα παγκοσμίως. Παράλληλα, εκτιμάται ότι το ποσοστό των επιβεβαιωμένων κρουσμάτων, αναλογικά με τα τεστ, στη χώρα είναι πολύ χαμηλότερο από το αντίστοιχο διάμεσο ποσοστό παγκοσμίως. Για αυτόν τον λόγο, υπολογίζεται ότι, στην πραγματικότητα, η συγκεκριμένη χώρα αντιμετωπίζει πολύ μικρότερο πρόβλημα συγκριτικά με άλλες -και όχι το αντίστροφο, όπως φαίνεται στη χαρτογράφηση των κρουσμάτων ανά 1 εκατ. πληθυσμού</td>\n",
       "      <td>Πολύ αυξημένα τεστ αναλογικά με τον πληθυσμό, χαμηλό ποσοστό κρουσμάτων επί των τεστ: πιθανώς η χώρα αντιμετωπίζει, συγκριτικά με άλλες, πολύ μικρότερο πρόβλημα από αυτό που φαίνεται.</td>\n",
       "      <td>YES</td>\n",
       "      <td>YES</td>\n",
       "    </tr>\n",
       "    <tr>\n",
       "      <td>126</td>\n",
       "      <td>Gibraltar</td>\n",
       "      <td>129.0</td>\n",
       "      <td>NaN</td>\n",
       "      <td>NaN</td>\n",
       "      <td>NaN</td>\n",
       "      <td>104.0</td>\n",
       "      <td>25.0</td>\n",
       "      <td>1.0</td>\n",
       "      <td>3829.0</td>\n",
       "      <td>NaN</td>\n",
       "      <td>1649.0</td>\n",
       "      <td>48945.0</td>\n",
       "      <td>Europe</td>\n",
       "      <td>486.773221</td>\n",
       "      <td>1511.092824</td>\n",
       "      <td>7.823067</td>\n",
       "      <td>-19.246049</td>\n",
       "      <td>30.079670</td>\n",
       "      <td></td>\n",
       "      <td></td>\n",
       "      <td></td>\n",
       "      <td></td>\n",
       "    </tr>\n",
       "    <tr>\n",
       "      <td>42</td>\n",
       "      <td>Luxembourg</td>\n",
       "      <td>3307.0</td>\n",
       "      <td>NaN</td>\n",
       "      <td>67.0</td>\n",
       "      <td>NaN</td>\n",
       "      <td>500.0</td>\n",
       "      <td>2740.0</td>\n",
       "      <td>30.0</td>\n",
       "      <td>5283.0</td>\n",
       "      <td>107.0</td>\n",
       "      <td>29523.0</td>\n",
       "      <td>47163.0</td>\n",
       "      <td>Europe</td>\n",
       "      <td>465.409856</td>\n",
       "      <td>1452.435813</td>\n",
       "      <td>11.201578</td>\n",
       "      <td>15.628778</td>\n",
       "      <td>86.256562</td>\n",
       "      <td></td>\n",
       "      <td></td>\n",
       "      <td></td>\n",
       "      <td></td>\n",
       "    </tr>\n",
       "    <tr>\n",
       "      <td>96</td>\n",
       "      <td>Malta</td>\n",
       "      <td>399.0</td>\n",
       "      <td>6.0</td>\n",
       "      <td>3.0</td>\n",
       "      <td>NaN</td>\n",
       "      <td>44.0</td>\n",
       "      <td>352.0</td>\n",
       "      <td>4.0</td>\n",
       "      <td>904.0</td>\n",
       "      <td>7.0</td>\n",
       "      <td>19121.0</td>\n",
       "      <td>43305.0</td>\n",
       "      <td>Europe</td>\n",
       "      <td>419.158531</td>\n",
       "      <td>1325.444371</td>\n",
       "      <td>2.087519</td>\n",
       "      <td>-78.451496</td>\n",
       "      <td>-65.289347</td>\n",
       "      <td>Σημαντική σημείωση: Τα τεστ που εμφανίζεται να έχει κάνει η χώρα είναι, αναλογικά με τον πληθυσμό της, πολύ αυξημένα συγκριτικά με τη διάμεσο των τεστ που έχουν γίνει ανά χώρα παγκοσμίως. Παράλληλα, εκτιμάται ότι το ποσοστό των επιβεβαιωμένων κρουσμάτων, αναλογικά με τα τεστ, στη χώρα είναι πολύ χαμηλότερο από το αντίστοιχο διάμεσο ποσοστό παγκοσμίως. Για αυτόν τον λόγο, υπολογίζεται ότι, στην πραγματικότητα, η συγκεκριμένη χώρα αντιμετωπίζει πολύ μικρότερο πρόβλημα συγκριτικά με άλλες -και όχι το αντίστροφο, όπως φαίνεται στη χαρτογράφηση των κρουσμάτων ανά 1 εκατ. πληθυσμού</td>\n",
       "      <td>Πολύ αυξημένα τεστ αναλογικά με τον πληθυσμό, χαμηλό ποσοστό κρουσμάτων επί των τεστ: πιθανώς η χώρα αντιμετωπίζει, συγκριτικά με άλλες, πολύ μικρότερο πρόβλημα από αυτό που φαίνεται.</td>\n",
       "      <td>YES</td>\n",
       "      <td>YES</td>\n",
       "    </tr>\n",
       "    <tr>\n",
       "      <td>59</td>\n",
       "      <td>Bahrain</td>\n",
       "      <td>1528.0</td>\n",
       "      <td>NaN</td>\n",
       "      <td>7.0</td>\n",
       "      <td>NaN</td>\n",
       "      <td>648.0</td>\n",
       "      <td>873.0</td>\n",
       "      <td>3.0</td>\n",
       "      <td>898.0</td>\n",
       "      <td>4.0</td>\n",
       "      <td>70813.0</td>\n",
       "      <td>41616.0</td>\n",
       "      <td>Asia</td>\n",
       "      <td>398.910090</td>\n",
       "      <td>1269.848585</td>\n",
       "      <td>2.157824</td>\n",
       "      <td>-77.725768</td>\n",
       "      <td>-64.120334</td>\n",
       "      <td>Σημαντική σημείωση: Τα τεστ που εμφανίζεται να έχει κάνει η χώρα είναι, αναλογικά με τον πληθυσμό της, πολύ αυξημένα συγκριτικά με τη διάμεσο των τεστ που έχουν γίνει ανά χώρα παγκοσμίως. Παράλληλα, εκτιμάται ότι το ποσοστό των επιβεβαιωμένων κρουσμάτων, αναλογικά με τα τεστ, στη χώρα είναι πολύ χαμηλότερο από το αντίστοιχο διάμεσο ποσοστό παγκοσμίως. Για αυτόν τον λόγο, υπολογίζεται ότι, στην πραγματικότητα, η συγκεκριμένη χώρα αντιμετωπίζει πολύ μικρότερο πρόβλημα συγκριτικά με άλλες -και όχι το αντίστροφο, όπως φαίνεται στη χαρτογράφηση των κρουσμάτων ανά 1 εκατ. πληθυσμού</td>\n",
       "      <td>Πολύ αυξημένα τεστ αναλογικά με τον πληθυσμό, χαμηλό ποσοστό κρουσμάτων επί των τεστ: πιθανώς η χώρα αντιμετωπίζει, συγκριτικά με άλλες, πολύ μικρότερο πρόβλημα από αυτό που φαίνεται.</td>\n",
       "      <td>YES</td>\n",
       "      <td>YES</td>\n",
       "    </tr>\n",
       "    <tr>\n",
       "      <td>186</td>\n",
       "      <td>Falkland Islands</td>\n",
       "      <td>11.0</td>\n",
       "      <td>NaN</td>\n",
       "      <td>NaN</td>\n",
       "      <td>NaN</td>\n",
       "      <td>1.0</td>\n",
       "      <td>10.0</td>\n",
       "      <td>NaN</td>\n",
       "      <td>3161.0</td>\n",
       "      <td>NaN</td>\n",
       "      <td>137.0</td>\n",
       "      <td>39368.0</td>\n",
       "      <td>South America</td>\n",
       "      <td>371.960121</td>\n",
       "      <td>1195.852535</td>\n",
       "      <td>8.029364</td>\n",
       "      <td>-17.116537</td>\n",
       "      <td>33.509921</td>\n",
       "      <td></td>\n",
       "      <td></td>\n",
       "      <td></td>\n",
       "      <td></td>\n",
       "    </tr>\n",
       "  </tbody>\n",
       "</table>\n",
       "</div>"
      ],
      "text/plain": [
       "        Country,Other  TotalCases  NewCases  TotalDeaths  NewDeaths  TotalRecovered  ActiveCases  Serious,Critical  Total Cases/1M pop  Deaths/1M pop  TotalTests  Tests/ 1M pop      Continent  testing_mean_diff_pct  testing_median_diff_pct  cases_rate_normalized  cases_rate_mean_diff_pct  cases_rate_median_diff_pct                                                                                                                                                                                                                                                                                                                                                                                                                                                                                                                                                                                              about_note  \\\n",
       "117  Faeroe Islands    184.0      NaN       NaN          NaN         166.0           18.0        NaN                3766.0             NaN             5677.0      116182.0       Europe         1292.838621            3724.292298              3.241466              -66.539825                -46.101850                   Σημαντική σημείωση: Τα τεστ που εμφανίζεται να έχει κάνει η χώρα είναι, αναλογικά με τον πληθυσμό της, πολύ αυξημένα συγκριτικά με τη διάμεσο των τεστ που έχουν γίνει ανά χώρα παγκοσμίως. Παράλληλα, εκτιμάται ότι το ποσοστό των επιβεβαιωμένων κρουσμάτων, αναλογικά με τα τεστ, στη χώρα είναι πολύ χαμηλότερο από το αντίστοιχο διάμεσο ποσοστό παγκοσμίως. Για αυτόν τον λόγο, υπολογίζεται ότι, στην πραγματικότητα, η συγκεκριμένη χώρα αντιμετωπίζει πολύ μικρότερο πρόβλημα συγκριτικά με άλλες -και όχι το αντίστροφο, όπως φαίνεται στη χαρτογράφηση των κρουσμάτων ανά 1 εκατ. πληθυσμού   \n",
       "56   Iceland           1720.0     NaN        8.0         NaN         989.0           723.0        8.0               5040.0              23.0           36339.0     106490.0       Europe         1176.646854            3405.266623              4.732839              -51.145063                -21.303738                   Σημαντική σημείωση: Τα τεστ που εμφανίζεται να έχει κάνει η χώρα είναι, αναλογικά με τον πληθυσμό της, πολύ αυξημένα συγκριτικά με τη διάμεσο των τεστ που έχουν γίνει ανά χώρα παγκοσμίως. Παράλληλα, εκτιμάται ότι το ποσοστό των επιβεβαιωμένων κρουσμάτων, αναλογικά με τα τεστ, στη χώρα είναι πολύ χαμηλότερο από το αντίστοιχο διάμεσο ποσοστό παγκοσμίως. Για αυτόν τον λόγο, υπολογίζεται ότι, στην πραγματικότητα, η συγκεκριμένη χώρα αντιμετωπίζει πολύ μικρότερο πρόβλημα συγκριτικά με άλλες -και όχι το αντίστροφο, όπως φαίνεται στη χαρτογράφηση των κρουσμάτων ανά 1 εκατ. πληθυσμού   \n",
       "37   UAE               4933.0     NaN        28.0        NaN         933.0           3972.0       1.0               499.0               3.0            648195.0    65538.0        Asia           685.697075             2057.274523              0.761390              -92.140515                -87.339824                   Σημαντική σημείωση: Τα τεστ που εμφανίζεται να έχει κάνει η χώρα είναι, αναλογικά με τον πληθυσμό της, πολύ αυξημένα συγκριτικά με τη διάμεσο των τεστ που έχουν γίνει ανά χώρα παγκοσμίως. Παράλληλα, εκτιμάται ότι το ποσοστό των επιβεβαιωμένων κρουσμάτων, αναλογικά με τα τεστ, στη χώρα είναι πολύ χαμηλότερο από το αντίστοιχο διάμεσο ποσοστό παγκοσμίως. Για αυτόν τον λόγο, υπολογίζεται ότι, στην πραγματικότητα, η συγκεκριμένη χώρα αντιμετωπίζει πολύ μικρότερο πρόβλημα συγκριτικά με άλλες -και όχι το αντίστροφο, όπως φαίνεται στη χαρτογράφηση των κρουσμάτων ανά 1 εκατ. πληθυσμού   \n",
       "126  Gibraltar         129.0      NaN       NaN          NaN         104.0           25.0         1.0               3829.0             NaN             1649.0      48945.0        Europe         486.773221             1511.092824              7.823067              -19.246049                 30.079670                                                                                                                                                                                                                                                                                                                                                                                                                                                                                                                                                                                                                            \n",
       "42   Luxembourg        3307.0     NaN        67.0        NaN         500.0           2740.0       30.0              5283.0              107.0          29523.0     47163.0        Europe         465.409856             1452.435813              11.201578              15.628778                 86.256562                                                                                                                                                                                                                                                                                                                                                                                                                                                                                                                                                                                                                            \n",
       "96   Malta             399.0       6.0       3.0         NaN         44.0            352.0        4.0               904.0               7.0            19121.0     43305.0        Europe         419.158531             1325.444371              2.087519              -78.451496                -65.289347                   Σημαντική σημείωση: Τα τεστ που εμφανίζεται να έχει κάνει η χώρα είναι, αναλογικά με τον πληθυσμό της, πολύ αυξημένα συγκριτικά με τη διάμεσο των τεστ που έχουν γίνει ανά χώρα παγκοσμίως. Παράλληλα, εκτιμάται ότι το ποσοστό των επιβεβαιωμένων κρουσμάτων, αναλογικά με τα τεστ, στη χώρα είναι πολύ χαμηλότερο από το αντίστοιχο διάμεσο ποσοστό παγκοσμίως. Για αυτόν τον λόγο, υπολογίζεται ότι, στην πραγματικότητα, η συγκεκριμένη χώρα αντιμετωπίζει πολύ μικρότερο πρόβλημα συγκριτικά με άλλες -και όχι το αντίστροφο, όπως φαίνεται στη χαρτογράφηση των κρουσμάτων ανά 1 εκατ. πληθυσμού   \n",
       "59   Bahrain           1528.0     NaN        7.0         NaN         648.0           873.0        3.0               898.0               4.0            70813.0     41616.0        Asia           398.910090             1269.848585              2.157824              -77.725768                -64.120334                   Σημαντική σημείωση: Τα τεστ που εμφανίζεται να έχει κάνει η χώρα είναι, αναλογικά με τον πληθυσμό της, πολύ αυξημένα συγκριτικά με τη διάμεσο των τεστ που έχουν γίνει ανά χώρα παγκοσμίως. Παράλληλα, εκτιμάται ότι το ποσοστό των επιβεβαιωμένων κρουσμάτων, αναλογικά με τα τεστ, στη χώρα είναι πολύ χαμηλότερο από το αντίστοιχο διάμεσο ποσοστό παγκοσμίως. Για αυτόν τον λόγο, υπολογίζεται ότι, στην πραγματικότητα, η συγκεκριμένη χώρα αντιμετωπίζει πολύ μικρότερο πρόβλημα συγκριτικά με άλλες -και όχι το αντίστροφο, όπως φαίνεται στη χαρτογράφηση των κρουσμάτων ανά 1 εκατ. πληθυσμού   \n",
       "186  Falkland Islands  11.0       NaN       NaN          NaN         1.0             10.0        NaN                3161.0             NaN             137.0       39368.0        South America  371.960121             1195.852535              8.029364              -17.116537                 33.509921                                                                                                                                                                                                                                                                                                                                                                                                                                                                                                                                                                                                                            \n",
       "\n",
       "                                                                                                                                                                                tooltip_note testing_high cases_rate_low  \n",
       "117  Πολύ αυξημένα τεστ αναλογικά με τον πληθυσμό, χαμηλό ποσοστό κρουσμάτων επί των τεστ: πιθανώς η χώρα αντιμετωπίζει, συγκριτικά με άλλες, πολύ μικρότερο πρόβλημα από αυτό που φαίνεται.  YES          YES            \n",
       "56   Πολύ αυξημένα τεστ αναλογικά με τον πληθυσμό, χαμηλό ποσοστό κρουσμάτων επί των τεστ: πιθανώς η χώρα αντιμετωπίζει, συγκριτικά με άλλες, πολύ μικρότερο πρόβλημα από αυτό που φαίνεται.  YES          YES            \n",
       "37   Πολύ αυξημένα τεστ αναλογικά με τον πληθυσμό, χαμηλό ποσοστό κρουσμάτων επί των τεστ: πιθανώς η χώρα αντιμετωπίζει, συγκριτικά με άλλες, πολύ μικρότερο πρόβλημα από αυτό που φαίνεται.  YES          YES            \n",
       "126                                                                                                                                                                                                                       \n",
       "42                                                                                                                                                                                                                        \n",
       "96   Πολύ αυξημένα τεστ αναλογικά με τον πληθυσμό, χαμηλό ποσοστό κρουσμάτων επί των τεστ: πιθανώς η χώρα αντιμετωπίζει, συγκριτικά με άλλες, πολύ μικρότερο πρόβλημα από αυτό που φαίνεται.  YES          YES            \n",
       "59   Πολύ αυξημένα τεστ αναλογικά με τον πληθυσμό, χαμηλό ποσοστό κρουσμάτων επί των τεστ: πιθανώς η χώρα αντιμετωπίζει, συγκριτικά με άλλες, πολύ μικρότερο πρόβλημα από αυτό που φαίνεται.  YES          YES            \n",
       "186                                                                                                                                                                                                                       "
      ]
     },
     "execution_count": 23,
     "metadata": {},
     "output_type": "execute_result"
    }
   ],
   "source": [
    "wom.sort_values(by='testing_median_diff_pct',ascending=False).head(8)"
   ]
  },
  {
   "cell_type": "code",
   "execution_count": 24,
   "metadata": {},
   "outputs": [
    {
     "data": {
      "text/plain": [
       "Country,Other           tooltip_note                                                                                                                                                                             tooltip_note                                                                                                                                                                           \n",
       "Afghanistan                                                                                                                                                                                                                                                                                                                                                                                                 1\n",
       "Albania                                                                                                                                                                                                                                                                                                                                                                                                     1\n",
       "Algeria                                                                                                                                                                                                                                                                                                                                                                                                     1\n",
       "Andorra                                                                                                                                                                                                                                                                                                                                                                                                     1\n",
       "Angola                                                                                                                                                                                                                                                                                                                                                                                                      1\n",
       "Anguilla                                                                                                                                                                                                                                                                                                                                                                                                    1\n",
       "Antigua and Barbuda                                                                                                                                                                                                                                                                                                                                                                                         1\n",
       "Argentina                                                                                                                                                                                                                                                                                                                                                                                                   1\n",
       "Armenia                                                                                                                                                                                                                                                                                                                                                                                                     1\n",
       "Aruba                                                                                                                                                                                                                                                                                                                                                                                                       1\n",
       "Australia                                                                                                                                                                                                                                                                                                                                                                                                   1\n",
       "Austria                                                                                                                                                                                                                                                                                                                                                                                                     1\n",
       "Azerbaijan                                                                                                                                                                                                                                                                                                                                                                                                  1\n",
       "Bahamas                                                                                                                                                                                                                                                                                                                                                                                                     1\n",
       "Bahrain                 Πολύ αυξημένα τεστ αναλογικά με τον πληθυσμό, χαμηλό ποσοστό κρουσμάτων επί των τεστ: πιθανώς η χώρα αντιμετωπίζει, συγκριτικά με άλλες, πολύ μικρότερο πρόβλημα από αυτό που φαίνεται.  Πολύ αυξημένα τεστ αναλογικά με τον πληθυσμό, χαμηλό ποσοστό κρουσμάτων επί των τεστ: πιθανώς η χώρα αντιμετωπίζει, συγκριτικά με άλλες, πολύ μικρότερο πρόβλημα από αυτό που φαίνεται.    1\n",
       "Bangladesh                                                                                                                                                                                                                                                                                                                                                                                                  1\n",
       "Barbados                                                                                                                                                                                                                                                                                                                                                                                                    1\n",
       "Belarus                                                                                                                                                                                                                                                                                                                                                                                                     1\n",
       "Belgium                                                                                                                                                                                                                                                                                                                                                                                                     1\n",
       "Belize                                                                                                                                                                                                                                                                                                                                                                                                      1\n",
       "Benin                                                                                                                                                                                                                                                                                                                                                                                                       1\n",
       "Bermuda                                                                                                                                                                                                                                                                                                                                                                                                     1\n",
       "Bhutan                                                                                                                                                                                                                                                                                                                                                                                                      1\n",
       "Bolivia                                                                                                                                                                                                                                                                                                                                                                                                     1\n",
       "Bosnia and Herzegovina                                                                                                                                                                                                                                                                                                                                                                                      1\n",
       "Botswana                                                                                                                                                                                                                                                                                                                                                                                                    1\n",
       "Brazil                                                                                                                                                                                                                                                                                                                                                                                                      1\n",
       "British Virgin Islands                                                                                                                                                                                                                                                                                                                                                                                      1\n",
       "Brunei                  Πολύ αυξημένα τεστ αναλογικά με τον πληθυσμό, χαμηλό ποσοστό κρουσμάτων επί των τεστ: πιθανώς η χώρα αντιμετωπίζει, συγκριτικά με άλλες, πολύ μικρότερο πρόβλημα από αυτό που φαίνεται.  Πολύ αυξημένα τεστ αναλογικά με τον πληθυσμό, χαμηλό ποσοστό κρουσμάτων επί των τεστ: πιθανώς η χώρα αντιμετωπίζει, συγκριτικά με άλλες, πολύ μικρότερο πρόβλημα από αυτό που φαίνεται.    1\n",
       "Bulgaria                                                                                                                                                                                                                                                                                                                                                                                                    1\n",
       "Burkina Faso                                                                                                                                                                                                                                                                                                                                                                                                1\n",
       "Burundi                                                                                                                                                                                                                                                                                                                                                                                                     1\n",
       "CAR                                                                                                                                                                                                                                                                                                                                                                                                         1\n",
       "Cabo Verde                                                                                                                                                                                                                                                                                                                                                                                                  1\n",
       "Cambodia                                                                                                                                                                                                                                                                                                                                                                                                    1\n",
       "Cameroon                                                                                                                                                                                                                                                                                                                                                                                                    1\n",
       "Canada                                                                                                                                                                                                                                                                                                                                                                                                      1\n",
       "Caribbean Netherlands                                                                                                                                                                                                                                                                                                                                                                                       1\n",
       "Cayman Islands                                                                                                                                                                                                                                                                                                                                                                                              1\n",
       "Chad                                                                                                                                                                                                                                                                                                                                                                                                        1\n",
       "Channel Islands                                                                                                                                                                                                                                                                                                                                                                                             1\n",
       "Chile                                                                                                                                                                                                                                                                                                                                                                                                       1\n",
       "China                                                                                                                                                                                                                                                                                                                                                                                                       1\n",
       "Colombia                                                                                                                                                                                                                                                                                                                                                                                                    1\n",
       "Congo                                                                                                                                                                                                                                                                                                                                                                                                       1\n",
       "Costa Rica                                                                                                                                                                                                                                                                                                                                                                                                  1\n",
       "Croatia                                                                                                                                                                                                                                                                                                                                                                                                     1\n",
       "Cuba                                                                                                                                                                                                                                                                                                                                                                                                        1\n",
       "Curaçao                                                                                                                                                                                                                                                                                                                                                                                                     1\n",
       "Cyprus                                                                                                                                                                                                                                                                                                                                                                                                      1\n",
       "Czechia                                                                                                                                                                                                                                                                                                                                                                                                     1\n",
       "DRC                                                                                                                                                                                                                                                                                                                                                                                                         1\n",
       "Denmark                                                                                                                                                                                                                                                                                                                                                                                                     1\n",
       "Diamond Princess                                                                                                                                                                                                                                                                                                                                                                                            1\n",
       "Djibouti                                                                                                                                                                                                                                                                                                                                                                                                    1\n",
       "Dominica                                                                                                                                                                                                                                                                                                                                                                                                    1\n",
       "Dominican Republic                                                                                                                                                                                                                                                                                                                                                                                          1\n",
       "Ecuador                                                                                                                                                                                                                                                                                                                                                                                                     1\n",
       "Egypt                                                                                                                                                                                                                                                                                                                                                                                                       1\n",
       "El Salvador                                                                                                                                                                                                                                                                                                                                                                                                 1\n",
       "Equatorial Guinea                                                                                                                                                                                                                                                                                                                                                                                           1\n",
       "Eritrea                                                                                                                                                                                                                                                                                                                                                                                                     1\n",
       "Estonia                 Πολύ αυξημένα τεστ αναλογικά με τον πληθυσμό, χαμηλό ποσοστό κρουσμάτων επί των τεστ: πιθανώς η χώρα αντιμετωπίζει, συγκριτικά με άλλες, πολύ μικρότερο πρόβλημα από αυτό που φαίνεται.  Πολύ αυξημένα τεστ αναλογικά με τον πληθυσμό, χαμηλό ποσοστό κρουσμάτων επί των τεστ: πιθανώς η χώρα αντιμετωπίζει, συγκριτικά με άλλες, πολύ μικρότερο πρόβλημα από αυτό που φαίνεται.    1\n",
       "Eswatini                                                                                                                                                                                                                                                                                                                                                                                                    1\n",
       "Ethiopia                                                                                                                                                                                                                                                                                                                                                                                                    1\n",
       "Faeroe Islands          Πολύ αυξημένα τεστ αναλογικά με τον πληθυσμό, χαμηλό ποσοστό κρουσμάτων επί των τεστ: πιθανώς η χώρα αντιμετωπίζει, συγκριτικά με άλλες, πολύ μικρότερο πρόβλημα από αυτό που φαίνεται.  Πολύ αυξημένα τεστ αναλογικά με τον πληθυσμό, χαμηλό ποσοστό κρουσμάτων επί των τεστ: πιθανώς η χώρα αντιμετωπίζει, συγκριτικά με άλλες, πολύ μικρότερο πρόβλημα από αυτό που φαίνεται.    1\n",
       "Falkland Islands                                                                                                                                                                                                                                                                                                                                                                                            1\n",
       "Fiji                                                                                                                                                                                                                                                                                                                                                                                                        1\n",
       "Finland                                                                                                                                                                                                                                                                                                                                                                                                     1\n",
       "France                                                                                                                                                                                                                                                                                                                                                                                                      1\n",
       "French Guiana                                                                                                                                                                                                                                                                                                                                                                                               1\n",
       "French Polynesia                                                                                                                                                                                                                                                                                                                                                                                            1\n",
       "Gabon                                                                                                                                                                                                                                                                                                                                                                                                       1\n",
       "Gambia                                                                                                                                                                                                                                                                                                                                                                                                      1\n",
       "Georgia                                                                                                                                                                                                                                                                                                                                                                                                     1\n",
       "Germany                                                                                                                                                                                                                                                                                                                                                                                                     1\n",
       "Ghana                                                                                                                                                                                                                                                                                                                                                                                                       1\n",
       "Gibraltar                                                                                                                                                                                                                                                                                                                                                                                                   1\n",
       "Greece                                                                                                                                                                                                                                                                                                                                                                                                      1\n",
       "Greenland                                                                                                                                                                                                                                                                                                                                                                                                   1\n",
       "Grenada                                                                                                                                                                                                                                                                                                                                                                                                     1\n",
       "Guadeloupe                                                                                                                                                                                                                                                                                                                                                                                                  1\n",
       "Guatemala                                                                                                                                                                                                                                                                                                                                                                                                   1\n",
       "Guinea                                                                                                                                                                                                                                                                                                                                                                                                      1\n",
       "Guinea-Bissau                                                                                                                                                                                                                                                                                                                                                                                               1\n",
       "Guyana                                                                                                                                                                                                                                                                                                                                                                                                      1\n",
       "Haiti                                                                                                                                                                                                                                                                                                                                                                                                       1\n",
       "Honduras                                                                                                                                                                                                                                                                                                                                                                                                    1\n",
       "Hong Kong                                                                                                                                                                                                                                                                                                                                                                                                   1\n",
       "Hungary                                                                                                                                                                                                                                                                                                                                                                                                     1\n",
       "Iceland                 Πολύ αυξημένα τεστ αναλογικά με τον πληθυσμό, χαμηλό ποσοστό κρουσμάτων επί των τεστ: πιθανώς η χώρα αντιμετωπίζει, συγκριτικά με άλλες, πολύ μικρότερο πρόβλημα από αυτό που φαίνεται.  Πολύ αυξημένα τεστ αναλογικά με τον πληθυσμό, χαμηλό ποσοστό κρουσμάτων επί των τεστ: πιθανώς η χώρα αντιμετωπίζει, συγκριτικά με άλλες, πολύ μικρότερο πρόβλημα από αυτό που φαίνεται.    1\n",
       "India                                                                                                                                                                                                                                                                                                                                                                                                       1\n",
       "Indonesia                                                                                                                                                                                                                                                                                                                                                                                                   1\n",
       "Iran                                                                                                                                                                                                                                                                                                                                                                                                        1\n",
       "Iraq                                                                                                                                                                                                                                                                                                                                                                                                        1\n",
       "Ireland                                                                                                                                                                                                                                                                                                                                                                                                     1\n",
       "Isle of Man                                                                                                                                                                                                                                                                                                                                                                                                 1\n",
       "Israel                                                                                                                                                                                                                                                                                                                                                                                                      1\n",
       "Italy                                                                                                                                                                                                                                                                                                                                                                                                       1\n",
       "Ivory Coast                                                                                                                                                                                                                                                                                                                                                                                                 1\n",
       "Jamaica                                                                                                                                                                                                                                                                                                                                                                                                     1\n",
       "Japan                                                                                                                                                                                                                                                                                                                                                                                                       1\n",
       "Jordan                                                                                                                                                                                                                                                                                                                                                                                                      1\n",
       "Kazakhstan                                                                                                                                                                                                                                                                                                                                                                                                  1\n",
       "Kenya                                                                                                                                                                                                                                                                                                                                                                                                       1\n",
       "Kuwait                                                                                                                                                                                                                                                                                                                                                                                                      1\n",
       "Kyrgyzstan                                                                                                                                                                                                                                                                                                                                                                                                  1\n",
       "Laos                                                                                                                                                                                                                                                                                                                                                                                                        1\n",
       "Latvia                                                                                                                                                                                                                                                                                                                                                                                                      1\n",
       "Lebanon                                                                                                                                                                                                                                                                                                                                                                                                     1\n",
       "Liberia                                                                                                                                                                                                                                                                                                                                                                                                     1\n",
       "Libya                                                                                                                                                                                                                                                                                                                                                                                                       1\n",
       "Liechtenstein                                                                                                                                                                                                                                                                                                                                                                                               1\n",
       "Lithuania                                                                                                                                                                                                                                                                                                                                                                                                   1\n",
       "Luxembourg                                                                                                                                                                                                                                                                                                                                                                                                  1\n",
       "MS Zaandam                                                                                                                                                                                                                                                                                                                                                                                                  1\n",
       "Macao                                                                                                                                                                                                                                                                                                                                                                                                       1\n",
       "Madagascar                                                                                                                                                                                                                                                                                                                                                                                                  1\n",
       "Malawi                                                                                                                                                                                                                                                                                                                                                                                                      1\n",
       "Malaysia                                                                                                                                                                                                                                                                                                                                                                                                    1\n",
       "Maldives                                                                                                                                                                                                                                                                                                                                                                                                    1\n",
       "Mali                                                                                                                                                                                                                                                                                                                                                                                                        1\n",
       "Malta                   Πολύ αυξημένα τεστ αναλογικά με τον πληθυσμό, χαμηλό ποσοστό κρουσμάτων επί των τεστ: πιθανώς η χώρα αντιμετωπίζει, συγκριτικά με άλλες, πολύ μικρότερο πρόβλημα από αυτό που φαίνεται.  Πολύ αυξημένα τεστ αναλογικά με τον πληθυσμό, χαμηλό ποσοστό κρουσμάτων επί των τεστ: πιθανώς η χώρα αντιμετωπίζει, συγκριτικά με άλλες, πολύ μικρότερο πρόβλημα από αυτό που φαίνεται.    1\n",
       "Martinique                                                                                                                                                                                                                                                                                                                                                                                                  1\n",
       "Mauritania                                                                                                                                                                                                                                                                                                                                                                                                  1\n",
       "Mauritius                                                                                                                                                                                                                                                                                                                                                                                                   1\n",
       "Mayotte                                                                                                                                                                                                                                                                                                                                                                                                     1\n",
       "Mexico                                                                                                                                                                                                                                                                                                                                                                                                      1\n",
       "Moldova                                                                                                                                                                                                                                                                                                                                                                                                     1\n",
       "Monaco                                                                                                                                                                                                                                                                                                                                                                                                      1\n",
       "Mongolia                                                                                                                                                                                                                                                                                                                                                                                                    1\n",
       "Montenegro                                                                                                                                                                                                                                                                                                                                                                                                  1\n",
       "Montserrat                                                                                                                                                                                                                                                                                                                                                                                                  1\n",
       "Morocco                                                                                                                                                                                                                                                                                                                                                                                                     1\n",
       "Mozambique                                                                                                                                                                                                                                                                                                                                                                                                  1\n",
       "Myanmar                                                                                                                                                                                                                                                                                                                                                                                                     1\n",
       "Namibia                                                                                                                                                                                                                                                                                                                                                                                                     1\n",
       "Nepal                                                                                                                                                                                                                                                                                                                                                                                                       1\n",
       "Netherlands                                                                                                                                                                                                                                                                                                                                                                                                 1\n",
       "New Caledonia                                                                                                                                                                                                                                                                                                                                                                                               1\n",
       "New Zealand                                                                                                                                                                                                                                                                                                                                                                                                 1\n",
       "Nicaragua                                                                                                                                                                                                                                                                                                                                                                                                   1\n",
       "Niger                                                                                                                                                                                                                                                                                                                                                                                                       1\n",
       "Nigeria                                                                                                                                                                                                                                                                                                                                                                                                     1\n",
       "North Macedonia                                                                                                                                                                                                                                                                                                                                                                                             1\n",
       "Norway                  Πολύ αυξημένα τεστ αναλογικά με τον πληθυσμό, χαμηλό ποσοστό κρουσμάτων επί των τεστ: πιθανώς η χώρα αντιμετωπίζει, συγκριτικά με άλλες, πολύ μικρότερο πρόβλημα από αυτό που φαίνεται.  Πολύ αυξημένα τεστ αναλογικά με τον πληθυσμό, χαμηλό ποσοστό κρουσμάτων επί των τεστ: πιθανώς η χώρα αντιμετωπίζει, συγκριτικά με άλλες, πολύ μικρότερο πρόβλημα από αυτό που φαίνεται.    1\n",
       "Oman                                                                                                                                                                                                                                                                                                                                                                                                        1\n",
       "Pakistan                                                                                                                                                                                                                                                                                                                                                                                                    1\n",
       "Palestine                                                                                                                                                                                                                                                                                                                                                                                                   1\n",
       "Panama                                                                                                                                                                                                                                                                                                                                                                                                      1\n",
       "Papua New Guinea                                                                                                                                                                                                                                                                                                                                                                                            1\n",
       "Paraguay                                                                                                                                                                                                                                                                                                                                                                                                    1\n",
       "Peru                                                                                                                                                                                                                                                                                                                                                                                                        1\n",
       "Philippines                                                                                                                                                                                                                                                                                                                                                                                                 1\n",
       "Poland                                                                                                                                                                                                                                                                                                                                                                                                      1\n",
       "Portugal                                                                                                                                                                                                                                                                                                                                                                                                    1\n",
       "Qatar                                                                                                                                                                                                                                                                                                                                                                                                       1\n",
       "Romania                                                                                                                                                                                                                                                                                                                                                                                                     1\n",
       "Russia                                                                                                                                                                                                                                                                                                                                                                                                      1\n",
       "Rwanda                                                                                                                                                                                                                                                                                                                                                                                                      1\n",
       "Réunion                                                                                                                                                                                                                                                                                                                                                                                                     1\n",
       "S. Korea                                                                                                                                                                                                                                                                                                                                                                                                    1\n",
       "Saint Kitts and Nevis                                                                                                                                                                                                                                                                                                                                                                                       1\n",
       "Saint Lucia                                                                                                                                                                                                                                                                                                                                                                                                 1\n",
       "Saint Martin                                                                                                                                                                                                                                                                                                                                                                                                1\n",
       "Saint Pierre Miquelon                                                                                                                                                                                                                                                                                                                                                                                       1\n",
       "San Marino                                                                                                                                                                                                                                                                                                                                                                                                  1\n",
       "Sao Tome and Principe                                                                                                                                                                                                                                                                                                                                                                                       1\n",
       "Saudi Arabia                                                                                                                                                                                                                                                                                                                                                                                                1\n",
       "Senegal                                                                                                                                                                                                                                                                                                                                                                                                     1\n",
       "Serbia                                                                                                                                                                                                                                                                                                                                                                                                      1\n",
       "Seychelles                                                                                                                                                                                                                                                                                                                                                                                                  1\n",
       "Sierra Leone                                                                                                                                                                                                                                                                                                                                                                                                1\n",
       "Singapore                                                                                                                                                                                                                                                                                                                                                                                                   1\n",
       "Sint Maarten                                                                                                                                                                                                                                                                                                                                                                                                1\n",
       "Slovakia                                                                                                                                                                                                                                                                                                                                                                                                    1\n",
       "Slovenia                                                                                                                                                                                                                                                                                                                                                                                                    1\n",
       "Somalia                                                                                                                                                                                                                                                                                                                                                                                                     1\n",
       "South Africa                                                                                                                                                                                                                                                                                                                                                                                                1\n",
       "South Sudan                                                                                                                                                                                                                                                                                                                                                                                                 1\n",
       "Spain                                                                                                                                                                                                                                                                                                                                                                                                       1\n",
       "Sri Lanka                                                                                                                                                                                                                                                                                                                                                                                                   1\n",
       "St. Barth                                                                                                                                                                                                                                                                                                                                                                                                   1\n",
       "St. Vincent Grenadines                                                                                                                                                                                                                                                                                                                                                                                      1\n",
       "Sudan                                                                                                                                                                                                                                                                                                                                                                                                       1\n",
       "Suriname                                                                                                                                                                                                                                                                                                                                                                                                    1\n",
       "Sweden                                                                                                                                                                                                                                                                                                                                                                                                      1\n",
       "Switzerland                                                                                                                                                                                                                                                                                                                                                                                                 1\n",
       "Syria                                                                                                                                                                                                                                                                                                                                                                                                       1\n",
       "Taiwan                                                                                                                                                                                                                                                                                                                                                                                                      1\n",
       "Tanzania                                                                                                                                                                                                                                                                                                                                                                                                    1\n",
       "Thailand                                                                                                                                                                                                                                                                                                                                                                                                    1\n",
       "Timor-Leste                                                                                                                                                                                                                                                                                                                                                                                                 1\n",
       "Togo                                                                                                                                                                                                                                                                                                                                                                                                        1\n",
       "Trinidad and Tobago                                                                                                                                                                                                                                                                                                                                                                                         1\n",
       "Tunisia                                                                                                                                                                                                                                                                                                                                                                                                     1\n",
       "Turkey                                                                                                                                                                                                                                                                                                                                                                                                      1\n",
       "Turks and Caicos                                                                                                                                                                                                                                                                                                                                                                                            1\n",
       "UAE                     Πολύ αυξημένα τεστ αναλογικά με τον πληθυσμό, χαμηλό ποσοστό κρουσμάτων επί των τεστ: πιθανώς η χώρα αντιμετωπίζει, συγκριτικά με άλλες, πολύ μικρότερο πρόβλημα από αυτό που φαίνεται.  Πολύ αυξημένα τεστ αναλογικά με τον πληθυσμό, χαμηλό ποσοστό κρουσμάτων επί των τεστ: πιθανώς η χώρα αντιμετωπίζει, συγκριτικά με άλλες, πολύ μικρότερο πρόβλημα από αυτό που φαίνεται.    1\n",
       "UK                                                                                                                                                                                                                                                                                                                                                                                                          1\n",
       "USA                                                                                                                                                                                                                                                                                                                                                                                                         1\n",
       "Uganda                                                                                                                                                                                                                                                                                                                                                                                                      1\n",
       "Ukraine                                                                                                                                                                                                                                                                                                                                                                                                     1\n",
       "Uruguay                                                                                                                                                                                                                                                                                                                                                                                                     1\n",
       "Uzbekistan                                                                                                                                                                                                                                                                                                                                                                                                  1\n",
       "Vatican City                                                                                                                                                                                                                                                                                                                                                                                                1\n",
       "Venezuela                                                                                                                                                                                                                                                                                                                                                                                                   1\n",
       "Vietnam                                                                                                                                                                                                                                                                                                                                                                                                     1\n",
       "Western Sahara                                                                                                                                                                                                                                                                                                                                                                                              1\n",
       "Yemen                                                                                                                                                                                                                                                                                                                                                                                                       1\n",
       "Zambia                                                                                                                                                                                                                                                                                                                                                                                                      1\n",
       "Zimbabwe                                                                                                                                                                                                                                                                                                                                                                                                    1\n",
       "Name: tooltip_note, dtype: int64"
      ]
     },
     "execution_count": 24,
     "metadata": {},
     "output_type": "execute_result"
    }
   ],
   "source": [
    "wom[wom['tooltip_note'].notnull()].groupby(['Country,Other','tooltip_note']).tooltip_note.value_counts(ascending=False)"
   ]
  },
  {
   "cell_type": "code",
   "execution_count": null,
   "metadata": {},
   "outputs": [],
   "source": []
  },
  {
   "cell_type": "code",
   "execution_count": null,
   "metadata": {},
   "outputs": [],
   "source": []
  },
  {
   "cell_type": "markdown",
   "metadata": {},
   "source": [
    "#### Find kmeans and visualize clusters of countries"
   ]
  },
  {
   "cell_type": "code",
   "execution_count": 25,
   "metadata": {},
   "outputs": [],
   "source": [
    "\n",
    "from sklearn.cluster import KMeans \n",
    "from sklearn import metrics \n",
    "from scipy.spatial.distance import cdist "
   ]
  },
  {
   "cell_type": "code",
   "execution_count": 26,
   "metadata": {},
   "outputs": [],
   "source": [
    "wom = wom[wom['Tests/ 1M pop'].notnull()]"
   ]
  },
  {
   "cell_type": "code",
   "execution_count": 27,
   "metadata": {},
   "outputs": [],
   "source": [
    "wom = wom[wom['Total Cases/1M pop'].notnull()]"
   ]
  },
  {
   "cell_type": "code",
   "execution_count": 28,
   "metadata": {},
   "outputs": [
    {
     "data": {
      "text/plain": [
       "(162, 22)"
      ]
     },
     "execution_count": 28,
     "metadata": {},
     "output_type": "execute_result"
    }
   ],
   "source": [
    "wom.shape"
   ]
  },
  {
   "cell_type": "code",
   "execution_count": 29,
   "metadata": {},
   "outputs": [],
   "source": [
    "X = np.array(list(zip(wom['Tests/ 1M pop'], wom['Total Cases/1M pop']))).reshape(len(wom['Tests/ 1M pop']), 2) "
   ]
  },
  {
   "cell_type": "code",
   "execution_count": 30,
   "metadata": {},
   "outputs": [],
   "source": [
    "distortions = [] \n",
    "inertias = [] \n",
    "mapping1 = {} \n",
    "mapping2 = {} \n",
    "K = range(1,10) \n",
    "  \n",
    "for k in K: \n",
    "    #Building and fitting the model \n",
    "    kmeanModel = KMeans(n_clusters=k).fit(X) \n",
    "    kmeanModel.fit(X)     \n",
    "      \n",
    "    distortions.append(sum(np.min(cdist(X, kmeanModel.cluster_centers_, \n",
    "                      'euclidean'),axis=1)) / X.shape[0]) \n",
    "    inertias.append(kmeanModel.inertia_) \n",
    "  \n",
    "    mapping1[k] = sum(np.min(cdist(X, kmeanModel.cluster_centers_, \n",
    "                 'euclidean'),axis=1)) / X.shape[0] \n",
    "    mapping2[k] = kmeanModel.inertia_ "
   ]
  },
  {
   "cell_type": "code",
   "execution_count": 31,
   "metadata": {},
   "outputs": [
    {
     "data": {
      "image/png": "[encoded data removed]",
      "text/plain": [
       "<Figure size 432x288 with 1 Axes>"
      ]
     },
     "metadata": {
      "needs_background": "light"
     },
     "output_type": "display_data"
    }
   ],
   "source": [
    "plt.plot(K, distortions, 'bx-') \n",
    "plt.xlabel('Values of K') \n",
    "plt.ylabel('Distortion') \n",
    "plt.title('The Elbow Method using Distortion') \n",
    "plt.show()"
   ]
  },
  {
   "cell_type": "code",
   "execution_count": 32,
   "metadata": {},
   "outputs": [
    {
     "data": {
      "image/png": "[encoded data removed]",
      "text/plain": [
       "<Figure size 432x288 with 1 Axes>"
      ]
     },
     "metadata": {
      "needs_background": "light"
     },
     "output_type": "display_data"
    }
   ],
   "source": [
    "plt.plot(K, inertias, 'bx-') \n",
    "plt.xlabel('Values of K') \n",
    "plt.ylabel('Inertia') \n",
    "plt.title('The Elbow Method using Inertia') \n",
    "plt.show() "
   ]
  },
  {
   "cell_type": "code",
   "execution_count": 33,
   "metadata": {},
   "outputs": [],
   "source": [
    "df = wom[['Tests/ 1M pop','Total Cases/1M pop']].copy()"
   ]
  },
  {
   "cell_type": "code",
   "execution_count": 34,
   "metadata": {},
   "outputs": [
    {
     "data": {
      "text/plain": [
       "(162, 2)"
      ]
     },
     "execution_count": 34,
     "metadata": {},
     "output_type": "execute_result"
    }
   ],
   "source": [
    "df.shape"
   ]
  },
  {
   "cell_type": "code",
   "execution_count": 35,
   "metadata": {},
   "outputs": [
    {
     "data": {
      "text/plain": [
       "Tests/ 1M pop         float64\n",
       "Total Cases/1M pop    float64\n",
       "dtype: object"
      ]
     },
     "execution_count": 35,
     "metadata": {},
     "output_type": "execute_result"
    }
   ],
   "source": [
    "df.dtypes"
   ]
  },
  {
   "cell_type": "code",
   "execution_count": 36,
   "metadata": {},
   "outputs": [],
   "source": [
    "kmeans = KMeans(n_clusters=5).fit(df)"
   ]
  },
  {
   "cell_type": "code",
   "execution_count": 37,
   "metadata": {},
   "outputs": [
    {
     "name": "stdout",
     "output_type": "stream",
     "text": [
      "[[  1849.41964286    188.56339286]\n",
      " [ 47655.83333333   2429.        ]\n",
      " [111336.           4403.        ]\n",
      " [ 21285.2          2854.13333333]\n",
      " [ 11714.22222222    878.59259259]]\n"
     ]
    },
    {
     "data": {
      "image/png": "[encoded data removed]",
      "text/plain": [
       "<Figure size 432x288 with 1 Axes>"
      ]
     },
     "metadata": {
      "needs_background": "light"
     },
     "output_type": "display_data"
    }
   ],
   "source": [
    "kmeans = KMeans(n_clusters=5).fit(df)\n",
    "centroids = kmeans.cluster_centers_\n",
    "print(centroids)\n",
    "\n",
    "plt.scatter(df['Tests/ 1M pop'], df['Total Cases/1M pop'], c= kmeans.labels_.astype(float), s=75, alpha=.7)\n",
    "plt.scatter(centroids[:, 0], centroids[:, 1], c='red', s=75, alpha=.7)\n",
    "plt.show()"
   ]
  },
  {
   "cell_type": "code",
   "execution_count": 38,
   "metadata": {},
   "outputs": [
    {
     "name": "stdout",
     "output_type": "stream",
     "text": [
      "[[  2321.96694215    237.35619835]\n",
      " [ 47655.83333333   2429.        ]\n",
      " [ 17022.39393939   1785.84848485]\n",
      " [111336.           4403.        ]]\n"
     ]
    },
    {
     "data": {
      "image/png": "[encoded data removed]",
      "text/plain": [
       "<Figure size 432x288 with 1 Axes>"
      ]
     },
     "metadata": {
      "needs_background": "light"
     },
     "output_type": "display_data"
    }
   ],
   "source": [
    "kmeans = KMeans(n_clusters=4).fit(df)\n",
    "centroids = kmeans.cluster_centers_\n",
    "print(centroids)\n",
    "\n",
    "plt.scatter(df['Tests/ 1M pop'], df['Total Cases/1M pop'], c= kmeans.labels_.astype(float), s=75, alpha=.7)\n",
    "plt.scatter(centroids[:, 0], centroids[:, 1], c='red', s=75, alpha=.7)\n",
    "plt.show()"
   ]
  },
  {
   "cell_type": "code",
   "execution_count": 39,
   "metadata": {},
   "outputs": [
    {
     "name": "stdout",
     "output_type": "stream",
     "text": [
      "[[8.80084337e+02 7.37481928e+01]\n",
      " [1.11336000e+05 4.40300000e+03]\n",
      " [1.47998800e+04 1.15008000e+03]\n",
      " [4.76558333e+04 2.42900000e+03]\n",
      " [5.47134211e+03 5.94710526e+02]\n",
      " [2.39677500e+04 3.77262500e+03]]\n"
     ]
    },
    {
     "data": {
      "image/png": "[encoded data removed]",
      "text/plain": [
       "<Figure size 432x288 with 1 Axes>"
      ]
     },
     "metadata": {
      "needs_background": "light"
     },
     "output_type": "display_data"
    }
   ],
   "source": [
    "kmeans = KMeans(n_clusters=6).fit(df)\n",
    "centroids = kmeans.cluster_centers_\n",
    "print(centroids)\n",
    "\n",
    "plt.scatter(df['Tests/ 1M pop'], df['Total Cases/1M pop'], c= kmeans.labels_.astype(float), s=75, alpha=.7)\n",
    "plt.scatter(centroids[:, 0], centroids[:, 1], c='red', s=75, alpha=.7)\n",
    "plt.show()"
   ]
  },
  {
   "cell_type": "code",
   "execution_count": null,
   "metadata": {},
   "outputs": [],
   "source": []
  }
 ],
 "metadata": {
  "kernelspec": {
   "display_name": "Python 3",
   "language": "python",
   "name": "python3"
  },
  "language_info": {
   "codemirror_mode": {
    "name": "ipython",
    "version": 3
   },
   "file_extension": ".py",
   "mimetype": "text/x-python",
   "name": "python",
   "nbconvert_exporter": "python",
   "pygments_lexer": "ipython3",
   "version": "3.7.4"
  }
 },
 "nbformat": 4,
 "nbformat_minor": 2
}
