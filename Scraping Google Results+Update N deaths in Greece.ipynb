{
 "cells": [
  {
   "cell_type": "markdown",
   "metadata": {},
   "source": [
    "#### Imports"
   ]
  },
  {
   "cell_type": "code",
   "execution_count": 1,
   "metadata": {},
   "outputs": [
    {
     "name": "stderr",
     "output_type": "stream",
     "text": [
      "C:\\Users\\k.kiki\\AppData\\Local\\Programs\\Python\\Python37-32\\lib\\site-packages\\ipykernel_launcher.py:11: UserWarning: Warning Simulation\n",
      "  # This is added back by InteractiveShellApp.init_path()\n"
     ]
    }
   ],
   "source": [
    "import pandas as pd\n",
    "import re\n",
    "import requests\n",
    "from requests import get\n",
    "from bs4 import BeautifulSoup\n",
    "import warnings\n",
    "from time import sleep\n",
    "from random import randint\n",
    "from time import time\n",
    "timestart_time = time()\n",
    "warnings.warn('Warning Simulation')\n",
    "from IPython.core.display import clear_output"
   ]
  },
  {
   "cell_type": "code",
   "execution_count": 2,
   "metadata": {},
   "outputs": [],
   "source": [
    "pd.set_option('display.max_colwidth', -1)\n",
    "pd.set_option('display.max_rows', 500)\n",
    "pd.set_option('display.max_columns', 500)\n",
    "pd.set_option('display.width', 1000)"
   ]
  },
  {
   "cell_type": "markdown",
   "metadata": {},
   "source": [
    "#### Read our datasets and store variables for later use"
   ]
  },
  {
   "cell_type": "code",
   "execution_count": 3,
   "metadata": {},
   "outputs": [],
   "source": [
    "greece = pd.read_csv('https://docs.google.com/spreadsheets/d/e/2PACX-1vRpR8AOJaRsB5by7H3R_GijtaY06J8srELipebO5B0jYEg9pKugT3C6Rk2RSQ5eyerQl7LolshamK27/pub?gid=1017539712&single=true&output=csv')\n",
    "# ('https://raw.githubusercontent.com/iMEdD-Lab/open-data/master/COVID-19/greece.csv')\n",
    "# ('https://docs.google.com/spreadsheets/d/e/2PACX-1vRpR8AOJaRsB5by7H3R_GijtaY06J8srELipebO5B0jYEg9pKugT3C6Rk2RSQ5eyerQl7LolshamK27/pub?gid=1017539712&single=true&output=csv')\n",
    "greeceTimeline = pd.read_csv('https://raw.githubusercontent.com/iMEdD-Lab/open-data/master/COVID-19/greeceTimeline.csv')\n",
    "\n",
    "#total number of deaths in our current dataset\n",
    "greecedeadsum = greece.dead.sum()\n",
    "\n",
    "#number of deaths for which location remains unknown in our current dataset\n",
    "greecedeadunknown = greece[greece['county_en'] == 'Unknown']['dead']\n",
    "\n",
    "#max number of daily deaths recorded till now, according to our dataset\n",
    "upperthresh = greeceTimeline[greeceTimeline.Status == 'deaths'].max(axis=1).tolist()[0]"
   ]
  },
  {
   "cell_type": "markdown",
   "metadata": {},
   "source": [
    "#### Scrape Google results, clean them and store them in a df"
   ]
  },
  {
   "cell_type": "code",
   "execution_count": 4,
   "metadata": {},
   "outputs": [],
   "source": [
    "#Searching for \"dead Greece\" (\"νεκροί Ελλάδα\") in pages written in Greek within an hour\n",
    "raw_html = requests.get('https://www.google.com/search?q=%CE%BD%CE%B5%CE%BA%CF%81%CE%BF%CE%B9+%CE%B5%CE%BB%CE%BB%CE%AC%CE%B4%CE%B1&rlz=1C1GCEU_enGR865GR865&tbas=0&tbs=qdr:h,lr:lang_1el&sxsrf=ALeKk03bddItnMzR_Zql20kk2bhn6Q8Dzg:1590053633527&source=lnt&lr=lang_el&sa=X&ved=2ahUKEwjb4f-v08TpAhVNwMQBHXHTDXoQpwV6BAgLEBo&biw=1536&bih=722')\n",
    "\n",
    "# raw_html"
   ]
  },
  {
   "cell_type": "code",
   "execution_count": 5,
   "metadata": {},
   "outputs": [],
   "source": [
    "soup = BeautifulSoup(raw_html.content, \"html.parser\") \n",
    "# print(soup.prettify())\n",
    "# html=list(soup.children)[1]\n",
    "# container = list(html.children)[1]\n",
    "# box = list(container.children)[1]\n",
    "# results = box.find_all('div',{'class':'ZINbbc xpd O9g5cc uUPGi'})\n",
    "\n",
    "results = list(list(list(soup.children)[1].children)[1].children)[1]\\\n",
    "            .find_all('div',{'class':'ZINbbc xpd O9g5cc uUPGi'})\n",
    "\n",
    "table = []\n",
    "\n",
    "for result in results:\n",
    "    entries = {}\n",
    "    entries['result'] = result.text\n",
    "    \n",
    "    table.append(entries)\n",
    "\n",
    "df = pd.DataFrame(table)\n",
    "\n",
    "df['deaths'] = df.result.str.extract(r'\\s+(\\d\\d\\d)\\s+(?:.*?οι\\s+νεκροί|.*?τα\\s+θύματα|.*?οι\\s+θάνατοι)')\\\n",
    "                .astype(float)\n",
    "df['source'] = df.result.str.extract(r'(?:.*www[.]|.*https:\\/\\/)(\\w+)[.]')\n",
    "\n",
    "\n",
    "    \n",
    "df = df[(df.deaths == greecedeadsum) | ((df.deaths <= greecedeadsum+upperthresh) & (df.deaths >= greecedeadsum))] \n",
    "# df"
   ]
  },
  {
   "cell_type": "code",
   "execution_count": 6,
   "metadata": {},
   "outputs": [
    {
     "data": {
      "text/html": [
       "<div>\n",
       "<style scoped>\n",
       "    .dataframe tbody tr th:only-of-type {\n",
       "        vertical-align: middle;\n",
       "    }\n",
       "\n",
       "    .dataframe tbody tr th {\n",
       "        vertical-align: top;\n",
       "    }\n",
       "\n",
       "    .dataframe thead th {\n",
       "        text-align: right;\n",
       "    }\n",
       "</style>\n",
       "<table border=\"1\" class=\"dataframe\">\n",
       "  <thead>\n",
       "    <tr style=\"text-align: right;\">\n",
       "      <th></th>\n",
       "      <th>result</th>\n",
       "      <th>deaths</th>\n",
       "      <th>source</th>\n",
       "    </tr>\n",
       "  </thead>\n",
       "  <tbody>\n",
       "    <tr>\n",
       "      <td>1</td>\n",
       "      <td>Κοροναϊός: Κατέληξε 91χρονη - 170 οι νεκροί στην Ελλάδα | in.grhttps://www.in.gr › Ελλάδαπριν από 5 λεπτά · ¶λλο ένα θύμα προστέθηκε στη μαύρη λίστα των νεκρών από κοροναϊό στην Ελλλάδα, καθώς μία 91χρονη γυναίκα που νοσηλευόταν στο Γενικό Νοσοκομείο ...</td>\n",
       "      <td>170.0</td>\n",
       "      <td>in</td>\n",
       "    </tr>\n",
       "    <tr>\n",
       "      <td>5</td>\n",
       "      <td>ΕΙΔΗΣΕΙΣ - Onmed.grhttps://www.onmed.gr › ygeia-eidhseisπριν από 57 λεπτά · Κορoνοϊός: Στους 169 οι νεκροί στη χώρα μας - 21 νέα κρούσματα - 2.873 συνολικά. 22/05/2020 19:43. Στα 2.873 ανέρχονται τα επιβεβαιωμένα κρούσματα του ...</td>\n",
       "      <td>169.0</td>\n",
       "      <td>onmed</td>\n",
       "    </tr>\n",
       "    <tr>\n",
       "      <td>7</td>\n",
       "      <td>Κορωνοϊός: Κατέληξε 91χρονη - Στους 170 οι νεκροί - proto themahttps://www.protothema.gr › koronoios-katelixe-91hroni-stous-170-oi-nekroiπριν από 24 λεπτά · Κορωνοϊός: Κατέληξε 91χρονη - Στους 170 οι νεκροί ... Δείτε όλες τις τελευταίες Ειδήσεις από την Ελλάδα και τον Κόσμο, τη στιγμή που συμβαίνουν, στο ...</td>\n",
       "      <td>170.0</td>\n",
       "      <td>protothema</td>\n",
       "    </tr>\n",
       "  </tbody>\n",
       "</table>\n",
       "</div>"
      ],
      "text/plain": [
       "                                                                                                                                                                                                                                                                                                                  result  deaths      source\n",
       "1  Κοροναϊός: Κατέληξε 91χρονη - 170 οι νεκροί στην Ελλάδα | in.grhttps://www.in.gr › Ελλάδαπριν από 5 λεπτά · ¶λλο ένα θύμα προστέθηκε στη μαύρη λίστα των νεκρών από κοροναϊό στην Ελλλάδα, καθώς μία 91χρονη γυναίκα που νοσηλευόταν στο Γενικό Νοσοκομείο ...                                                         170.0   in        \n",
       "5  ΕΙΔΗΣΕΙΣ - Onmed.grhttps://www.onmed.gr › ygeia-eidhseisπριν από 57 λεπτά · Κορoνοϊός: Στους 169 οι νεκροί στη χώρα μας - 21 νέα κρούσματα - 2.873 συνολικά. 22/05/2020 19:43. Στα 2.873 ανέρχονται τα επιβεβαιωμένα κρούσματα του ...                                                                                 169.0   onmed     \n",
       "7  Κορωνοϊός: Κατέληξε 91χρονη - Στους 170 οι νεκροί - proto themahttps://www.protothema.gr › koronoios-katelixe-91hroni-stous-170-oi-nekroiπριν από 24 λεπτά · Κορωνοϊός: Κατέληξε 91χρονη - Στους 170 οι νεκροί ... Δείτε όλες τις τελευταίες Ειδήσεις από την Ελλάδα και τον Κόσμο, τη στιγμή που συμβαίνουν, στο ...  170.0   protothema"
      ]
     },
     "execution_count": 6,
     "metadata": {},
     "output_type": "execute_result"
    }
   ],
   "source": [
    "df"
   ]
  },
  {
   "cell_type": "markdown",
   "metadata": {},
   "source": [
    "#### Check current number of deaths on Google, notify us respectively and update our dataset if needed "
   ]
  },
  {
   "cell_type": "code",
   "execution_count": 7,
   "metadata": {},
   "outputs": [],
   "source": [
    "googlemax = df.deaths.max()\n",
    "googlemax_source = df[df.deaths == googlemax].source.tolist()\n",
    "mentions = df[df.deaths == googlemax].deaths.count()\n",
    "\n",
    "# if total number of deaths in our dataset is smaller than max number of deaths in current Google results and\n",
    "# if what Google says is smaller than our total number of deaths plus the max number of daily deaths recorded and \n",
    "# if that is published by more than 2 websites in our Google results\n",
    "if greecedeadsum < googlemax and googlemax < greecedeadsum+upperthresh and mentions >= 2:\n",
    "\n",
    "    #then add the difference to the current value of deaths with no known location, save an updated csv and notify us\n",
    "    greecedeadunknown = greecedeadunknown+(googlemax-greecedeadsum)\n",
    "    greece.loc[greece['county_en'] == 'Unknown', 'dead'] = greecedeadunknown\n",
    "    \n",
    "    greece.to_csv('greece_auto_test.csv',index=False)\n",
    "\n",
    "    text = 'Breaking: It seems we currently count '+str(df.deaths.max())+' deaths. Source: '+str(googlemax_source)+' // greece.dead was updated and greece_auto_test.csv has been saved.'\n",
    "\n",
    "# if total number of deaths in our dataset is smaller than max number of deaths in current Google results and\n",
    "# if what Google says is smaller than our total number of deaths plus the max number of daily deaths recorded but \n",
    "# that is published by 2, or less, websites in our Google results\n",
    "elif greecedeadsum < googlemax and googlemax < greecedeadsum+upperthresh and mentions < 2:\n",
    "    \n",
    "    #then just notify us to check it out\n",
    "    text = 'To be confirmed: It seems we currently count '+str(googlemax)+' deaths. Source: '+str(googlemax_source)\n",
    "\n",
    "else:\n",
    "    text = 'Cool: greece.dead is updated! We still count '+str(googlemax)+' deaths. Source: '+str(googlemax_source)"
   ]
  },
  {
   "cell_type": "code",
   "execution_count": 8,
   "metadata": {},
   "outputs": [
    {
     "data": {
      "text/plain": [
       "\"Breaking: It seems we currently count 170.0 deaths. Source: ['in', 'protothema'] // greece.dead was updated and greece_auto_test.csv has been saved.\""
      ]
     },
     "execution_count": 8,
     "metadata": {},
     "output_type": "execute_result"
    }
   ],
   "source": [
    "text"
   ]
  },
  {
   "cell_type": "code",
   "execution_count": 9,
   "metadata": {},
   "outputs": [],
   "source": [
    "# t = ' thanassis'\n",
    "# f'troboukis{t}'"
   ]
  },
  {
   "cell_type": "code",
   "execution_count": 10,
   "metadata": {},
   "outputs": [],
   "source": [
    "# df.to_csv(f'CSVs/K_report{time.strftime('%Y_%m_%d-%H_%M')}.csv, index=False, encoding = 'utf-8')"
   ]
  },
  {
   "cell_type": "code",
   "execution_count": 11,
   "metadata": {},
   "outputs": [
    {
     "name": "stdout",
     "output_type": "stream",
     "text": [
      "Breaking: It seems we currently count 170.0 deaths. Source: ['in', 'protothema'] // greece.dead was updated and greece_auto_test.csv has been saved.\n"
     ]
    }
   ],
   "source": [
    "print(text)"
   ]
  },
  {
   "cell_type": "code",
   "execution_count": 12,
   "metadata": {},
   "outputs": [],
   "source": [
    "# test1 = pd.read_csv('greece_auto_test.csv')\n",
    "# test1"
   ]
  },
  {
   "cell_type": "code",
   "execution_count": 14,
   "metadata": {},
   "outputs": [
    {
     "data": {
      "text/plain": [
       "170.0"
      ]
     },
     "execution_count": 14,
     "metadata": {},
     "output_type": "execute_result"
    }
   ],
   "source": [
    "test = pd.read_csv('greece_auto_test.csv')\n",
    "test.dead.sum()\n"
   ]
  },
  {
   "cell_type": "code",
   "execution_count": null,
   "metadata": {},
   "outputs": [],
   "source": []
  }
 ],
 "metadata": {
  "kernelspec": {
   "display_name": "Python 3",
   "language": "python",
   "name": "python3"
  },
  "language_info": {
   "codemirror_mode": {
    "name": "ipython",
    "version": 3
   },
   "file_extension": ".py",
   "mimetype": "text/x-python",
   "name": "python",
   "nbconvert_exporter": "python",
   "pygments_lexer": "ipython3",
   "version": "3.7.4"
  }
 },
 "nbformat": 4,
 "nbformat_minor": 2
}
