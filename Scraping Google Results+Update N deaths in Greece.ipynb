{
 "cells": [
  {
   "cell_type": "markdown",
   "metadata": {},
   "source": [
    "#### Imports"
   ]
  },
  {
   "cell_type": "code",
   "execution_count": null,
   "metadata": {},
   "outputs": [],
   "source": [
    "import pandas as pd\n",
    "import re\n",
    "import requests\n",
    "from requests import get\n",
    "from bs4 import BeautifulSoup\n",
    "import warnings\n",
    "from time import sleep\n",
    "from random import randint\n",
    "from time import time\n",
    "timestart_time = time()\n",
    "warnings.warn('Warning Simulation')\n",
    "from IPython.core.display import clear_output"
   ]
  },
  {
   "cell_type": "code",
   "execution_count": null,
   "metadata": {},
   "outputs": [],
   "source": [
    "pd.set_option('display.max_colwidth', -1)\n",
    "pd.set_option('display.max_rows', 500)\n",
    "pd.set_option('display.max_columns', 500)\n",
    "pd.set_option('display.width', 1000)"
   ]
  },
  {
   "cell_type": "markdown",
   "metadata": {},
   "source": [
    "#### Read our datasets and store variables for later use"
   ]
  },
  {
   "cell_type": "code",
   "execution_count": null,
   "metadata": {},
   "outputs": [],
   "source": [
    "greece = pd.read_csv('https://raw.githubusercontent.com/iMEdD-Lab/open-data/master/COVID-19/greece.csv')\n",
    "greeceTimeline = pd.read_csv('https://raw.githubusercontent.com/iMEdD-Lab/open-data/master/COVID-19/greeceTimeline.csv')\n",
    "\n",
    "#total number of deaths in our current dataset\n",
    "greecedeadsum = greece.dead.sum()\n",
    "\n",
    "#number of deaths for which location remains unknown in our current dataset\n",
    "greecedeadunknown = greece[greece['county_en'] == 'Unknown']['dead']\n",
    "\n",
    "#max number of daily deaths recorded till now, according to our dataset\n",
    "upperthresh = greeceTimeline[greeceTimeline.Status == 'deaths'].max(axis=1).tolist()[0]"
   ]
  },
  {
   "cell_type": "markdown",
   "metadata": {},
   "source": [
    "#### Scrape Google results, clean them and store them in a df"
   ]
  },
  {
   "cell_type": "code",
   "execution_count": null,
   "metadata": {},
   "outputs": [],
   "source": [
    "#Searching for \"dead Greece\" (\"νεκροί Ελλάδα\") in pages written in Greek within an hour\n",
    "raw_html = requests.get('https://www.google.com/search?q=%CE%BD%CE%B5%CE%BA%CF%81%CE%BF%CE%B9+%CE%B5%CE%BB%CE%BB%CE%AC%CE%B4%CE%B1&rlz=1C1GCEU_enGR865GR865&tbas=0&tbs=qdr:h,lr:lang_1el&sxsrf=ALeKk03bddItnMzR_Zql20kk2bhn6Q8Dzg:1590053633527&source=lnt&lr=lang_el&sa=X&ved=2ahUKEwjb4f-v08TpAhVNwMQBHXHTDXoQpwV6BAgLEBo&biw=1536&bih=722')\n",
    "\n",
    "# raw_html"
   ]
  },
  {
   "cell_type": "code",
   "execution_count": null,
   "metadata": {},
   "outputs": [],
   "source": [
    "soup = BeautifulSoup(raw_html.content, \"html.parser\") \n",
    "# print(soup.prettify())\n",
    "# html=list(soup.children)[1]\n",
    "# container = list(html.children)[1]\n",
    "# box = list(container.children)[1]\n",
    "# results = box.find_all('div',{'class':'ZINbbc xpd O9g5cc uUPGi'})\n",
    "\n",
    "results = list(list(list(soup.children)[1].children)[1].children)[1]\\\n",
    "            .find_all('div',{'class':'ZINbbc xpd O9g5cc uUPGi'})\n",
    "\n",
    "table = []\n",
    "\n",
    "for result in results:\n",
    "    entries = {}\n",
    "    entries['result'] = result.text\n",
    "    \n",
    "    table.append(entries)\n",
    "\n",
    "df = pd.DataFrame(table)\n",
    "\n",
    "df['deaths'] = df.result.str.extract(r'\\s+(\\d\\d\\d)\\s+(?:.*?οι\\s+νεκροί|.*?τα\\s+θύματα|.*?οι\\s+θάνατοι)')\\\n",
    "                .astype(float)\n",
    "df['source'] = df.result.str.extract(r'(?:.*www[.]|.*https:\\/\\/)(\\w+)[.]')\n",
    "\n",
    "\n",
    "if df.deaths.max() > greecedeadsum+upperthresh:\n",
    "    \n",
    "    df = df[df.deaths != df.deaths.max()]\n",
    "    \n",
    "else:\n",
    "    \n",
    "    df = df\n",
    "    \n",
    "# df"
   ]
  },
  {
   "cell_type": "markdown",
   "metadata": {},
   "source": [
    "#### Check current number of deaths on Google, notify us respectively and update our dataset if needed "
   ]
  },
  {
   "cell_type": "code",
   "execution_count": null,
   "metadata": {},
   "outputs": [],
   "source": [
    "googlemax = df.deaths.max()\n",
    "googlemax_source = df[df.deaths == googlemax].source.tolist()[0]\n",
    "mentions = df[df.deaths == googlemax].deaths.count()\n",
    "\n",
    "# if total number of deaths in our dataset is smaller than max number of deaths in current Google results and\n",
    "# if what Google says is smaller than our total number of deaths plus the max number of daily deaths recorded and \n",
    "# if that is published by more than 2 websites in our Google results\n",
    "if greecedeadsum < googlemax and googlemax < greecedeadsum+upperthresh and mentions > 2:\n",
    "\n",
    "    #then add the difference to the current value of deaths with no known location, save an updated csv and notify us\n",
    "    greecedeadunknown = greecedeadunknown+(googlemax-greecedeadsum)\n",
    "    greece.to_csv('greece_auto_test.csv')\n",
    "\n",
    "    print('Breaking: It seems we currently count '+str(df.deaths.max())+' deaths. Source: ',googlemax_source)\n",
    "    print('greece.dead was updated and greece_auto_test.csv has been saved')\n",
    "\n",
    "# if total number of deaths in our dataset is smaller than max number of deaths in current Google results and\n",
    "# if what Google says is smaller than our total number of deaths plus the max number of daily deaths recorded but \n",
    "# that is published by 2, or less, websites in our Google results\n",
    "elif greecedeadsum < googlemax and googlemax < greecedeadsum+upperthresh and mentions <= 2:\n",
    "    \n",
    "    #then just notify us to check it out\n",
    "    print('To be confirmed: It seems we currently count '+str(googlemax)+' deaths. Source: ',googlemax_source)\n",
    "\n",
    "else:\n",
    "    print('Cool: greece.dead is updated!')"
   ]
  },
  {
   "cell_type": "code",
   "execution_count": null,
   "metadata": {},
   "outputs": [],
   "source": []
  }
 ],
 "metadata": {
  "kernelspec": {
   "display_name": "Python 3",
   "language": "python",
   "name": "python3"
  },
  "language_info": {
   "codemirror_mode": {
    "name": "ipython",
    "version": 3
   },
   "file_extension": ".py",
   "mimetype": "text/x-python",
   "name": "python",
   "nbconvert_exporter": "python",
   "pygments_lexer": "ipython3",
   "version": "3.7.4"
  }
 },
 "nbformat": 4,
 "nbformat_minor": 2
}
