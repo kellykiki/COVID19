{
 "cells": [
  {
   "cell_type": "code",
   "execution_count": 1,
   "metadata": {},
   "outputs": [
    {
     "name": "stderr",
     "output_type": "stream",
     "text": [
      "C:\\Users\\k.kiki\\AppData\\Local\\Programs\\Python\\Python37-32\\lib\\site-packages\\ipykernel_launcher.py:13: UserWarning: Warning Simulation\n",
      "  del sys.path[0]\n"
     ]
    }
   ],
   "source": [
    "import pandas as pd\n",
    "from datetime import datetime\n",
    "# import datetime\n",
    "import re\n",
    "import requests\n",
    "from requests import get\n",
    "from bs4 import BeautifulSoup\n",
    "import warnings\n",
    "from time import sleep\n",
    "from random import randint\n",
    "from time import time\n",
    "timestart_time = time()\n",
    "warnings.warn('Warning Simulation')\n",
    "from IPython.core.display import clear_output"
   ]
  },
  {
   "cell_type": "code",
   "execution_count": 2,
   "metadata": {},
   "outputs": [],
   "source": [
    "pd.set_option('display.max_colwidth', -1)\n",
    "pd.set_option('display.max_rows', 500)\n",
    "pd.set_option('display.max_columns', 500)\n",
    "pd.set_option('display.width', 1000)"
   ]
  },
  {
   "cell_type": "code",
   "execution_count": 3,
   "metadata": {},
   "outputs": [],
   "source": [
    "raw_html = requests.get('https://www.moh.gov.gr/articles/ministry/grafeio-typoy/press-releases')\n",
    "soup = BeautifulSoup(raw_html.content, \"html.parser\") \n",
    "articles_container = soup.find('div',{'class':'col-lg-7 col-md-12 px-3 main_content'})\n",
    "titles = articles_container.find_all('a', href=True)"
   ]
  },
  {
   "cell_type": "code",
   "execution_count": 4,
   "metadata": {},
   "outputs": [],
   "source": [
    "raw_html = requests.get('https://www.moh.gov.gr/articles/ministry/grafeio-typoy/press-releases')\n",
    "# raw_html\n",
    "soup = BeautifulSoup(raw_html.content, \"html.parser\") \n",
    "articles_container = soup.find('div',{'class':'col-lg-7 col-md-12 px-3 main_content'})\n",
    "# articles_container\n",
    "titles = articles_container.find_all('a', href=True)\n",
    "# titles\n",
    "\n",
    "frame = []\n",
    "\n",
    "for t in titles:\n",
    "    entries = {}\n",
    "    \n",
    "    if 'νακοίνωση για την εξέλιξη της νόσου COVID-19 στη χώρα μας' in t.text\\\n",
    "        or 'νημέρωση διαπιστευμένων συντακτών υγείας από' in t.text:\n",
    "\n",
    "        entries['title'] = t.text\n",
    "        entries['url'] = t.get('href')\n",
    "\n",
    "        frame.append(entries)\n",
    "    \n",
    "frame = pd.DataFrame(frame)\n",
    "frame['date'] = frame.title.str.extract(r'[(](\\d+\\/\\d+).*[)]')\n",
    "frame['date'] = frame.date+'/2020'\n",
    "frame['date'] = pd.to_datetime(frame['date'])\n",
    "frame['date'] = pd.to_datetime(frame[\"date\"], format=\"%Y-%m-%d\").dt.strftime(\"%Y-%m-%d\")"
   ]
  },
  {
   "cell_type": "code",
   "execution_count": 5,
   "metadata": {},
   "outputs": [],
   "source": [
    "def get_press_release(row):\n",
    "    page = requests.get(row['url'])\n",
    "    soup_doc = BeautifulSoup(page.content, \"html.parser\") \n",
    "    \n",
    "    par = ''\n",
    "    for p in soup_doc.find_all('p'):\n",
    "        par = par+p.text.strip()\n",
    "        \n",
    "    return pd.Series({\n",
    "    'content': par \n",
    "    }) "
   ]
  },
  {
   "cell_type": "code",
   "execution_count": 6,
   "metadata": {},
   "outputs": [],
   "source": [
    "df = frame.apply(get_press_release, axis=1).join(frame)\n",
    "# df.head()"
   ]
  },
  {
   "cell_type": "code",
   "execution_count": 7,
   "metadata": {},
   "outputs": [],
   "source": [
    "df['new_cases'] = df.content.str.extract(r'.*[aα]νακοινώνο\\w+\\s+(\\w+)\\s+νέα\\s+κρούσματα',re.IGNORECASE)"
   ]
  },
  {
   "cell_type": "code",
   "execution_count": 8,
   "metadata": {},
   "outputs": [],
   "source": [
    "df['new_cases'] = df.new_cases.replace({'μηδέν':'0',\n",
    "                                          'κανέναν':'0',\n",
    "                                          'κανένα':'0',\n",
    "                                          \"έναν\": \"1\", \n",
    "                                          \"δύο\": \"2\", \n",
    "                                          'τρεις':'3', \n",
    "                                          'τέσσερις':'4',\n",
    "                                         'πέντε':'5',\n",
    "                                         'έξι':'6',\n",
    "                                         'εφτά':'7',\n",
    "                                         'επτά':'7',\n",
    "                                         'οχτώ':'8',\n",
    "                                         'οκτώ':'8',\n",
    "                                         'εννέα':'9',\n",
    "                                         'ενιά':'9',\n",
    "                                         'δέκα':'10',\n",
    "                                         'έντεκα':'11',\n",
    "                                         'δώδεκα':'12'}).astype(float)"
   ]
  },
  {
   "cell_type": "code",
   "execution_count": 9,
   "metadata": {},
   "outputs": [],
   "source": [
    "df['new_cases'] = df.new_cases.astype(float)"
   ]
  },
  {
   "cell_type": "code",
   "execution_count": 10,
   "metadata": {},
   "outputs": [],
   "source": [
    "df['total_cases'] = df.content.str.extract(r'συνολικός\\s+αριθμός.*κρουσμάτων\\s+είναι\\s+(\\d+[.]?\\d+)',re.IGNORECASE)\n",
    "df['total_cases'] = df.total_cases.str.replace('.','').astype(float)"
   ]
  },
  {
   "cell_type": "code",
   "execution_count": 11,
   "metadata": {},
   "outputs": [],
   "source": [
    "df['new_deaths'] = df.content.str.extract(r'(?:μεθ.*\\w+με\\s+|μεθ.*\\w+με\\s+.*\\s+)(\\w+)(?:\\s+καταγεγραμμένο.*θ[άα]ν[αά]το.*\\s+και.*στη\\s+χώρα.*|\\s+ακόμα\\s+καταγεγραμμένο.*θ[άα]ν[αά]το.*\\s+και.*στη\\s+χώρα.*|\\s+νέο.*θ[άα]ν[αά]το.*και.*στη\\s+χώρα.*|\\s+θ[άα]ν[αά]το.*και.*στη\\s+χώρα.*)',re.IGNORECASE)"
   ]
  },
  {
   "cell_type": "code",
   "execution_count": 12,
   "metadata": {},
   "outputs": [],
   "source": [
    "df['new_deaths'] = df.new_deaths.replace({'μηδέν':'0',\n",
    "                                          'κανέναν':'0',\n",
    "                                          'κανένα':'0',\n",
    "                                          \"έναν\": \"1\", \n",
    "                                          \"δύο\": \"2\", \n",
    "                                          'τρεις':'3', \n",
    "                                          'τέσσερις':'4',\n",
    "                                         'πέντε':'5',\n",
    "                                         'έξι':'6',\n",
    "                                         'εφτά':'7',\n",
    "                                         'επτά':'7',\n",
    "                                         'οχτώ':'8',\n",
    "                                         'οκτώ':'8',\n",
    "                                         'εννέα':'9',\n",
    "                                         'ενιά':'9',\n",
    "                                         'δέκα':'10',\n",
    "                                         'έντεκα':'11',\n",
    "                                         'δώδεκα':'12'}).astype(float)"
   ]
  },
  {
   "cell_type": "code",
   "execution_count": 13,
   "metadata": {},
   "outputs": [],
   "source": [
    "df['total_deaths'] = df.content.str.extract(r'θ[άα]ν[αά]το[υς ]{,3}.*?([0-9]{3})\\s*θ[άα]ν[αά]το[υς ]{,3}.*?στη\\s+χώρα',re.IGNORECASE).astype(float)"
   ]
  },
  {
   "cell_type": "code",
   "execution_count": 14,
   "metadata": {},
   "outputs": [],
   "source": [
    "df['intubated'] = df.content.str.extract(r'(\\d+)\\s+συμπολίτες\\s+μας\\s+νοσηλεύονται\\s+διασωληνωμένοι').astype(float)"
   ]
  },
  {
   "cell_type": "code",
   "execution_count": 15,
   "metadata": {},
   "outputs": [],
   "source": [
    "df['total_tests'] = df.content.str.extract(r'ελεγχθεί.*(\\d+|\\d+[.]\\d+)\\s+κλινικά\\s+δείγματα',re.IGNORECASE)\n",
    "df['total_tests'] = df.total_tests.str.replace('.','').astype(float)"
   ]
  },
  {
   "cell_type": "code",
   "execution_count": 16,
   "metadata": {},
   "outputs": [],
   "source": [
    "#current total number of cases, according to content scraped/data extracted\n",
    "totalcases_s = df.total_cases[0]\n",
    "#current number of new cases, according to content scraped/data extracted\n",
    "newcases_s = df.new_cases[0]\n",
    "\n",
    "#current total number of deaths, according to content scraped/data extracted\n",
    "totaldeaths_s = df.total_deaths[0]\n",
    "#current number of new deaths, according to content scraped/data extracted\n",
    "newdeaths_s = df.new_deaths[0]\n",
    "\n",
    "#current total number of intubated patiens, according to content scraped/data extracted\n",
    "intub_s = df.intubated[0]\n",
    "\n",
    "#current total number of tests, according to content scraped/data extracted\n",
    "totaltests_s = df['total_tests'][0]\n",
    "\n",
    "#the date of latest official announcement scraped\n",
    "date_s = df['date'][0]\n",
    "\n",
    "#today\n",
    "today = datetime.today().strftime(\"%Y-%m-%d\")"
   ]
  },
  {
   "cell_type": "code",
   "execution_count": 17,
   "metadata": {},
   "outputs": [],
   "source": [
    "greece = pd.read_csv('https://raw.githubusercontent.com/iMEdD-Lab/open-data/master/COVID-19/greece.csv')\n",
    "# ('https://docs.google.com/spreadsheets/d/e/2PACX-1vRpR8AOJaRsB5by7H3R_GijtaY06J8srELipebO5B0jYEg9pKugT3C6Rk2RSQ5eyerQl7LolshamK27/pub?gid=1017539712&single=true&output=csv')\n",
    "\n",
    "#total number of cases in our current dataset\n",
    "greececasessum = greece.cases.sum()\n",
    "#number of cases for which location remains unknown in our current dataset\n",
    "greececasesunknown = greece[greece['county_en'] == 'Unknown']['cases']\n",
    "\n",
    "#total number of deaths in our current dataset\n",
    "greecedeadsum = greece.dead.sum()\n",
    "#number of deaths for which location remains unknown in our current dataset\n",
    "greecedeadunknown = greece[greece['county_en'] == 'Unknown']['dead']\n",
    "\n",
    "#total number of intubated patients in our current dataset\n",
    "greeceintubsum = greece.critical.sum()\n",
    "#number of intubated patients whose region of origin remains unknown in our current dataset\n",
    "greeceintubunknown = greece[greece['county_en'] == 'Unknown']['critical']"
   ]
  },
  {
   "cell_type": "code",
   "execution_count": 18,
   "metadata": {},
   "outputs": [],
   "source": [
    "if date_s == today:\n",
    "\n",
    "    if greececasessum < totalcases_s and greececasessum+newcases_s == totalcases_s:\n",
    "        greececasesunknown = greececasesunknown+(totalcases_s-greececasessum)\n",
    "        greece.loc[greece['county_en'] == 'Unknown', 'cases'] = greececasesunknown\n",
    "\n",
    "        greececases = 'greece.cases was updated and stored.'\n",
    "\n",
    "    elif greececasessum < totalcases_s and greececasessum+newcases_s != totalcases_s:\n",
    "        greececases = 'Be careful: Something goes wrong with cases announced!!!'\n",
    "\n",
    "    elif greececasessum >= totalcases_s:\n",
    "        greececases = 'Cool: greece.cases is updated!'\n",
    "\n",
    "    else:\n",
    "        greececases = 'Sorry, I do not know what is happening with greece.cases!'\n",
    "\n",
    "\n",
    "\n",
    "    if greecedeadsum < totaldeaths_s: \n",
    "    # and greecedeadsum+newdeaths_s == totaldeaths_s:\n",
    "        greecedeadunknown = greecedeadunknown+(totaldeaths_s-greecedeadsum)\n",
    "        greece.loc[greece['county_en'] == 'Unknown', 'dead'] = greecedeadunknown\n",
    "\n",
    "        greecedead = 'greece.dead was updated and stored.'\n",
    "\n",
    "    # elif greecedeadsum < totaldeaths_s and greecedeadsum+newdeaths_s != totaldeaths_s:\n",
    "    #     greecedead = 'Be careful: Something goes wrong with deaths announced!!!'\n",
    "\n",
    "    elif greecedeadsum >= totaldeaths_s:\n",
    "        greecedead = 'Cool: greece.dead is updated!'\n",
    "\n",
    "    else:\n",
    "        greecedead = 'Sorry, I do not know what is happening with greece.dead!'\n",
    "\n",
    "\n",
    "\n",
    "    if greeceintubsum != intub_s and greeceintubsum == greeceintubunknown.tolist()[0]:\n",
    "        greeceintubunknown = intub_s\n",
    "        greece.loc[greece['county_en'] == 'Unknown', 'critical'] = greeceintubunknown\n",
    "\n",
    "        greeceintub = 'greece.critical was updated and stored.'\n",
    "\n",
    "    elif greeceintubsum == intub_s:\n",
    "        greeceintub = 'Cool: greece.critical is updated!'\n",
    "\n",
    "    else:\n",
    "        greeceintub = 'Sorry, I do not know what is happening with greece.critical!'\n",
    "\n",
    "\n",
    "    greece.to_csv('greece_autobriefing_test.csv',index=False)\n",
    "    # greece.to_csv(f'/root/AUTO_GIT/open-data/COVID-19/greece.csv',index=False, encoding = 'utf-8')\n",
    "    # time = time.strftime(\"%Y_%m_%d-%H_%M\")\n",
    "    # greece.to_csv(f'greece_auto_test{time}.csv',index=False, encoding = 'utf-8')\n",
    "    # time.strftime(\"%Y_%m_%d-%H_%M\")}.csv',index=False, encoding = 'utf-8')\n",
    "\n",
    "\n",
    "    if greececases == 'greece.cases was updated and stored.' or greecedead == 'greece.dead was updated and stored.' or greeceintub == 'greece.critical was updated and stored.':\n",
    "\n",
    "        greecetext = greececases+' '+greecedead+' '+greeceintub+' '+'greece_auto_test.csv has been saved.' \n",
    "\n",
    "    else: \n",
    "\n",
    "        greecetext = greececases+' '+greecedead+' '+greeceintub\n",
    "\n",
    "    \n",
    "else:\n",
    "    greecetext = 'Latest announcement published refers to '+str(date_s)+'. So, greece.csv should be updated.'    \n"
   ]
  },
  {
   "cell_type": "code",
   "execution_count": 19,
   "metadata": {},
   "outputs": [
    {
     "data": {
      "text/plain": [
       "'Latest announcement published refers to 2020-05-24. So, greece.csv should be updated.'"
      ]
     },
     "execution_count": 19,
     "metadata": {},
     "output_type": "execute_result"
    }
   ],
   "source": [
    "greecetext"
   ]
  },
  {
   "cell_type": "code",
   "execution_count": 20,
   "metadata": {},
   "outputs": [],
   "source": [
    "greeceTimeline = pd.read_csv('https://raw.githubusercontent.com/iMEdD-Lab/open-data/master/COVID-19/greeceTimeline.csv')\n",
    "# ('https://raw.githubusercontent.com/iMEdD-Lab/open-data/master/COVID-19/greeceTimeline.csv')\n",
    "# greeceTimeline = greeceTimeline.drop(greeceTimeline.columns[-1],axis=1)\n",
    "grt = greeceTimeline\n",
    "grt = grt.drop([\"Province/State\", \"Country/Region\"], axis=1)\n",
    "grt = grt.set_index(\"Status\")\n",
    "grt = grt.T\n",
    "grt = grt.reset_index()\n",
    "grt = grt.rename(columns={\"index\": \"date\"})\n",
    "grt['date'] = pd.to_datetime(grt['date']).dt.strftime(\"%Y-%m-%d\")\n",
    "\n",
    "last_date = grt['date'].iloc[-1]"
   ]
  },
  {
   "cell_type": "code",
   "execution_count": 21,
   "metadata": {},
   "outputs": [],
   "source": [
    "timeline = {}\n",
    "# if grt['date'].iloc[-1] < df['date'][0]:\n",
    "if last_date < today:\n",
    "# and date_s == today:\n",
    "\n",
    "    timeline['date'] = date_s\n",
    "    timeline['cases'] = newcases_s\n",
    "    timeline['total cases'] = totalcases_s\n",
    "    timeline['deaths'] = newdeaths_s\n",
    "    timeline['intubated'] = intub_s\n",
    "    timeline['total_tests'] = totaltests_s\n",
    "     \n",
    "    grt = grt.append(timeline,ignore_index=True)\n",
    "    \n",
    "    grt['date'] = grt.date.astype(str)\n",
    "    grt['year'] = grt.date.str.extract(r'(\\d\\d)\\d\\d-\\d\\d-\\d\\d')\n",
    "    grt['month'] = grt.date.str.extract(r'\\d\\d\\d\\d-(\\d\\d)-\\d\\d')\n",
    "    grt['month'] = grt.month.replace({'01':'1',\n",
    "                                   '02':'2',\n",
    "                                   '03':'3',\n",
    "                                   '04':'4',\n",
    "                                   '05':'5',\n",
    "                                   '06':'6',\n",
    "                                   '07':'7',\n",
    "                                   '08':'8',\n",
    "                                   '09':'9'})\n",
    "    grt['day'] = grt.date.str.extract(r'\\d\\d\\d\\d-\\d\\d-(\\d\\d)')\n",
    "    grt['day'] = grt.day.replace({'01':'1',\n",
    "                               '02':'2',\n",
    "                               '03':'3',\n",
    "                               '04':'4',\n",
    "                               '05':'5',\n",
    "                               '06':'6',\n",
    "                               '07':'7',\n",
    "                               '08':'8',\n",
    "                               '09':'9'})\n",
    "    grt['date2'] = grt.month+'/'+grt.day+'/'+grt.year\n",
    "    grt = grt.drop(['date','year','month','day'],axis=1)\n",
    "    \n",
    "    grt = grt.set_index('date2').T.reset_index()\n",
    "    grt = grt[['Status',grt.columns[-1]]].copy()\n",
    "    grt_new = pd.merge(greeceTimeline,grt,on='Status',how='outer')\n",
    "\n",
    "    grt_new.to_csv('greeceTimeline_autobriefing_test.csv',index=False)\n",
    "#     grt_new.to_csv(f'/root/AUTO_GIT/open-data/COVID-19/greeceTimeline.csv',index=False, encoding = 'utf-8')\n",
    "#     grt_new.to_csv(f'AUTO_GIT/AUTO_COVID_DATA/greeceTimeline_autobriefing_test{time.strftime(\"%Y_%m_%d-%H_%M\")}.csv',index=False, encoding = 'utf-8')\n",
    "\n",
    "    \n",
    "    greeceTimeline_text = 'Daily update: greeceTimeline appended and greeceTimeline_autobriefing_test.csv has been saved.'\n",
    "\n",
    "elif last_date < today and date_s != today:\n",
    "    \n",
    "    greeceTimeline_text = 'greece.Timeline is not updated, because no announcement has been out for today. Please wait or check out what is happening!'\n",
    "    \n",
    "elif last_date == today:\n",
    "    \n",
    "    greeceTimeline_text = 'Cool: greece.Timeline is updated!'\n",
    "\n",
    "else: \n",
    "    greeceTimeline_text = 'Sorry, I do not know what is happening with greece.Timeline!'\n"
   ]
  },
  {
   "cell_type": "code",
   "execution_count": null,
   "metadata": {},
   "outputs": [],
   "source": []
  }
 ],
 "metadata": {
  "kernelspec": {
   "display_name": "Python 3",
   "language": "python",
   "name": "python3"
  },
  "language_info": {
   "codemirror_mode": {
    "name": "ipython",
    "version": 3
   },
   "file_extension": ".py",
   "mimetype": "text/x-python",
   "name": "python",
   "nbconvert_exporter": "python",
   "pygments_lexer": "ipython3",
   "version": "3.7.4"
  }
 },
 "nbformat": 4,
 "nbformat_minor": 2
}
