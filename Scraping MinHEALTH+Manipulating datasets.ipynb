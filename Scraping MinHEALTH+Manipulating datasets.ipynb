{
 "cells": [
  {
   "cell_type": "code",
   "execution_count": 1,
   "metadata": {},
   "outputs": [
    {
     "name": "stderr",
     "output_type": "stream",
     "text": [
      "C:\\Users\\k.kiki\\AppData\\Local\\Programs\\Python\\Python37-32\\lib\\site-packages\\ipykernel_launcher.py:12: UserWarning: Warning Simulation\n",
      "  if sys.path[0] == '':\n"
     ]
    }
   ],
   "source": [
    "import pandas as pd\n",
    "import datetime\n",
    "import re\n",
    "import requests\n",
    "from requests import get\n",
    "from bs4 import BeautifulSoup\n",
    "import warnings\n",
    "from time import sleep\n",
    "from random import randint\n",
    "from time import time\n",
    "timestart_time = time()\n",
    "warnings.warn('Warning Simulation')\n",
    "from IPython.core.display import clear_output"
   ]
  },
  {
   "cell_type": "code",
   "execution_count": 2,
   "metadata": {},
   "outputs": [],
   "source": [
    "pd.set_option('display.max_colwidth', -1)\n",
    "pd.set_option('display.max_rows', 500)\n",
    "pd.set_option('display.max_columns', 500)\n",
    "pd.set_option('display.width', 1000)"
   ]
  },
  {
   "cell_type": "code",
   "execution_count": 3,
   "metadata": {},
   "outputs": [],
   "source": [
    "raw_html = requests.get('https://www.moh.gov.gr/articles/ministry/grafeio-typoy/press-releases')\n",
    "# raw_html\n",
    "soup = BeautifulSoup(raw_html.content, \"html.parser\") \n",
    "articles_container = soup.find('div',{'class':'col-lg-7 col-md-12 px-3 main_content'})\n",
    "# articles_container\n",
    "titles = articles_container.find_all('a', href=True)\n",
    "# titles"
   ]
  },
  {
   "cell_type": "code",
   "execution_count": 4,
   "metadata": {},
   "outputs": [
    {
     "data": {
      "text/html": [
       "<div>\n",
       "<style scoped>\n",
       "    .dataframe tbody tr th:only-of-type {\n",
       "        vertical-align: middle;\n",
       "    }\n",
       "\n",
       "    .dataframe tbody tr th {\n",
       "        vertical-align: top;\n",
       "    }\n",
       "\n",
       "    .dataframe thead th {\n",
       "        text-align: right;\n",
       "    }\n",
       "</style>\n",
       "<table border=\"1\" class=\"dataframe\">\n",
       "  <thead>\n",
       "    <tr style=\"text-align: right;\">\n",
       "      <th></th>\n",
       "      <th>title</th>\n",
       "      <th>url</th>\n",
       "      <th>date</th>\n",
       "    </tr>\n",
       "  </thead>\n",
       "  <tbody>\n",
       "    <tr>\n",
       "      <td>0</td>\n",
       "      <td>Ενημέρωση διαπιστευμένων συντακτών υγείας από τον Υφυπουργό Πολιτικής Προστασίας και Διαχείρισης Κρίσεων Νίκο Χαρδαλιά και τον Υποπτέραρχο Δημήτρη Χατζηγεωργίου, Παθολόγο-Λοιμωξιολόγο, μέλος της Επιτροπής Ειδικών Επιστημόνων του Υπουργείου Υγείας (24/5)</td>\n",
       "      <td>https://www.moh.gov.gr/articles/ministry/grafeio-typoy/press-releases/7210-enhmerwsh-diapisteymenwn-syntaktwn-ygeias-apo-ton-yfypoyrgo-politikhs-prostasias-kai-diaxeirishs-krisewn-niko-xardalia-kai-ton-ypopterarxo-dhmhtrh-xatzhgewrgioy-pathologo-loimwksiologo-melos-ths-epitrophs-eidikwn-episthmonwn-toy-ypoyrgeioy-ygeias-24-5</td>\n",
       "      <td>2020-05-24</td>\n",
       "    </tr>\n",
       "    <tr>\n",
       "      <td>1</td>\n",
       "      <td>Ανακοίνωση για την εξέλιξη της νόσου COVID-19 στη χώρα μας (23/5/2020)</td>\n",
       "      <td>https://www.moh.gov.gr/articles/ministry/grafeio-typoy/press-releases/7209-anakoinwsh-gia-thn-ekseliksh-ths-nosoy-covid-19-sth-xwra-mas-23-5-2020</td>\n",
       "      <td>2020-05-23</td>\n",
       "    </tr>\n",
       "    <tr>\n",
       "      <td>2</td>\n",
       "      <td>Ανακοίνωση για την εξέλιξη της νόσου COVID-19 στη χώρα μας (22/5/2020)</td>\n",
       "      <td>https://www.moh.gov.gr/articles/ministry/grafeio-typoy/press-releases/7208-anakoinwsh-gia-thn-ekseliksh-ths-nosoy-covid-19-sth-xwra-mas-22-5-2020</td>\n",
       "      <td>2020-05-22</td>\n",
       "    </tr>\n",
       "    <tr>\n",
       "      <td>3</td>\n",
       "      <td>Eνημέρωση διαπιστευμένων συντακτών υγείας από τον Υφυπουργό Πολιτικής Προστασίας και Διαχείρισης Κρίσεων Νίκο Χαρδαλιά και τον εκπρόσωπο του Υπουργείου Υγείας για το νέο κορονοϊό Καθηγητή Σωτήρη Τσιόδρα (21/5/2020)</td>\n",
       "      <td>https://www.moh.gov.gr/articles/ministry/grafeio-typoy/press-releases/7206-enhmerwsh-diapisteymenwn-syntaktwn-ygeias-apo-ton-yfypoyrgo-politikhs-prostasias-kai-diaxeirishs-krisewn-niko-xardalia-kai-ton-ekproswpo-toy-ypoyrgeioy-ygeias-gia-to-neo-koronoio-kathhghth-swthrh-tsiodra-21-5-2020</td>\n",
       "      <td>2020-05-21</td>\n",
       "    </tr>\n",
       "    <tr>\n",
       "      <td>4</td>\n",
       "      <td>Ανακοίνωση για την εξέλιξη της νόσου COVID-19 στη χώρα μας (20/5/2020)</td>\n",
       "      <td>https://www.moh.gov.gr/articles/ministry/grafeio-typoy/press-releases/7201-anakoinwsh-gia-thn-ekseliksh-ths-nosoy-covid-19-sth-xwra-mas-20-5-2020</td>\n",
       "      <td>2020-05-20</td>\n",
       "    </tr>\n",
       "    <tr>\n",
       "      <td>5</td>\n",
       "      <td>Eνημέρωση διαπιστευμένων συντακτών υγείας από τον Υφυπουργό Πολιτικής Προστασίας και Διαχείρισης Κρίσεων Νίκο Χαρδαλιά και τον εκπρόσωπο του Υπουργείου Υγείας για το νέο κορονοϊό, Καθηγητή Σωτήρη Τσιόδρα (19/5/2020)</td>\n",
       "      <td>https://www.moh.gov.gr/articles/ministry/grafeio-typoy/press-releases/7199-enhmerwsh-diapisteymenwn-syntaktwn-ygeias-apo-ton-yfypoyrgo-politikhs-prostasias-kai-diaxeirishs-krisewn-niko-xardalia-kai-ton-ekproswpo-toy-ypoyrgeioy-ygeias-gia-to-neo-koronoio-kathhghth-swthrh-tsiodra-19-5-2020</td>\n",
       "      <td>2020-05-19</td>\n",
       "    </tr>\n",
       "    <tr>\n",
       "      <td>6</td>\n",
       "      <td>Ανακοίνωση για την εξέλιξη της νόσου COVID-19 στη χώρα μας (18/5/2020)</td>\n",
       "      <td>https://www.moh.gov.gr/articles/ministry/grafeio-typoy/press-releases/7193-anakoinwsh-gia-thn-ekseliksh-ths-nosoy-covid-19-sth-xwra-mas-18-5-2020</td>\n",
       "      <td>2020-05-18</td>\n",
       "    </tr>\n",
       "    <tr>\n",
       "      <td>7</td>\n",
       "      <td>Ενημέρωση διαπιστευμένων συντακτών υγείας από τον Υφυπουργό Πολιτικής Προστασίας και Διαχείρισης Κρίσεων Νίκο Χαρδαλιά, τον Παθολόγο-Λοιμωξιολόγο, Υποπτέραρχο Δημήτρη Χατζηγεωργίου και τον Υφυπουργό Ανάπτυξης και Επενδύσεων Νίκο Παπαθανάση (17/5)</td>\n",
       "      <td>https://www.moh.gov.gr/articles/ministry/grafeio-typoy/press-releases/7187-enhmerwsh-diapisteymenwn-syntaktwn-ygeias-apo-ton-yfypoyrgo-politikhs-prostasias-kai-diaxeirishs-krisewn-niko-xardalia-ton-pathologo-loimwksiologo-ypopterarxo-dhmhtrh-xatzhgewrgioy-kai-ton-yfypoyrgo-anaptykshs-kai-ependysewn-niko-papathanash-17-5</td>\n",
       "      <td>2020-05-17</td>\n",
       "    </tr>\n",
       "    <tr>\n",
       "      <td>8</td>\n",
       "      <td>Ανακοίνωση για την εξέλιξη της νόσου COVID-19 στη χώρα μας (16/5/2020)</td>\n",
       "      <td>https://www.moh.gov.gr/articles/ministry/grafeio-typoy/press-releases/7186-anakoinwsh-gia-thn-ekseliksh-ths-nosoy-covid-19-sth-xwra-mas-16-5-2020</td>\n",
       "      <td>2020-05-16</td>\n",
       "    </tr>\n",
       "    <tr>\n",
       "      <td>9</td>\n",
       "      <td>Eνημέρωση διαπιστευμένων συντακτών υγείας από τον Υφυπουργό Πολιτικής Προστασίας και Διαχείρισης Κρίσεων Νίκο Χαρδαλιά και τον εκπρόσωπο του Υπουργείου Υγείας για το νέο κορονοϊό, Καθηγητή Σωτήρη Τσιόδρα (15/5/2020)</td>\n",
       "      <td>https://www.moh.gov.gr/articles/ministry/grafeio-typoy/press-releases/7185-enhmerwsh-diapisteymenwn-syntaktwn-ygeias-apo-ton-yfypoyrgo-politikhs-prostasias-kai-diaxeirishs-krisewn-niko-xardalia-kai-ton-ekproswpo-toy-ypoyrgeioy-ygeias-gia-to-neo-koronoio-kathhghth-swthrh-tsiodra-15-5-2020</td>\n",
       "      <td>2020-05-15</td>\n",
       "    </tr>\n",
       "    <tr>\n",
       "      <td>10</td>\n",
       "      <td>Eνημέρωση διαπιστευμένων συντακτών υγείας από τον Υφυπουργό Πολιτικής Προστασίας και Διαχείρισης Κρίσεων Νίκο Χαρδαλιά και τον εκπρόσωπο του Υπουργείου Υγείας για το νέο κορονοϊό, Καθηγητή Σωτήρη Τσιόδρα (14/5/2020)</td>\n",
       "      <td>https://www.moh.gov.gr/articles/ministry/grafeio-typoy/press-releases/7179-enhmerwsh-diapisteymenwn-syntaktwn-ygeias-apo-ton-yfypoyrgo-politikhs-prostasias-kai-diaxeirishs-krisewn-niko-xardalia-kai-ton-ekproswpo-toy-ypoyrgeioy-ygeias-gia-to-neo-koronoio-kathhghth-swthrh-tsiodra-14-5-2020</td>\n",
       "      <td>2020-05-14</td>\n",
       "    </tr>\n",
       "  </tbody>\n",
       "</table>\n",
       "</div>"
      ],
      "text/plain": [
       "                                                                                                                                                                                                                                                            title                                                                                                                                                                                                                                                                                                                                     url        date\n",
       "0   Ενημέρωση διαπιστευμένων συντακτών υγείας από τον Υφυπουργό Πολιτικής Προστασίας και Διαχείρισης Κρίσεων Νίκο Χαρδαλιά και τον Υποπτέραρχο Δημήτρη Χατζηγεωργίου, Παθολόγο-Λοιμωξιολόγο, μέλος της Επιτροπής Ειδικών Επιστημόνων του Υπουργείου Υγείας (24/5)  https://www.moh.gov.gr/articles/ministry/grafeio-typoy/press-releases/7210-enhmerwsh-diapisteymenwn-syntaktwn-ygeias-apo-ton-yfypoyrgo-politikhs-prostasias-kai-diaxeirishs-krisewn-niko-xardalia-kai-ton-ypopterarxo-dhmhtrh-xatzhgewrgioy-pathologo-loimwksiologo-melos-ths-epitrophs-eidikwn-episthmonwn-toy-ypoyrgeioy-ygeias-24-5  2020-05-24\n",
       "1   Ανακοίνωση για την εξέλιξη της νόσου COVID-19 στη χώρα μας (23/5/2020)                                                                                                                                                                                         https://www.moh.gov.gr/articles/ministry/grafeio-typoy/press-releases/7209-anakoinwsh-gia-thn-ekseliksh-ths-nosoy-covid-19-sth-xwra-mas-23-5-2020                                                                                                                                                                                       2020-05-23\n",
       "2   Ανακοίνωση για την εξέλιξη της νόσου COVID-19 στη χώρα μας (22/5/2020)                                                                                                                                                                                         https://www.moh.gov.gr/articles/ministry/grafeio-typoy/press-releases/7208-anakoinwsh-gia-thn-ekseliksh-ths-nosoy-covid-19-sth-xwra-mas-22-5-2020                                                                                                                                                                                       2020-05-22\n",
       "3   Eνημέρωση διαπιστευμένων συντακτών υγείας από τον Υφυπουργό Πολιτικής Προστασίας και Διαχείρισης Κρίσεων Νίκο Χαρδαλιά και τον εκπρόσωπο του Υπουργείου Υγείας για το νέο κορονοϊό Καθηγητή Σωτήρη Τσιόδρα (21/5/2020)                                         https://www.moh.gov.gr/articles/ministry/grafeio-typoy/press-releases/7206-enhmerwsh-diapisteymenwn-syntaktwn-ygeias-apo-ton-yfypoyrgo-politikhs-prostasias-kai-diaxeirishs-krisewn-niko-xardalia-kai-ton-ekproswpo-toy-ypoyrgeioy-ygeias-gia-to-neo-koronoio-kathhghth-swthrh-tsiodra-21-5-2020                                        2020-05-21\n",
       "4   Ανακοίνωση για την εξέλιξη της νόσου COVID-19 στη χώρα μας (20/5/2020)                                                                                                                                                                                         https://www.moh.gov.gr/articles/ministry/grafeio-typoy/press-releases/7201-anakoinwsh-gia-thn-ekseliksh-ths-nosoy-covid-19-sth-xwra-mas-20-5-2020                                                                                                                                                                                       2020-05-20\n",
       "5   Eνημέρωση διαπιστευμένων συντακτών υγείας από τον Υφυπουργό Πολιτικής Προστασίας και Διαχείρισης Κρίσεων Νίκο Χαρδαλιά και τον εκπρόσωπο του Υπουργείου Υγείας για το νέο κορονοϊό, Καθηγητή Σωτήρη Τσιόδρα (19/5/2020)                                        https://www.moh.gov.gr/articles/ministry/grafeio-typoy/press-releases/7199-enhmerwsh-diapisteymenwn-syntaktwn-ygeias-apo-ton-yfypoyrgo-politikhs-prostasias-kai-diaxeirishs-krisewn-niko-xardalia-kai-ton-ekproswpo-toy-ypoyrgeioy-ygeias-gia-to-neo-koronoio-kathhghth-swthrh-tsiodra-19-5-2020                                        2020-05-19\n",
       "6   Ανακοίνωση για την εξέλιξη της νόσου COVID-19 στη χώρα μας (18/5/2020)                                                                                                                                                                                         https://www.moh.gov.gr/articles/ministry/grafeio-typoy/press-releases/7193-anakoinwsh-gia-thn-ekseliksh-ths-nosoy-covid-19-sth-xwra-mas-18-5-2020                                                                                                                                                                                       2020-05-18\n",
       "7   Ενημέρωση διαπιστευμένων συντακτών υγείας από τον Υφυπουργό Πολιτικής Προστασίας και Διαχείρισης Κρίσεων Νίκο Χαρδαλιά, τον Παθολόγο-Λοιμωξιολόγο, Υποπτέραρχο Δημήτρη Χατζηγεωργίου και τον Υφυπουργό Ανάπτυξης και Επενδύσεων Νίκο Παπαθανάση (17/5)         https://www.moh.gov.gr/articles/ministry/grafeio-typoy/press-releases/7187-enhmerwsh-diapisteymenwn-syntaktwn-ygeias-apo-ton-yfypoyrgo-politikhs-prostasias-kai-diaxeirishs-krisewn-niko-xardalia-ton-pathologo-loimwksiologo-ypopterarxo-dhmhtrh-xatzhgewrgioy-kai-ton-yfypoyrgo-anaptykshs-kai-ependysewn-niko-papathanash-17-5       2020-05-17\n",
       "8   Ανακοίνωση για την εξέλιξη της νόσου COVID-19 στη χώρα μας (16/5/2020)                                                                                                                                                                                         https://www.moh.gov.gr/articles/ministry/grafeio-typoy/press-releases/7186-anakoinwsh-gia-thn-ekseliksh-ths-nosoy-covid-19-sth-xwra-mas-16-5-2020                                                                                                                                                                                       2020-05-16\n",
       "9   Eνημέρωση διαπιστευμένων συντακτών υγείας από τον Υφυπουργό Πολιτικής Προστασίας και Διαχείρισης Κρίσεων Νίκο Χαρδαλιά και τον εκπρόσωπο του Υπουργείου Υγείας για το νέο κορονοϊό, Καθηγητή Σωτήρη Τσιόδρα (15/5/2020)                                        https://www.moh.gov.gr/articles/ministry/grafeio-typoy/press-releases/7185-enhmerwsh-diapisteymenwn-syntaktwn-ygeias-apo-ton-yfypoyrgo-politikhs-prostasias-kai-diaxeirishs-krisewn-niko-xardalia-kai-ton-ekproswpo-toy-ypoyrgeioy-ygeias-gia-to-neo-koronoio-kathhghth-swthrh-tsiodra-15-5-2020                                        2020-05-15\n",
       "10  Eνημέρωση διαπιστευμένων συντακτών υγείας από τον Υφυπουργό Πολιτικής Προστασίας και Διαχείρισης Κρίσεων Νίκο Χαρδαλιά και τον εκπρόσωπο του Υπουργείου Υγείας για το νέο κορονοϊό, Καθηγητή Σωτήρη Τσιόδρα (14/5/2020)                                        https://www.moh.gov.gr/articles/ministry/grafeio-typoy/press-releases/7179-enhmerwsh-diapisteymenwn-syntaktwn-ygeias-apo-ton-yfypoyrgo-politikhs-prostasias-kai-diaxeirishs-krisewn-niko-xardalia-kai-ton-ekproswpo-toy-ypoyrgeioy-ygeias-gia-to-neo-koronoio-kathhghth-swthrh-tsiodra-14-5-2020                                        2020-05-14"
      ]
     },
     "execution_count": 4,
     "metadata": {},
     "output_type": "execute_result"
    }
   ],
   "source": [
    "raw_html = requests.get('https://www.moh.gov.gr/articles/ministry/grafeio-typoy/press-releases')\n",
    "# raw_html\n",
    "soup = BeautifulSoup(raw_html.content, \"html.parser\") \n",
    "articles_container = soup.find('div',{'class':'col-lg-7 col-md-12 px-3 main_content'})\n",
    "# articles_container\n",
    "titles = articles_container.find_all('a', href=True)\n",
    "# titles\n",
    "\n",
    "frame = []\n",
    "\n",
    "for t in titles:\n",
    "    entries = {}\n",
    "    \n",
    "    if 'νακοίνωση για την εξέλιξη της νόσου COVID-19 στη χώρα μας' in t.text\\\n",
    "        or 'νημέρωση διαπιστευμένων συντακτών υγείας από' in t.text:\n",
    "\n",
    "        entries['title'] = t.text\n",
    "        entries['url'] = t.get('href')\n",
    "\n",
    "        frame.append(entries)\n",
    "    \n",
    "frame = pd.DataFrame(frame)\n",
    "frame['date'] = frame.title.str.extract(r'[(](\\d+\\/\\d+).*[)]')\n",
    "frame['date'] = frame.date+'/2020'\n",
    "frame['date'] = pd.to_datetime(frame['date'])\n",
    "frame['date'] = pd.to_datetime(frame[\"date\"], format=\"%Y-%m-%d\").dt.strftime(\"%Y-%m-%d\")\n",
    "\n",
    "frame"
   ]
  },
  {
   "cell_type": "code",
   "execution_count": 5,
   "metadata": {},
   "outputs": [],
   "source": [
    "def get_press_release(row):\n",
    "    page = requests.get(row['url'])\n",
    "    soup_doc = BeautifulSoup(page.content, \"html.parser\") \n",
    "    \n",
    "    par = ''\n",
    "    for p in soup_doc.find_all('p'):\n",
    "        par = par+p.text.strip()\n",
    "        \n",
    "    return pd.Series({\n",
    "    'content': par \n",
    "    }) "
   ]
  },
  {
   "cell_type": "code",
   "execution_count": 6,
   "metadata": {},
   "outputs": [],
   "source": [
    "df = frame.apply(get_press_release, axis=1).join(frame)\n",
    "# df.head()"
   ]
  },
  {
   "cell_type": "code",
   "execution_count": 7,
   "metadata": {},
   "outputs": [],
   "source": [
    "df['new_cases'] = df.content.str.extract(r'.*[aα]νακοινώνο\\w+\\s+(\\w+)\\s+νέα\\s+κρούσματα',re.IGNORECASE)"
   ]
  },
  {
   "cell_type": "code",
   "execution_count": 8,
   "metadata": {},
   "outputs": [],
   "source": [
    "df['new_cases'] = df.new_cases.replace({'μηδέν':'0',\n",
    "                                          'κανέναν':'0',\n",
    "                                          'κανένα':'0',\n",
    "                                          \"έναν\": \"1\", \n",
    "                                          \"δύο\": \"2\", \n",
    "                                          'τρεις':'3', \n",
    "                                          'τέσσερις':'4',\n",
    "                                         'πέντε':'5',\n",
    "                                         'έξι':'6',\n",
    "                                         'εφτά':'7',\n",
    "                                         'επτά':'7',\n",
    "                                         'οχτώ':'8',\n",
    "                                         'οκτώ':'8',\n",
    "                                         'εννέα':'9',\n",
    "                                         'ενιά':'9',\n",
    "                                         'δέκα':'10',\n",
    "                                         'έντεκα':'11',\n",
    "                                         'δώδεκα':'12'}).astype(float)"
   ]
  },
  {
   "cell_type": "code",
   "execution_count": 9,
   "metadata": {},
   "outputs": [],
   "source": [
    "df['new_cases'] = df.new_cases.astype(float)"
   ]
  },
  {
   "cell_type": "code",
   "execution_count": 10,
   "metadata": {},
   "outputs": [],
   "source": [
    "df['total_cases'] = df.content.str.extract(r'συνολικός\\s+αριθμός.*κρουσμάτων\\s+είναι\\s+(\\d+[.]?\\d+)',re.IGNORECASE)\n",
    "df['total_cases'] = df.total_cases.str.replace('.','').astype(float)"
   ]
  },
  {
   "cell_type": "code",
   "execution_count": 11,
   "metadata": {},
   "outputs": [],
   "source": [
    "df['new_deaths'] = df.content.str.extract(r'(?:μεθ.*\\w+με\\s+|μεθ.*\\w+με\\s+.*\\s+)(\\w+)(?:\\s+καταγεγραμμένο.*θ[άα]ν[αά]το.*\\s+και.*στη\\s+χώρα.*|\\s+ακόμα\\s+καταγεγραμμένο.*θ[άα]ν[αά]το.*\\s+και.*στη\\s+χώρα.*|\\s+νέο.*θ[άα]ν[αά]το.*και.*στη\\s+χώρα.*|\\s+θ[άα]ν[αά]το.*και.*στη\\s+χώρα.*)',re.IGNORECASE)"
   ]
  },
  {
   "cell_type": "code",
   "execution_count": 12,
   "metadata": {},
   "outputs": [],
   "source": [
    "df['new_deaths'] = df.new_deaths.replace({'μηδέν':'0',\n",
    "                                          'κανέναν':'0',\n",
    "                                          'κανένα':'0',\n",
    "                                          \"έναν\": \"1\", \n",
    "                                          \"δύο\": \"2\", \n",
    "                                          'τρεις':'3', \n",
    "                                          'τέσσερις':'4',\n",
    "                                         'πέντε':'5',\n",
    "                                         'έξι':'6',\n",
    "                                         'εφτά':'7',\n",
    "                                         'επτά':'7',\n",
    "                                         'οχτώ':'8',\n",
    "                                         'οκτώ':'8',\n",
    "                                         'εννέα':'9',\n",
    "                                         'ενιά':'9',\n",
    "                                         'δέκα':'10',\n",
    "                                         'έντεκα':'11',\n",
    "                                         'δώδεκα':'12'}).astype(float)"
   ]
  },
  {
   "cell_type": "code",
   "execution_count": 13,
   "metadata": {},
   "outputs": [],
   "source": [
    "df['total_deaths'] = df.content.str.extract(r'θ[άα]ν[αά]το[υς ]{,3}.*?([0-9]{3})\\s*θ[άα]ν[αά]το[υς ]{,3}.*?στη\\s+χώρα',re.IGNORECASE).astype(float)"
   ]
  },
  {
   "cell_type": "code",
   "execution_count": 14,
   "metadata": {},
   "outputs": [],
   "source": [
    "df['intubated'] = df.content.str.extract(r'(\\d+)\\s+συμπολίτες\\s+μας\\s+νοσηλεύονται\\s+διασωληνωμένοι').astype(float)"
   ]
  },
  {
   "cell_type": "code",
   "execution_count": 15,
   "metadata": {},
   "outputs": [],
   "source": [
    "df['total_tests'] = df.content.str.extract(r'ελεγχθεί.*(\\d+|\\d+[.]\\d+)\\s+κλινικά\\s+δείγματα',re.IGNORECASE)\n",
    "df['total_tests'] = df.total_tests.str.replace('.','').astype(float)"
   ]
  },
  {
   "cell_type": "code",
   "execution_count": 16,
   "metadata": {},
   "outputs": [
    {
     "data": {
      "text/html": [
       "<div>\n",
       "<style scoped>\n",
       "    .dataframe tbody tr th:only-of-type {\n",
       "        vertical-align: middle;\n",
       "    }\n",
       "\n",
       "    .dataframe tbody tr th {\n",
       "        vertical-align: top;\n",
       "    }\n",
       "\n",
       "    .dataframe thead th {\n",
       "        text-align: right;\n",
       "    }\n",
       "</style>\n",
       "<table border=\"1\" class=\"dataframe\">\n",
       "  <thead>\n",
       "    <tr style=\"text-align: right;\">\n",
       "      <th></th>\n",
       "      <th>content</th>\n",
       "      <th>title</th>\n",
       "      <th>url</th>\n",
       "      <th>date</th>\n",
       "      <th>new_cases</th>\n",
       "      <th>total_cases</th>\n",
       "      <th>new_deaths</th>\n",
       "      <th>total_deaths</th>\n",
       "      <th>intubated</th>\n",
       "      <th>total_tests</th>\n",
       "    </tr>\n",
       "  </thead>\n",
       "  <tbody>\n",
       "  </tbody>\n",
       "</table>\n",
       "</div>"
      ],
      "text/plain": [
       "Empty DataFrame\n",
       "Columns: [content, title, url, date, new_cases, total_cases, new_deaths, total_deaths, intubated, total_tests]\n",
       "Index: []"
      ]
     },
     "execution_count": 16,
     "metadata": {},
     "output_type": "execute_result"
    }
   ],
   "source": [
    "df[df.total_deaths.isnull()]"
   ]
  },
  {
   "cell_type": "code",
   "execution_count": 17,
   "metadata": {},
   "outputs": [],
   "source": [
    "#current total number of cases, according to content scraped/data extracted\n",
    "totalcases_s = df.total_cases[0]\n",
    "#current number of new cases, according to content scraped/data extracted\n",
    "newcases_s = df.new_cases[0]\n",
    "\n",
    "#current total number of deaths, according to content scraped/data extracted\n",
    "totaldeaths_s = df.total_deaths[0]\n",
    "#current number of new deaths, according to content scraped/data extracted\n",
    "newdeaths_s = df.new_deaths[0]\n",
    "\n",
    "#current total number of intubated patiens, according to content scraped/data extracted\n",
    "intub_s = df.intubated[0]\n",
    "\n",
    "#current total number of tests, according to content scraped/data extracted\n",
    "totaltests_s = df['total_tests'][0]\n",
    "\n",
    "#the date of latest official announcement scraped\n",
    "date_s = df['date'][0]\n",
    "\n",
    "#today\n",
    "today = pd.datetime.today().strftime(\"%Y-%m-%d\")"
   ]
  },
  {
   "cell_type": "code",
   "execution_count": 18,
   "metadata": {},
   "outputs": [],
   "source": [
    "greece = pd.read_csv('https://raw.githubusercontent.com/iMEdD-Lab/open-data/master/COVID-19/greece.csv')\n",
    "# ('https://docs.google.com/spreadsheets/d/e/2PACX-1vRpR8AOJaRsB5by7H3R_GijtaY06J8srELipebO5B0jYEg9pKugT3C6Rk2RSQ5eyerQl7LolshamK27/pub?gid=1017539712&single=true&output=csv')\n",
    "\n",
    "#total number of cases in our current dataset\n",
    "greececasessum = greece.cases.sum()\n",
    "#number of cases for which location remains unknown in our current dataset\n",
    "greececasesunknown = greece[greece['county_en'] == 'Unknown']['cases']\n",
    "\n",
    "#total number of deaths in our current dataset\n",
    "greecedeadsum = greece.dead.sum()\n",
    "#number of deaths for which location remains unknown in our current dataset\n",
    "greecedeadunknown = greece[greece['county_en'] == 'Unknown']['dead']\n",
    "\n",
    "#total number of intubated patients in our current dataset\n",
    "greeceintubsum = greece.critical.sum()\n",
    "#number of intubated patients whose region of origin remains unknown in our current dataset\n",
    "greeceintubunknown = greece[greece['county_en'] == 'Unknown']['critical']"
   ]
  },
  {
   "cell_type": "code",
   "execution_count": 19,
   "metadata": {},
   "outputs": [
    {
     "data": {
      "text/plain": [
       "<Response [200]>"
      ]
     },
     "execution_count": 19,
     "metadata": {},
     "output_type": "execute_result"
    }
   ],
   "source": [
    "if date_s == today:\n",
    "\n",
    "    if greececasessum < totalcases_s and greececasessum+newcases_s == totalcases_s:\n",
    "        greececasesunknown = greececasesunknown+(totalcases_s-greececasessum)\n",
    "        greece.loc[greece['county_en'] == 'Unknown', 'cases'] = greececasesunknown\n",
    "\n",
    "    #     greece.to_csv('greece_auto_test.csv', index=False)\n",
    "        greececases = 'greece.cases was updated and stored.'\n",
    "\n",
    "    elif greececasessum < totalcases_s and greececasessum+newcases_s != totalcases_s:\n",
    "        greececases = 'Be careful: Something goes wrong with cases announced!!!'\n",
    "\n",
    "    elif greececasessum >= totalcases_s:\n",
    "        greececases = 'Cool: greece.cases is updated!'\n",
    "\n",
    "    else:\n",
    "        greececases = 'Sorry, I do not know what is happening with greece.cases!'\n",
    "\n",
    "\n",
    "\n",
    "    if greecedeadsum < totaldeaths_s: \n",
    "    # and greecedeadsum+newdeaths_s == totaldeaths_s:\n",
    "        greecedeadunknown = greecedeadunknown+(totaldeaths_s-greecedeadsum)\n",
    "        greece.loc[greece['county_en'] == 'Unknown', 'dead'] = greecedeadunknown\n",
    "\n",
    "    #     greece.to_csv('greece_auto_test.csv', index=False)\n",
    "        greecedead = 'greece.dead was updated and stored.'\n",
    "\n",
    "    # elif greecedeadsum < totaldeaths_s and greecedeadsum+newdeaths_s != totaldeaths_s:\n",
    "    #     greecedead = 'Be careful: Something goes wrong with deaths announced!!!'\n",
    "\n",
    "    elif greecedeadsum >= totaldeaths_s:\n",
    "        greecedead = 'Cool: greece.dead is updated!'\n",
    "\n",
    "    else:\n",
    "        greecedead = 'Sorry, I do not know what is happening with greece.dead!'\n",
    "\n",
    "\n",
    "\n",
    "    if greeceintubsum != intub_s and greeceintubsum == greeceintubunknown.tolist()[0]:\n",
    "        greeceintubunknown = intub_s\n",
    "        greece.loc[greece['county_en'] == 'Unknown', 'critical'] = greeceintubunknown\n",
    "\n",
    "    #     greece.to_csv('greece_auto_test.csv', index=False)\n",
    "        greeceintub = 'greece.critical was updated and stored.'\n",
    "\n",
    "    elif greeceintubsum == intub_s:\n",
    "        greeceintub = 'Cool: greece.critical is updated!'\n",
    "\n",
    "    else:\n",
    "        greeceintub = 'Sorry, I do not know what is happening with greece.critical!'\n",
    "\n",
    "\n",
    "    greece.to_csv('greece_autobriefing_test.csv',index=False)\n",
    "\n",
    "\n",
    "    if greececases == 'greece.cases was updated and stored.' or greecedead == 'greece.dead was updated and stored.' or greeceintub == 'greece.critical was updated and stored.':\n",
    "\n",
    "        greecetext = greececases+' '+greecedead+' '+greeceintub+' '+'greece_auto_test.csv has been saved.' \n",
    "\n",
    "    else: \n",
    "        \n",
    "        greecetext = greececases+' '+greecedead+' '+greeceintub\n",
    "    \n",
    "    \n",
    "else:\n",
    "    greecetext = 'Latest announcement published refers to '+str(date_s)+'. So, greece.csv should be updated.'    \n",
    "\n",
    "def send_greece_briefing_message():\n",
    "    return requests.post(\n",
    "        \"https://api.mailgun.net/v3/sandbox37a74ec9e7a84f1985f2d899c65875a2.mailgun.org/messages\",\n",
    "        auth=(\"api\",\"key-318fa905396be76b359c46f1ab6d01cf\"),\n",
    "#         files=[(\"attachment\", open(f'CSVs/report{time.strftime(\"%Y_%m_%d-%H_%M\")}.csv'))],\n",
    "        data={\"from\": \"AUTOMATED REPORT <mailgun@sandbox37a74ec9e7a84f1985f2d899c65875a2.mailgun.org>\",\n",
    "            \"to\": [\"lab@imedd.org\"],\n",
    "            \"subject\": \"greece: Daily Briefing Update - Min of HEALTH\",\n",
    "            \"text\": greecetext})\n",
    "\n",
    "send_greece_briefing_message()"
   ]
  },
  {
   "cell_type": "code",
   "execution_count": 20,
   "metadata": {},
   "outputs": [
    {
     "data": {
      "text/plain": [
       "'Cool: greece.cases is updated! Cool: greece.dead is updated! Cool: greece.critical is updated!'"
      ]
     },
     "execution_count": 20,
     "metadata": {},
     "output_type": "execute_result"
    }
   ],
   "source": [
    "greecetext"
   ]
  },
  {
   "cell_type": "code",
   "execution_count": 21,
   "metadata": {},
   "outputs": [],
   "source": [
    "greeceTimeline = pd.read_csv('https://raw.githubusercontent.com/iMEdD-Lab/open-data/master/COVID-19/greeceTimeline.csv')\n",
    "# greeceTimeline = greeceTimeline.drop(greeceTimeline.columns[-1],axis=1)\n",
    "grt = greeceTimeline\n",
    "grt = grt.drop([\"Province/State\", \"Country/Region\"], axis=1)\n",
    "grt = grt.set_index(\"Status\")\n",
    "grt = grt.T\n",
    "grt = grt.reset_index()\n",
    "grt = grt.rename(columns={\"index\": \"date\"})\n",
    "grt['date'] = pd.to_datetime(grt['date']).dt.strftime(\"%Y-%m-%d\")\n",
    "\n",
    "last_date = grt['date'].iloc[-1]\n",
    "\n",
    "# grt.tail()"
   ]
  },
  {
   "cell_type": "code",
   "execution_count": 22,
   "metadata": {},
   "outputs": [
    {
     "data": {
      "text/plain": [
       "<Response [200]>"
      ]
     },
     "execution_count": 22,
     "metadata": {},
     "output_type": "execute_result"
    }
   ],
   "source": [
    "timeline = {}\n",
    "# if grt['date'].iloc[-1] < df['date'][0]:\n",
    "if last_date < today and date_s == today:\n",
    "\n",
    "    timeline['date'] = date_s\n",
    "    timeline['cases'] = newcases_s\n",
    "    timeline['total cases'] = totalcases_s\n",
    "    timeline['deaths'] = newdeaths_s\n",
    "    timeline['intubated'] = intub_s\n",
    "    timeline['total_tests'] = totaltests_s\n",
    "     \n",
    "    grt = grt.append(timeline,ignore_index=True)\n",
    "    \n",
    "    grt['date'] = grt.date.astype(str)\n",
    "    grt['year'] = grt.date.str.extract(r'(\\d\\d)\\d\\d-\\d\\d-\\d\\d')\n",
    "    grt['month'] = grt.date.str.extract(r'\\d\\d\\d\\d-(\\d\\d)-\\d\\d')\n",
    "    grt['month'] = grt.month.replace({'01':'1',\n",
    "                                   '02':'2',\n",
    "                                   '03':'3',\n",
    "                                   '04':'4',\n",
    "                                   '05':'5',\n",
    "                                   '06':'6',\n",
    "                                   '07':'7',\n",
    "                                   '08':'8',\n",
    "                                   '09':'9'})\n",
    "    grt['day'] = grt.date.str.extract(r'\\d\\d\\d\\d-\\d\\d-(\\d\\d)')\n",
    "    grt['day'] = grt.day.replace({'01':'1',\n",
    "                               '02':'2',\n",
    "                               '03':'3',\n",
    "                               '04':'4',\n",
    "                               '05':'5',\n",
    "                               '06':'6',\n",
    "                               '07':'7',\n",
    "                               '08':'8',\n",
    "                               '09':'9'})\n",
    "    grt['date2'] = grt.month+'/'+grt.day+'/'+grt.year\n",
    "    grt = grt.drop(['date','year','month','day'],axis=1)\n",
    "    \n",
    "    grt = grt.set_index('date2').T.reset_index()\n",
    "    grt = grt[['Status',grt.columns[-1]]].copy()\n",
    "    grt_new = pd.merge(greeceTimeline,grt,on='Status',how='outer')\n",
    "\n",
    "    grt_new.to_csv('greeceTimeline_autobriefing_test.csv',index=False)\n",
    "    \n",
    "    greeceTimeline_text = 'Daily update: greeceTimeline appended and greeceTimeline_autobriefing_test.csv has been saved.'\n",
    "\n",
    "elif last_date < today and date_s != today:\n",
    "    \n",
    "    greeceTimeline_text = 'greece.Timeline is not updated, because no announcement has been out for today. Please wait or check out what is happening!'\n",
    "    \n",
    "elif last_date == today:\n",
    "    \n",
    "    greeceTimeline_text = 'Cool: greece.Timeline is updated!'\n",
    "\n",
    "else: \n",
    "    greeceTimeline_text = 'Sorry, I do not know what is happening with greece.Timeline!'\n",
    "\n",
    "    \n",
    "def send_greeceTimeline_briefing_message():\n",
    "    return requests.post(\n",
    "        \"https://api.mailgun.net/v3/sandbox37a74ec9e7a84f1985f2d899c65875a2.mailgun.org/messages\",\n",
    "        auth=(\"api\",\"key-318fa905396be76b359c46f1ab6d01cf\"),\n",
    "#         files=[(\"attachment\", open(f'CSVs/report{time.strftime(\"%Y_%m_%d-%H_%M\")}.csv'))],\n",
    "        data={\"from\": \"AUTOMATED REPORT <mailgun@sandbox37a74ec9e7a84f1985f2d899c65875a2.mailgun.org>\",\n",
    "            \"to\": [\"lab@imedd.org\"],\n",
    "            \"subject\": \"greeceTimeline: Daily Briefing Update - Min of HEALTH\",\n",
    "            \"text\": greeceTimeline_text})\n",
    "\n",
    "send_greeceTimeline_briefing_message()\n",
    "#grt_new"
   ]
  },
  {
   "cell_type": "code",
   "execution_count": 23,
   "metadata": {},
   "outputs": [
    {
     "data": {
      "text/plain": [
       "'Cool: greece.Timeline is updated!'"
      ]
     },
     "execution_count": 23,
     "metadata": {},
     "output_type": "execute_result"
    }
   ],
   "source": [
    "greeceTimeline_text"
   ]
  },
  {
   "cell_type": "code",
   "execution_count": null,
   "metadata": {},
   "outputs": [],
   "source": []
  }
 ],
 "metadata": {
  "kernelspec": {
   "display_name": "Python 3",
   "language": "python",
   "name": "python3"
  },
  "language_info": {
   "codemirror_mode": {
    "name": "ipython",
    "version": 3
   },
   "file_extension": ".py",
   "mimetype": "text/x-python",
   "name": "python",
   "nbconvert_exporter": "python",
   "pygments_lexer": "ipython3",
   "version": "3.7.4"
  }
 },
 "nbformat": 4,
 "nbformat_minor": 2
}
