{
 "cells": [
  {
   "cell_type": "code",
   "execution_count": 1,
   "metadata": {},
   "outputs": [
    {
     "name": "stderr",
     "output_type": "stream",
     "text": [
      "C:\\Users\\k.kiki\\AppData\\Local\\Programs\\Python\\Python37-32\\lib\\site-packages\\ipykernel_launcher.py:12: UserWarning: Warning Simulation\n",
      "  if sys.path[0] == '':\n"
     ]
    }
   ],
   "source": [
    "import pandas as pd\n",
    "import datetime\n",
    "import re\n",
    "import requests\n",
    "from requests import get\n",
    "from bs4 import BeautifulSoup\n",
    "import warnings\n",
    "from time import sleep\n",
    "from random import randint\n",
    "from time import time\n",
    "timestart_time = time()\n",
    "warnings.warn('Warning Simulation')\n",
    "from IPython.core.display import clear_output"
   ]
  },
  {
   "cell_type": "code",
   "execution_count": 2,
   "metadata": {},
   "outputs": [],
   "source": [
    "pd.set_option('display.max_colwidth', -1)\n",
    "pd.set_option('display.max_rows', 500)\n",
    "pd.set_option('display.max_columns', 500)\n",
    "pd.set_option('display.width', 1000)"
   ]
  },
  {
   "cell_type": "code",
   "execution_count": null,
   "metadata": {},
   "outputs": [],
   "source": []
  },
  {
   "cell_type": "code",
   "execution_count": 3,
   "metadata": {},
   "outputs": [
    {
     "data": {
      "text/html": [
       "<div>\n",
       "<style scoped>\n",
       "    .dataframe tbody tr th:only-of-type {\n",
       "        vertical-align: middle;\n",
       "    }\n",
       "\n",
       "    .dataframe tbody tr th {\n",
       "        vertical-align: top;\n",
       "    }\n",
       "\n",
       "    .dataframe thead th {\n",
       "        text-align: right;\n",
       "    }\n",
       "</style>\n",
       "<table border=\"1\" class=\"dataframe\">\n",
       "  <thead>\n",
       "    <tr style=\"text-align: right;\">\n",
       "      <th></th>\n",
       "      <th>title</th>\n",
       "      <th>url</th>\n",
       "      <th>date</th>\n",
       "    </tr>\n",
       "  </thead>\n",
       "  <tbody>\n",
       "    <tr>\n",
       "      <td>0</td>\n",
       "      <td>Ανακοίνωση για την εξέλιξη της νόσου COVID-19 στη χώρα μας (20/5/2020)</td>\n",
       "      <td>https://eody.gov.gr/0520_briefing_covid19/</td>\n",
       "      <td>2020-05-20</td>\n",
       "    </tr>\n",
       "    <tr>\n",
       "      <td>1</td>\n",
       "      <td>Eνημέρωση διαπιστευμένων συντακτών υγείας από τον Υφυπουργό Πολιτικής Προστασίας και Διαχείρισης Κρίσεων Νίκο Χαρδαλιά και τον εκπρόσωπο του Υπουργείου Υγείας για το νέο κορονοϊό, Καθηγητή Σωτήρη Τσιόδρα (19/5/2020)</td>\n",
       "      <td>https://eody.gov.gr/0519_briefing_covid19/</td>\n",
       "      <td>2020-05-19</td>\n",
       "    </tr>\n",
       "    <tr>\n",
       "      <td>2</td>\n",
       "      <td>Ανακοίνωση για την εξέλιξη της νόσου COVID-19 στη χώρα μας (18/5/2020)</td>\n",
       "      <td>https://eody.gov.gr/anakoinosi-gia-tin-exelixi-tis-nosoy-covid-19-sti-chora-mas-18-5-2020/</td>\n",
       "      <td>2020-05-18</td>\n",
       "    </tr>\n",
       "    <tr>\n",
       "      <td>3</td>\n",
       "      <td>Ενημέρωση διαπιστευμένων συντακτών υγείας από τον Υφυπουργό Πολιτικής Προστασίας και Διαχείρισης Κρίσεων Νίκο Χαρδαλιά, τον Παθολόγο-Λοιμωξιολόγο, Υποπτέραρχο Δημήτρη Χατζηγεωργίου και τον Υφυπουργό Ανάπτυξης και Επενδύσεων Νίκο Παπαθανάση (17/5/2020)</td>\n",
       "      <td>https://eody.gov.gr/0517_briefing_covid19/</td>\n",
       "      <td>2020-05-17</td>\n",
       "    </tr>\n",
       "    <tr>\n",
       "      <td>4</td>\n",
       "      <td>Ανακοίνωση για την εξέλιξη της νόσου COVID-19 στη χώρα μας (16/5/2020)</td>\n",
       "      <td>https://eody.gov.gr/anakoinosi-gia-tin-exelixi-tis-nosoy-covid-19-sti-chora-mas-16-5-2020/</td>\n",
       "      <td>2020-05-16</td>\n",
       "    </tr>\n",
       "    <tr>\n",
       "      <td>5</td>\n",
       "      <td>Ενημέρωση διαπιστευμένων συντακτών υγείας από τον  Υφυπουργό Πολιτικής Προστασίας και Διαχείρισης Κρίσεων  Νίκο Χαρδαλιά και τον εκπρόσωπο του Υπουργείου Υγείας  για το νέο κορονοϊό, Καθηγητή Σωτήρη Τσιόδρα</td>\n",
       "      <td>https://eody.gov.gr/enimerosi-diapisteymenon-syntakton-ygeias-apo-ton-yfypoyrgo-politikis-prostasias-kai-diacheirisis-kriseon-niko-chardalia-kai-ton-ekprosopo-toy-ypoyrgeioy-ygeias-gia-to-neo-koronoio-kathigiti-sotir-7/</td>\n",
       "      <td>NaT</td>\n",
       "    </tr>\n",
       "  </tbody>\n",
       "</table>\n",
       "</div>"
      ],
      "text/plain": [
       "                                                                                                                                                                                                                                                         title                                                                                                                                                                                                                          url        date\n",
       "0  Ανακοίνωση για την εξέλιξη της νόσου COVID-19 στη χώρα μας (20/5/2020)                                                                                                                                                                                       https://eody.gov.gr/0520_briefing_covid19/                                                                                                                                                                                   2020-05-20\n",
       "1  Eνημέρωση διαπιστευμένων συντακτών υγείας από τον Υφυπουργό Πολιτικής Προστασίας και Διαχείρισης Κρίσεων Νίκο Χαρδαλιά και τον εκπρόσωπο του Υπουργείου Υγείας για το νέο κορονοϊό, Καθηγητή Σωτήρη Τσιόδρα (19/5/2020)                                      https://eody.gov.gr/0519_briefing_covid19/                                                                                                                                                                                   2020-05-19\n",
       "2  Ανακοίνωση για την εξέλιξη της νόσου COVID-19 στη χώρα μας (18/5/2020)                                                                                                                                                                                       https://eody.gov.gr/anakoinosi-gia-tin-exelixi-tis-nosoy-covid-19-sti-chora-mas-18-5-2020/                                                                                                                                   2020-05-18\n",
       "3  Ενημέρωση διαπιστευμένων συντακτών υγείας από τον Υφυπουργό Πολιτικής Προστασίας και Διαχείρισης Κρίσεων Νίκο Χαρδαλιά, τον Παθολόγο-Λοιμωξιολόγο, Υποπτέραρχο Δημήτρη Χατζηγεωργίου και τον Υφυπουργό Ανάπτυξης και Επενδύσεων Νίκο Παπαθανάση (17/5/2020)  https://eody.gov.gr/0517_briefing_covid19/                                                                                                                                                                                   2020-05-17\n",
       "4  Ανακοίνωση για την εξέλιξη της νόσου COVID-19 στη χώρα μας (16/5/2020)                                                                                                                                                                                       https://eody.gov.gr/anakoinosi-gia-tin-exelixi-tis-nosoy-covid-19-sti-chora-mas-16-5-2020/                                                                                                                                   2020-05-16\n",
       "5  Ενημέρωση διαπιστευμένων συντακτών υγείας από τον  Υφυπουργό Πολιτικής Προστασίας και Διαχείρισης Κρίσεων  Νίκο Χαρδαλιά και τον εκπρόσωπο του Υπουργείου Υγείας  για το νέο κορονοϊό, Καθηγητή Σωτήρη Τσιόδρα                                               https://eody.gov.gr/enimerosi-diapisteymenon-syntakton-ygeias-apo-ton-yfypoyrgo-politikis-prostasias-kai-diacheirisis-kriseon-niko-chardalia-kai-ton-ekprosopo-toy-ypoyrgeioy-ygeias-gia-to-neo-koronoio-kathigiti-sotir-7/  NaT       "
      ]
     },
     "execution_count": 3,
     "metadata": {},
     "output_type": "execute_result"
    }
   ],
   "source": [
    "raw_html = requests.get('https://eody.gov.gr/category/deltia-typoy/')\n",
    "soup = BeautifulSoup(raw_html.content, \"html.parser\") \n",
    "articles_container = soup.find('div',{'class':'articles-container'})\n",
    "titles = articles_container.find_all('a', href=True)\n",
    "\n",
    "# if 'νακοίνωση για την εξέλιξη της νόσου COVID-19 στη χώρα μας' in titles[0].text:\n",
    "#     print(titles[0].text,titles[0].get('href'))\n",
    "# else:\n",
    "#     print(titles[0].text,titles[0].get('href')+', but you do not care about this announcement!!!')\n",
    "\n",
    "frame = []\n",
    "\n",
    "for t in titles:\n",
    "    entries = {}\n",
    "    \n",
    "    if 'νακοίνωση για την εξέλιξη της νόσου COVID-19 στη χώρα μας' in t.text\\\n",
    "        or 'νημέρωση διαπιστευμένων συντακτών υγείας από' in t.text:\n",
    "\n",
    "        entries['title'] = t.text\n",
    "        entries['url'] = t.get('href')\n",
    "\n",
    "        frame.append(entries)\n",
    "    \n",
    "frame = pd.DataFrame(frame)\n",
    "frame['date'] = frame.title.str.extract(r'[(](\\d+\\/\\d+\\/\\d+)[)]')\n",
    "frame['date'] = pd.to_datetime(frame['date'])\n",
    "frame['date'] = pd.to_datetime(frame[\"date\"], format=\"%Y-%m-%d\").dt.strftime(\"%Y-%m-%d\")\n",
    "\n",
    "frame"
   ]
  },
  {
   "cell_type": "code",
   "execution_count": 4,
   "metadata": {},
   "outputs": [],
   "source": [
    "def get_press_release(row):\n",
    "    page = requests.get(row['url'])\n",
    "    soup_doc = BeautifulSoup(page.content, \"html.parser\") \n",
    "    \n",
    "    par = ''\n",
    "    for p in soup_doc.find_all('p'):\n",
    "        par = par+p.text.strip()\n",
    "        \n",
    "    return pd.Series({\n",
    "    'content': par \n",
    "    })   "
   ]
  },
  {
   "cell_type": "code",
   "execution_count": 5,
   "metadata": {},
   "outputs": [],
   "source": [
    "df = frame.apply(get_press_release, axis=1).join(frame)\n",
    "# df.head()"
   ]
  },
  {
   "cell_type": "code",
   "execution_count": 6,
   "metadata": {},
   "outputs": [],
   "source": [
    "df['new_cases'] = df.content.str.extract(r'.*[aα]νακοινώνο\\w+\\s+(\\d+)\\s+νέα\\s+κρούσματα',re.IGNORECASE).astype(float)\n",
    "df['total_cases'] = df.content.str.extract(r'συνολικός\\s+αριθμός.*κρουσμάτων\\s+είναι\\s+(\\d+[.]?\\d+)',re.IGNORECASE)\n",
    "df['total_cases'] = df.total_cases.str.replace('.','').astype(float)"
   ]
  },
  {
   "cell_type": "code",
   "execution_count": 7,
   "metadata": {},
   "outputs": [],
   "source": [
    "# df['new_deaths'] = df.content.str.extract(r'(?:μεθ.*\\s+)(\\w+|\\d+)(?:\\s+ακόμα\\s+καταγεγραμμένο.*θ[άα]ν[αά]το.*και)',re.IGNORECASE)\n",
    "#σήμερα καταγράφουμε μηδέν θανάτους και συνολικά στη χώρα έχουμε καταγράψει\n",
    "df['new_deaths'] = df.content.str.extract(r'(?:μεθ.*\\w+με\\s+|μεθ.*\\w+με\\s+ακόμα\\s+)(\\w+)(?:\\s+καταγεγραμμένο.*θ[άα]ν[αά]το.*\\s+και.*στη\\s+χώρα.*|\\s+ακόμα\\s+καταγεγραμμένο.*θ[άα]ν[αά]το.*\\s+και.*στη\\s+χώρα.*|\\s+νέο.*θ[άα]ν[αά]το.*και.*στη\\s+χώρα.*|\\s+θ[άα]ν[αά]το.*και.*στη\\s+χώρα.*)',re.IGNORECASE)"
   ]
  },
  {
   "cell_type": "code",
   "execution_count": 8,
   "metadata": {},
   "outputs": [],
   "source": [
    "df['new_deaths'] = df.new_deaths.replace({'μηδέν':'0',\n",
    "                                          'κανέναν':'0',\n",
    "                                          'κανένα':'0',\n",
    "                                          \"έναν\": \"1\", \n",
    "                                          \"δύο\": \"2\", \n",
    "                                          'τρεις':'3', \n",
    "                                          'τέσσερις':'4',\n",
    "                                         'πέντε':'5',\n",
    "                                         'έξι':'6',\n",
    "                                         'εφτά':'7',\n",
    "                                         'επτά':'7',\n",
    "                                         'οχτώ':'8',\n",
    "                                         'οκτώ':'8',\n",
    "                                         'εννέα':'9',\n",
    "                                         'ενιά':'9',\n",
    "                                         'δέκα':'10',\n",
    "                                         'έντεκα':'11',\n",
    "                                         'δώδεκα':'12'}).astype(float)"
   ]
  },
  {
   "cell_type": "code",
   "execution_count": 9,
   "metadata": {},
   "outputs": [],
   "source": [
    "df['total_deaths'] = df.content.str.extract(\\\n",
    "                    r'(?:.*θ[άα]ν[αά]το.*και.*?\\s+)(\\d+).*?\\s+θ[άα]ν[αά]τους.*?\\s+στη\\s+χώρα',\\\n",
    "                                           re.IGNORECASE).astype(float)"
   ]
  },
  {
   "cell_type": "code",
   "execution_count": 10,
   "metadata": {},
   "outputs": [],
   "source": [
    "df['intubated'] = df.content.str.extract(r'(\\d+)\\s+συμπολίτες\\s+μας\\s+νοσηλεύονται\\s+διασωληνωμένοι').astype(float)"
   ]
  },
  {
   "cell_type": "code",
   "execution_count": 11,
   "metadata": {},
   "outputs": [],
   "source": [
    "df['total_tests'] = df.content.str.extract(r'.*\\s+ελεγχθεί\\s+(\\d+[.]?\\d+)\\s+κλινικά\\s+δείγματα',re.IGNORECASE)\n",
    "df['total_tests'] = df.total_tests.str.replace('.','').astype(float)"
   ]
  },
  {
   "cell_type": "code",
   "execution_count": 12,
   "metadata": {},
   "outputs": [],
   "source": [
    "# df.head()"
   ]
  },
  {
   "cell_type": "code",
   "execution_count": 13,
   "metadata": {},
   "outputs": [],
   "source": [
    "# df.new_cases.value_counts(dropna=False)"
   ]
  },
  {
   "cell_type": "code",
   "execution_count": 14,
   "metadata": {},
   "outputs": [],
   "source": [
    "# df.total_cases.value_counts(dropna=False)"
   ]
  },
  {
   "cell_type": "code",
   "execution_count": 15,
   "metadata": {},
   "outputs": [],
   "source": [
    "# df.new_deaths.value_counts(dropna=False)"
   ]
  },
  {
   "cell_type": "code",
   "execution_count": 16,
   "metadata": {},
   "outputs": [],
   "source": [
    "# df.total_deaths.value_counts(dropna=False)"
   ]
  },
  {
   "cell_type": "code",
   "execution_count": 17,
   "metadata": {},
   "outputs": [],
   "source": [
    "# df.intubated.value_counts(dropna=False)"
   ]
  },
  {
   "cell_type": "code",
   "execution_count": 18,
   "metadata": {},
   "outputs": [],
   "source": [
    "# df.total_tests.value_counts(dropna=False)"
   ]
  },
  {
   "cell_type": "code",
   "execution_count": 19,
   "metadata": {},
   "outputs": [],
   "source": [
    "# df[df.total_tests.isnull()]"
   ]
  },
  {
   "cell_type": "code",
   "execution_count": null,
   "metadata": {},
   "outputs": [],
   "source": []
  },
  {
   "cell_type": "code",
   "execution_count": null,
   "metadata": {},
   "outputs": [],
   "source": []
  },
  {
   "cell_type": "code",
   "execution_count": 20,
   "metadata": {},
   "outputs": [],
   "source": [
    "greece = pd.read_csv('https://raw.githubusercontent.com/iMEdD-Lab/open-data/master/COVID-19/greece.csv')\n",
    "# greece.head()"
   ]
  },
  {
   "cell_type": "code",
   "execution_count": 21,
   "metadata": {},
   "outputs": [
    {
     "name": "stdout",
     "output_type": "stream",
     "text": [
      "Latest announcement published refers to 2020-05-20. So, you should be updated.\n"
     ]
    }
   ],
   "source": [
    "if df['date'][0] == pd.datetime.today().strftime(\"%Y-%m-%d\"):\n",
    "\n",
    "\n",
    "    if greece.cases.sum() < df.total_cases[0] and greece.cases.sum()+df.new_cases[0] == df.total_cases[0]:\n",
    "        greece[greece['county_en'] == 'Unknown']['cases'] = greece[greece['county_en'] == 'Unknown']['cases']+(df.total_cases[0]-greece.cases.sum())\n",
    "        greece.to_csv('greece_auto_test.csv')\n",
    "        print('greece.cases was updated and greece_auto_test.csv has been saved')\n",
    "\n",
    "    elif greece.cases.sum() < df.total_cases[0] and greece.cases.sum()+df.new_cases[0] != df.total_cases[0]:\n",
    "        print('Be careful: Something goes wrong with cases announced!!!')\n",
    "\n",
    "    elif greece.cases.sum() >= df.total_cases[0]:\n",
    "        print('Cool: greece.cases is updated!')\n",
    "        \n",
    "    else:\n",
    "        print('Sorry, I do not know what is happening with greece.cases!')\n",
    "\n",
    "\n",
    "\n",
    "    if greece.dead.sum() < df.total_deaths[0] and greece.dead.sum()+df.new_deaths[0] == df.total_deaths[0]:\n",
    "        greece[greece['county_en'] == 'Unknown']['dead'] = greece[greece['county_en'] == 'Unknown']['cases']+df.new_deaths[0]\n",
    "        greece.to_csv('greece_auto_test.csv')\n",
    "        print('greece.dead was updated and greece_auto_test.csv has been saved')\n",
    "\n",
    "    elif greece.dead.sum() < df.total_deaths[0] and greece.dead.sum()+df.new_deaths[0] != df.total_deaths[0]:\n",
    "        print('Be careful: Something goes wrong with deaths announced!!!')\n",
    "        \n",
    "    elif greece.dead.sum() >= df.total_deaths[0]:\n",
    "        print('Cool: greece.dead is updated!')\n",
    "\n",
    "    else:\n",
    "        print('Sorry, I do not know what is happening with greece.dead!')\n",
    "\n",
    "\n",
    "    if greece.critical.sum() != df.intubated[0]:\n",
    "        greece[greece['county_en'] == 'Unknown']['critical'] = greece[greece['county_en'] == 'Unknown']['critical']+(df.intubated[0]-greece.critical.sum())\n",
    "        greece.to_csv('greece_auto_test.csv')\n",
    "        print('greece.critical was updated and greece_auto_test.csv has been saved')\n",
    "\n",
    "    elif greece.critical.sum() == df.intubated[0]:\n",
    "        print('Cool: greece.critical is updated!')\n",
    "        \n",
    "    else:\n",
    "        print('Sorry, I do not know what is happening with greece.critical!')\n",
    "\n",
    "        \n",
    "else:\n",
    "    print('Latest announcement published refers to '+str(df['date'][0])+'. So, you should be updated.')\n"
   ]
  },
  {
   "cell_type": "code",
   "execution_count": null,
   "metadata": {},
   "outputs": [],
   "source": []
  },
  {
   "cell_type": "code",
   "execution_count": 22,
   "metadata": {},
   "outputs": [
    {
     "data": {
      "text/html": [
       "<div>\n",
       "<style scoped>\n",
       "    .dataframe tbody tr th:only-of-type {\n",
       "        vertical-align: middle;\n",
       "    }\n",
       "\n",
       "    .dataframe tbody tr th {\n",
       "        vertical-align: top;\n",
       "    }\n",
       "\n",
       "    .dataframe thead th {\n",
       "        text-align: right;\n",
       "    }\n",
       "</style>\n",
       "<table border=\"1\" class=\"dataframe\">\n",
       "  <thead>\n",
       "    <tr style=\"text-align: right;\">\n",
       "      <th>Status</th>\n",
       "      <th>date</th>\n",
       "      <th>cases</th>\n",
       "      <th>cruise_ship_ElVen</th>\n",
       "      <th>Ritsona</th>\n",
       "      <th>deaths</th>\n",
       "      <th>recovered</th>\n",
       "      <th>hospitalized</th>\n",
       "      <th>intensive_care</th>\n",
       "      <th>intubated</th>\n",
       "      <th>total_tests</th>\n",
       "      <th>total cases</th>\n",
       "    </tr>\n",
       "  </thead>\n",
       "  <tbody>\n",
       "    <tr>\n",
       "      <td>80</td>\n",
       "      <td>2020-05-16</td>\n",
       "      <td>9.0</td>\n",
       "      <td>0.0</td>\n",
       "      <td>0.0</td>\n",
       "      <td>1.0</td>\n",
       "      <td>NaN</td>\n",
       "      <td>NaN</td>\n",
       "      <td>NaN</td>\n",
       "      <td>23.0</td>\n",
       "      <td>126283.0</td>\n",
       "      <td>2819.0</td>\n",
       "    </tr>\n",
       "    <tr>\n",
       "      <td>81</td>\n",
       "      <td>2020-05-17</td>\n",
       "      <td>15.0</td>\n",
       "      <td>0.0</td>\n",
       "      <td>0.0</td>\n",
       "      <td>1.0</td>\n",
       "      <td>NaN</td>\n",
       "      <td>NaN</td>\n",
       "      <td>NaN</td>\n",
       "      <td>22.0</td>\n",
       "      <td>128525.0</td>\n",
       "      <td>2834.0</td>\n",
       "    </tr>\n",
       "    <tr>\n",
       "      <td>82</td>\n",
       "      <td>2020-05-18</td>\n",
       "      <td>2.0</td>\n",
       "      <td>0.0</td>\n",
       "      <td>0.0</td>\n",
       "      <td>2.0</td>\n",
       "      <td>NaN</td>\n",
       "      <td>NaN</td>\n",
       "      <td>NaN</td>\n",
       "      <td>24.0</td>\n",
       "      <td>131684.0</td>\n",
       "      <td>2836.0</td>\n",
       "    </tr>\n",
       "    <tr>\n",
       "      <td>83</td>\n",
       "      <td>2020-05-19</td>\n",
       "      <td>4.0</td>\n",
       "      <td>0.0</td>\n",
       "      <td>0.0</td>\n",
       "      <td>1.0</td>\n",
       "      <td>NaN</td>\n",
       "      <td>NaN</td>\n",
       "      <td>NaN</td>\n",
       "      <td>22.0</td>\n",
       "      <td>136001.0</td>\n",
       "      <td>2840.0</td>\n",
       "    </tr>\n",
       "    <tr>\n",
       "      <td>84</td>\n",
       "      <td>2020-05-20</td>\n",
       "      <td>10.0</td>\n",
       "      <td>0.0</td>\n",
       "      <td>0.0</td>\n",
       "      <td>1.0</td>\n",
       "      <td>NaN</td>\n",
       "      <td>NaN</td>\n",
       "      <td>NaN</td>\n",
       "      <td>22.0</td>\n",
       "      <td>139445.0</td>\n",
       "      <td>2850.0</td>\n",
       "    </tr>\n",
       "  </tbody>\n",
       "</table>\n",
       "</div>"
      ],
      "text/plain": [
       "Status        date  cases  cruise_ship_ElVen  Ritsona  deaths  recovered  hospitalized  intensive_care  intubated  total_tests  total cases\n",
       "80      2020-05-16  9.0    0.0                0.0      1.0    NaN        NaN           NaN              23.0       126283.0     2819.0     \n",
       "81      2020-05-17  15.0   0.0                0.0      1.0    NaN        NaN           NaN              22.0       128525.0     2834.0     \n",
       "82      2020-05-18  2.0    0.0                0.0      2.0    NaN        NaN           NaN              24.0       131684.0     2836.0     \n",
       "83      2020-05-19  4.0    0.0                0.0      1.0    NaN        NaN           NaN              22.0       136001.0     2840.0     \n",
       "84      2020-05-20  10.0   0.0                0.0      1.0    NaN        NaN           NaN              22.0       139445.0     2850.0     "
      ]
     },
     "execution_count": 22,
     "metadata": {},
     "output_type": "execute_result"
    }
   ],
   "source": [
    "greeceTimeline = pd.read_csv('https://raw.githubusercontent.com/iMEdD-Lab/open-data/master/COVID-19/greeceTimeline.csv')\n",
    "# greeceTimeline = greeceTimeline.drop(greeceTimeline.columns[-1],axis=1)\n",
    "grt = greeceTimeline\n",
    "grt = grt.drop([\"Province/State\", \"Country/Region\"], axis=1)\n",
    "grt = grt.set_index(\"Status\")\n",
    "grt = grt.T\n",
    "grt = grt.reset_index()\n",
    "grt = grt.rename(columns={\"index\": \"date\"})\n",
    "grt['date'] = pd.to_datetime(grt['date']).dt.strftime(\"%Y-%m-%d\")\n",
    "\n",
    "grt.tail()"
   ]
  },
  {
   "cell_type": "code",
   "execution_count": 23,
   "metadata": {},
   "outputs": [
    {
     "name": "stdout",
     "output_type": "stream",
     "text": [
      "greece.Timeline is not updated, because no announcement has been out for today. Please wait or check out what is happening!\n"
     ]
    }
   ],
   "source": [
    "timeline = {}\n",
    "# if grt['date'].iloc[-1] < df['date'][0]:\n",
    "if grt['date'].iloc[-1] < pd.datetime.today().strftime(\"%Y-%m-%d\") and df['date'][0] == pd.datetime.today().strftime(\"%Y-%m-%d\"):\n",
    "\n",
    "    timeline['date'] = df['date'][0]\n",
    "    timeline['cases'] = df['new_cases'][0]\n",
    "    timeline['total cases'] = df['total_cases'][0]\n",
    "    timeline['deaths'] = df['new_deaths'][0]\n",
    "    timeline['intubated'] = df['intubated'][0]\n",
    "    timeline['total_tests'] = df['total_tests'][0]\n",
    "     \n",
    "    grt = grt.append(timeline,ignore_index=True)\n",
    "    \n",
    "    grt['date'] = grt.date.astype(str)\n",
    "    grt['year'] = grt.date.str.extract(r'(\\d\\d)\\d\\d-\\d\\d-\\d\\d')\n",
    "    grt['month'] = grt.date.str.extract(r'\\d\\d\\d\\d-(\\d\\d)-\\d\\d')\n",
    "    grt['month'] = grt.month.replace({'01':'1',\n",
    "                                   '02':'2',\n",
    "                                   '03':'3',\n",
    "                                   '04':'4',\n",
    "                                   '05':'5',\n",
    "                                   '06':'6',\n",
    "                                   '07':'7',\n",
    "                                   '08':'8',\n",
    "                                   '09':'9'})\n",
    "    grt['day'] = grt.date.str.extract(r'\\d\\d\\d\\d-\\d\\d-(\\d\\d)')\n",
    "    grt['day'] = grt.day.replace({'01':'1',\n",
    "                               '02':'2',\n",
    "                               '03':'3',\n",
    "                               '04':'4',\n",
    "                               '05':'5',\n",
    "                               '06':'6',\n",
    "                               '07':'7',\n",
    "                               '08':'8',\n",
    "                               '09':'9'})\n",
    "    grt['date2'] = grt.month+'/'+grt.day+'/'+grt.year\n",
    "    grt = grt.drop(['date','year','month','day'],axis=1)\n",
    "    \n",
    "    grt = grt.set_index('date2').T.reset_index()\n",
    "    grt = grt[['Status',grt.columns[-1]]].copy()\n",
    "    grt_new = pd.merge(greeceTimeline,grt,on='Status',how='outer')\n",
    "\n",
    "    grt_new.to_csv('greeceTimeline_auto_test.csv')\n",
    "    print('Daily update: greeceTimeline appended and greece_auto_test.csv has been saved')\n",
    "\n",
    "elif grt['date'].iloc[-1] < pd.datetime.today().strftime(\"%Y-%m-%d\") and df['date'][0] != pd.datetime.today().strftime(\"%Y-%m-%d\"):\n",
    "    \n",
    "    print('greece.Timeline is not updated, because no announcement has been out for today. Please wait or check out what is happening!')\n",
    "    \n",
    "elif grt['date'].iloc[-1] == pd.datetime.today().strftime(\"%Y-%m-%d\"):\n",
    "    \n",
    "    print('Cool: greece.Timeline is updated!')\n",
    "\n",
    "else: \n",
    "    print('Sorry, I do not know what is happening with greece.Timeline!')\n",
    "\n",
    "\n",
    "#grt_new"
   ]
  },
  {
   "cell_type": "code",
   "execution_count": null,
   "metadata": {},
   "outputs": [],
   "source": []
  },
  {
   "cell_type": "code",
   "execution_count": null,
   "metadata": {},
   "outputs": [],
   "source": []
  }
 ],
 "metadata": {
  "kernelspec": {
   "display_name": "Python 3",
   "language": "python",
   "name": "python3"
  },
  "language_info": {
   "codemirror_mode": {
    "name": "ipython",
    "version": 3
   },
   "file_extension": ".py",
   "mimetype": "text/x-python",
   "name": "python",
   "nbconvert_exporter": "python",
   "pygments_lexer": "ipython3",
   "version": "3.7.4"
  }
 },
 "nbformat": 4,
 "nbformat_minor": 2
}
